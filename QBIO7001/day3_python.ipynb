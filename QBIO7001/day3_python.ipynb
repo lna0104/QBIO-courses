{
 "cells": [
  {
   "cell_type": "markdown",
   "id": "9f509d0d",
   "metadata": {},
   "source": [
    "# Chapter 10 Numpy, Scipy and Pandas\n"
   ]
  },
  {
   "cell_type": "markdown",
   "id": "7aeb425b",
   "metadata": {},
   "source": [
    "## Numpy"
   ]
  },
  {
   "cell_type": "code",
   "execution_count": 7,
   "id": "55a7af5b",
   "metadata": {},
   "outputs": [
    {
     "name": "stdout",
     "output_type": "stream",
     "text": [
      "Requirement already satisfied: biopython in /Users/lena/anaconda3/lib/python3.11/site-packages (1.83)\n",
      "Requirement already satisfied: numpy in /Users/lena/anaconda3/lib/python3.11/site-packages (from biopython) (1.24.3)\n"
     ]
    }
   ],
   "source": [
    "!pip install biopython"
   ]
  },
  {
   "cell_type": "code",
   "execution_count": 10,
   "id": "b6b9f251",
   "metadata": {},
   "outputs": [],
   "source": [
    "import numpy as np"
   ]
  },
  {
   "cell_type": "code",
   "execution_count": 12,
   "id": "1deab5c9",
   "metadata": {},
   "outputs": [],
   "source": [
    "my_list = [1,2,3]"
   ]
  },
  {
   "cell_type": "code",
   "execution_count": 13,
   "id": "332db182",
   "metadata": {},
   "outputs": [
    {
     "data": {
      "text/plain": [
       "array([1, 2, 3])"
      ]
     },
     "execution_count": 13,
     "metadata": {},
     "output_type": "execute_result"
    }
   ],
   "source": [
    "my_array = np.array(my_list)\n",
    "my_array"
   ]
  },
  {
   "cell_type": "code",
   "execution_count": 14,
   "id": "49a5d402",
   "metadata": {},
   "outputs": [
    {
     "data": {
      "text/plain": [
       "numpy.ndarray"
      ]
     },
     "execution_count": 14,
     "metadata": {},
     "output_type": "execute_result"
    }
   ],
   "source": [
    "type(my_array)"
   ]
  },
  {
   "cell_type": "code",
   "execution_count": 15,
   "id": "504699c7",
   "metadata": {},
   "outputs": [
    {
     "data": {
      "text/plain": [
       "[1, 2, 3, 1, 2, 3]"
      ]
     },
     "execution_count": 15,
     "metadata": {},
     "output_type": "execute_result"
    }
   ],
   "source": [
    "my_list*2"
   ]
  },
  {
   "cell_type": "code",
   "execution_count": 16,
   "id": "1b1a0a75",
   "metadata": {},
   "outputs": [
    {
     "data": {
      "text/plain": [
       "array([2, 4, 6])"
      ]
     },
     "execution_count": 16,
     "metadata": {},
     "output_type": "execute_result"
    }
   ],
   "source": [
    "my_array*2"
   ]
  },
  {
   "cell_type": "code",
   "execution_count": 17,
   "id": "44429128",
   "metadata": {},
   "outputs": [
    {
     "data": {
      "text/plain": [
       "array([0, 3, 6, 9])"
      ]
     },
     "execution_count": 17,
     "metadata": {},
     "output_type": "execute_result"
    }
   ],
   "source": [
    "np.arange(0,10,3)"
   ]
  },
  {
   "cell_type": "code",
   "execution_count": 18,
   "id": "16531059",
   "metadata": {},
   "outputs": [
    {
     "data": {
      "text/plain": [
       "array([ 0.,  5., 10.])"
      ]
     },
     "execution_count": 18,
     "metadata": {},
     "output_type": "execute_result"
    }
   ],
   "source": [
    "np.linspace(0,10,3) # similar to arange but allows you define the number of values (and then infers step size)"
   ]
  },
  {
   "cell_type": "code",
   "execution_count": 19,
   "id": "d08a6977",
   "metadata": {},
   "outputs": [
    {
     "data": {
      "text/plain": [
       "array([0., 0., 0., 0., 0., 0., 0., 0., 0., 0.])"
      ]
     },
     "execution_count": 19,
     "metadata": {},
     "output_type": "execute_result"
    }
   ],
   "source": [
    "np.zeros(10) # vector of zeros"
   ]
  },
  {
   "cell_type": "code",
   "execution_count": 20,
   "id": "26db9968",
   "metadata": {},
   "outputs": [
    {
     "data": {
      "text/plain": [
       "array([[0., 0., 0.],\n",
       "       [0., 0., 0.],\n",
       "       [0., 0., 0.],\n",
       "       [0., 0., 0.],\n",
       "       [0., 0., 0.],\n",
       "       [0., 0., 0.],\n",
       "       [0., 0., 0.],\n",
       "       [0., 0., 0.],\n",
       "       [0., 0., 0.],\n",
       "       [0., 0., 0.]])"
      ]
     },
     "execution_count": 20,
     "metadata": {},
     "output_type": "execute_result"
    }
   ],
   "source": [
    "np.zeros((10,3)) # matrix of zeros"
   ]
  },
  {
   "cell_type": "code",
   "execution_count": 21,
   "id": "362d69f8",
   "metadata": {},
   "outputs": [
    {
     "data": {
      "text/plain": [
       "array([[[0., 0., 0.],\n",
       "        [0., 0., 0.],\n",
       "        [0., 0., 0.]],\n",
       "\n",
       "       [[0., 0., 0.],\n",
       "        [0., 0., 0.],\n",
       "        [0., 0., 0.]],\n",
       "\n",
       "       [[0., 0., 0.],\n",
       "        [0., 0., 0.],\n",
       "        [0., 0., 0.]],\n",
       "\n",
       "       [[0., 0., 0.],\n",
       "        [0., 0., 0.],\n",
       "        [0., 0., 0.]],\n",
       "\n",
       "       [[0., 0., 0.],\n",
       "        [0., 0., 0.],\n",
       "        [0., 0., 0.]],\n",
       "\n",
       "       [[0., 0., 0.],\n",
       "        [0., 0., 0.],\n",
       "        [0., 0., 0.]],\n",
       "\n",
       "       [[0., 0., 0.],\n",
       "        [0., 0., 0.],\n",
       "        [0., 0., 0.]],\n",
       "\n",
       "       [[0., 0., 0.],\n",
       "        [0., 0., 0.],\n",
       "        [0., 0., 0.]],\n",
       "\n",
       "       [[0., 0., 0.],\n",
       "        [0., 0., 0.],\n",
       "        [0., 0., 0.]],\n",
       "\n",
       "       [[0., 0., 0.],\n",
       "        [0., 0., 0.],\n",
       "        [0., 0., 0.]]])"
      ]
     },
     "execution_count": 21,
     "metadata": {},
     "output_type": "execute_result"
    }
   ],
   "source": [
    "np.zeros((10,3,3)) # tensor of zeros"
   ]
  },
  {
   "cell_type": "code",
   "execution_count": 24,
   "id": "92108141",
   "metadata": {},
   "outputs": [
    {
     "data": {
      "text/plain": [
       "array([0, 1, 2, 3, 4, 5, 6, 7, 8])"
      ]
     },
     "execution_count": 24,
     "metadata": {},
     "output_type": "execute_result"
    }
   ],
   "source": [
    "my_array = np.arange(9)\n",
    "my_array"
   ]
  },
  {
   "cell_type": "code",
   "execution_count": 25,
   "id": "eccf666c",
   "metadata": {},
   "outputs": [
    {
     "data": {
      "text/plain": [
       "array([[0, 1, 2],\n",
       "       [3, 4, 5],\n",
       "       [6, 7, 8]])"
      ]
     },
     "execution_count": 25,
     "metadata": {},
     "output_type": "execute_result"
    }
   ],
   "source": [
    "my_array.reshape(3,3) # arrange into a 3x3 matrix"
   ]
  },
  {
   "cell_type": "code",
   "execution_count": 26,
   "id": "a923997c",
   "metadata": {},
   "outputs": [
    {
     "data": {
      "text/plain": [
       "1"
      ]
     },
     "execution_count": 26,
     "metadata": {},
     "output_type": "execute_result"
    }
   ],
   "source": [
    "my_array.ndim # number of dimensions"
   ]
  },
  {
   "cell_type": "code",
   "execution_count": 27,
   "id": "b0661f74",
   "metadata": {},
   "outputs": [],
   "source": [
    "new_array = my_array.reshape(3,3)"
   ]
  },
  {
   "cell_type": "code",
   "execution_count": 28,
   "id": "75f04826",
   "metadata": {},
   "outputs": [
    {
     "data": {
      "text/plain": [
       "(3, 3)"
      ]
     },
     "execution_count": 28,
     "metadata": {},
     "output_type": "execute_result"
    }
   ],
   "source": [
    "new_array.shape # length along each dimension"
   ]
  },
  {
   "cell_type": "code",
   "execution_count": 29,
   "id": "c9d48925",
   "metadata": {},
   "outputs": [
    {
     "data": {
      "text/plain": [
       "2"
      ]
     },
     "execution_count": 29,
     "metadata": {},
     "output_type": "execute_result"
    }
   ],
   "source": [
    "new_array.ndim"
   ]
  },
  {
   "cell_type": "code",
   "execution_count": 30,
   "id": "56713999",
   "metadata": {},
   "outputs": [
    {
     "data": {
      "text/plain": [
       "36"
      ]
     },
     "execution_count": 30,
     "metadata": {},
     "output_type": "execute_result"
    }
   ],
   "source": [
    "new_array.sum()"
   ]
  },
  {
   "cell_type": "code",
   "execution_count": 31,
   "id": "088c4bf0",
   "metadata": {},
   "outputs": [
    {
     "data": {
      "text/plain": [
       "0"
      ]
     },
     "execution_count": 31,
     "metadata": {},
     "output_type": "execute_result"
    }
   ],
   "source": [
    "new_array.min()"
   ]
  },
  {
   "cell_type": "code",
   "execution_count": 32,
   "id": "1590a45a",
   "metadata": {},
   "outputs": [
    {
     "data": {
      "text/plain": [
       "array([[0, 1, 2],\n",
       "       [3, 4, 5],\n",
       "       [6, 7, 8]])"
      ]
     },
     "execution_count": 32,
     "metadata": {},
     "output_type": "execute_result"
    }
   ],
   "source": [
    "new_array"
   ]
  },
  {
   "cell_type": "code",
   "execution_count": 34,
   "id": "70b22dd5",
   "metadata": {},
   "outputs": [
    {
     "data": {
      "text/plain": [
       "array([1., 4., 7.])"
      ]
     },
     "execution_count": 34,
     "metadata": {},
     "output_type": "execute_result"
    }
   ],
   "source": [
    "np.mean(new_array, axis = 1)"
   ]
  },
  {
   "cell_type": "code",
   "execution_count": 35,
   "id": "9bd3655c",
   "metadata": {},
   "outputs": [
    {
     "data": {
      "text/plain": [
       "array([ 9.20645322,  8.64918396, 10.66407336, 11.92989163, 12.0419305 ])"
      ]
     },
     "execution_count": 35,
     "metadata": {},
     "output_type": "execute_result"
    }
   ],
   "source": [
    "np.random.normal(10, 2, 5)"
   ]
  },
  {
   "cell_type": "code",
   "execution_count": 44,
   "id": "7e2b161d",
   "metadata": {},
   "outputs": [
    {
     "data": {
      "text/plain": [
       "array([[1, 2, 3],\n",
       "       [4, 5, 6],\n",
       "       [7, 8, 9]])"
      ]
     },
     "execution_count": 44,
     "metadata": {},
     "output_type": "execute_result"
    }
   ],
   "source": [
    "my_array = np.array([[1,2,3],[4,5,6],[7,8,9]])\n",
    "my_array"
   ]
  },
  {
   "cell_type": "code",
   "execution_count": 45,
   "id": "91984b76",
   "metadata": {},
   "outputs": [
    {
     "data": {
      "text/plain": [
       "array([8, 9])"
      ]
     },
     "execution_count": 45,
     "metadata": {},
     "output_type": "execute_result"
    }
   ],
   "source": [
    "my_array[2,1:]"
   ]
  },
  {
   "cell_type": "code",
   "execution_count": 46,
   "id": "fb46a81e",
   "metadata": {},
   "outputs": [],
   "source": [
    "ar1 = my_array[2,0:]\n",
    "ar2 = my_array"
   ]
  },
  {
   "cell_type": "code",
   "execution_count": 47,
   "id": "9f8d87a8",
   "metadata": {},
   "outputs": [
    {
     "data": {
      "text/plain": [
       "array([7, 8, 9])"
      ]
     },
     "execution_count": 47,
     "metadata": {},
     "output_type": "execute_result"
    }
   ],
   "source": [
    "ar1"
   ]
  },
  {
   "cell_type": "code",
   "execution_count": 43,
   "id": "21b5ddb2",
   "metadata": {},
   "outputs": [
    {
     "data": {
      "text/plain": [
       "array([[     1,      2,      3],\n",
       "       [     4,      5,      6],\n",
       "       [100000,      8,      9]])"
      ]
     },
     "execution_count": 43,
     "metadata": {},
     "output_type": "execute_result"
    }
   ],
   "source": [
    "ar2"
   ]
  },
  {
   "cell_type": "code",
   "execution_count": 48,
   "id": "33e05411",
   "metadata": {},
   "outputs": [],
   "source": [
    "ar1[0] = 100000"
   ]
  },
  {
   "cell_type": "code",
   "execution_count": 49,
   "id": "51587a64",
   "metadata": {},
   "outputs": [
    {
     "data": {
      "text/plain": [
       "array([[     1,      2,      3],\n",
       "       [     4,      5,      6],\n",
       "       [100000,      8,      9]])"
      ]
     },
     "execution_count": 49,
     "metadata": {},
     "output_type": "execute_result"
    }
   ],
   "source": [
    "ar2"
   ]
  },
  {
   "cell_type": "code",
   "execution_count": 50,
   "id": "5c1d23b5",
   "metadata": {},
   "outputs": [
    {
     "data": {
      "text/plain": [
       "array([[     1,      2,      3],\n",
       "       [     4,      5,      6],\n",
       "       [100000,      8,      9]])"
      ]
     },
     "execution_count": 50,
     "metadata": {},
     "output_type": "execute_result"
    }
   ],
   "source": [
    "my_array"
   ]
  },
  {
   "cell_type": "code",
   "execution_count": 51,
   "id": "e258bd98",
   "metadata": {},
   "outputs": [],
   "source": [
    "ar3 = my_array.copy()\n",
    "ar1[0] = 0"
   ]
  },
  {
   "cell_type": "code",
   "execution_count": 52,
   "id": "617696ba",
   "metadata": {},
   "outputs": [
    {
     "data": {
      "text/plain": [
       "array([0, 8, 9])"
      ]
     },
     "execution_count": 52,
     "metadata": {},
     "output_type": "execute_result"
    }
   ],
   "source": [
    "ar1"
   ]
  },
  {
   "cell_type": "code",
   "execution_count": 53,
   "id": "d229987b",
   "metadata": {},
   "outputs": [
    {
     "data": {
      "text/plain": [
       "array([[1, 2, 3],\n",
       "       [4, 5, 6],\n",
       "       [0, 8, 9]])"
      ]
     },
     "execution_count": 53,
     "metadata": {},
     "output_type": "execute_result"
    }
   ],
   "source": [
    "ar2"
   ]
  },
  {
   "cell_type": "code",
   "execution_count": 54,
   "id": "5c4a781a",
   "metadata": {},
   "outputs": [
    {
     "data": {
      "text/plain": [
       "array([[     1,      2,      3],\n",
       "       [     4,      5,      6],\n",
       "       [100000,      8,      9]])"
      ]
     },
     "execution_count": 54,
     "metadata": {},
     "output_type": "execute_result"
    }
   ],
   "source": [
    "ar3"
   ]
  },
  {
   "cell_type": "markdown",
   "id": "6e58934c",
   "metadata": {},
   "source": [
    "Exercise 1:\n",
    "\n",
    "1a. Generate a matrix of random integers (from 1 to 1000) with dimensions (10,3). Set the seed function to 101 to generate the same set of random numbers, i.e. np.random.seed(101)\n",
    "\n",
    "1b. What is the average value of the 5th row (to 2 decimal places)?\n",
    "\n",
    "1c. What is the maximum value in the last two rows of the first and third columns?\n",
    "\n",
    "1d. Make a view and a copy of the random_integers array and show how changes to views are propoagating but changes to copies are not.\n",
    "\n",
    "1e. Retrieve the sum of all columns."
   ]
  },
  {
   "cell_type": "code",
   "execution_count": 68,
   "id": "c4a6f6ec",
   "metadata": {},
   "outputs": [],
   "source": [
    "np.random.seed(101)"
   ]
  },
  {
   "cell_type": "code",
   "execution_count": 69,
   "id": "8ef2416c",
   "metadata": {},
   "outputs": [
    {
     "data": {
      "text/plain": [
       "array([864, 524, 338, 839, 576, 600,  76, 394, 974, 553, 645, 576, 937,\n",
       "       758, 317, 733, 705, 111,   6, 909, 478,  41,  50, 852, 624, 507,\n",
       "       137, 372, 926, 884])"
      ]
     },
     "execution_count": 69,
     "metadata": {},
     "output_type": "execute_result"
    }
   ],
   "source": [
    "my_array = np.random.randint(1, 1000, 30).reshape(10,3)\n",
    "my_array"
   ]
  },
  {
   "cell_type": "code",
   "execution_count": 71,
   "id": "a2c3caa7",
   "metadata": {},
   "outputs": [
    {
     "data": {
      "text/plain": [
       "array([[864, 524, 338],\n",
       "       [839, 576, 600],\n",
       "       [ 76, 394, 974],\n",
       "       [553, 645, 576],\n",
       "       [937, 758, 317],\n",
       "       [733, 705, 111],\n",
       "       [  6, 909, 478],\n",
       "       [ 41,  50, 852],\n",
       "       [624, 507, 137],\n",
       "       [372, 926, 884]])"
      ]
     },
     "execution_count": 71,
     "metadata": {},
     "output_type": "execute_result"
    }
   ],
   "source": [
    "my_matrix = my_array.reshape(10,3)"
   ]
  },
  {
   "cell_type": "code",
   "execution_count": 72,
   "id": "ad012227",
   "metadata": {},
   "outputs": [
    {
     "data": {
      "text/plain": [
       "array([864, 524, 338, 839, 576, 600,  76, 394, 974, 553, 645, 576, 937,\n",
       "       758, 317, 733, 705, 111,   6, 909, 478,  41,  50, 852, 624, 507,\n",
       "       137, 372, 926, 884])"
      ]
     },
     "execution_count": 72,
     "metadata": {},
     "output_type": "execute_result"
    }
   ],
   "source": [
    "my_array"
   ]
  },
  {
   "cell_type": "code",
   "execution_count": 74,
   "id": "6cb66f8d",
   "metadata": {},
   "outputs": [
    {
     "data": {
      "text/plain": [
       "670.6666666666666"
      ]
     },
     "execution_count": 74,
     "metadata": {},
     "output_type": "execute_result"
    }
   ],
   "source": [
    "my_matrix[4,].mean()"
   ]
  },
  {
   "cell_type": "code",
   "execution_count": 86,
   "id": "12292982",
   "metadata": {},
   "outputs": [
    {
     "data": {
      "text/plain": [
       "884"
      ]
     },
     "execution_count": 86,
     "metadata": {},
     "output_type": "execute_result"
    }
   ],
   "source": [
    "my_matrix[8:10,[0,2]].max()"
   ]
  },
  {
   "cell_type": "code",
   "execution_count": 89,
   "id": "db9cb93c",
   "metadata": {},
   "outputs": [
    {
     "data": {
      "text/plain": [
       "16306"
      ]
     },
     "execution_count": 89,
     "metadata": {},
     "output_type": "execute_result"
    }
   ],
   "source": [
    "my_matrix.sum()"
   ]
  },
  {
   "cell_type": "markdown",
   "id": "609c8e79",
   "metadata": {},
   "source": [
    "Exercise 2: "
   ]
  },
  {
   "cell_type": "code",
   "execution_count": 94,
   "id": "02c06db3",
   "metadata": {},
   "outputs": [],
   "source": [
    "array_2a = np.arange(1, 16, 1).reshape(5,3)"
   ]
  },
  {
   "cell_type": "code",
   "execution_count": 95,
   "id": "fa765049",
   "metadata": {},
   "outputs": [
    {
     "data": {
      "text/plain": [
       "array([[ 1,  2,  3],\n",
       "       [ 4,  5,  6],\n",
       "       [ 7,  8,  9],\n",
       "       [10, 11, 12],\n",
       "       [13, 14, 15]])"
      ]
     },
     "execution_count": 95,
     "metadata": {},
     "output_type": "execute_result"
    }
   ],
   "source": [
    "array_2a"
   ]
  },
  {
   "cell_type": "code",
   "execution_count": 97,
   "id": "2d72a99d",
   "metadata": {},
   "outputs": [],
   "source": [
    "array_2b = np.random.random(90).reshape(10,3,3)"
   ]
  },
  {
   "cell_type": "code",
   "execution_count": 98,
   "id": "10973b97",
   "metadata": {},
   "outputs": [
    {
     "data": {
      "text/plain": [
       "array([[[0.68913435, 0.4902087 , 0.14215381],\n",
       "        [0.53385991, 0.05080687, 0.89271852],\n",
       "        [0.74791018, 0.02457922, 0.284852  ]],\n",
       "\n",
       "       [[0.42510608, 0.97544924, 0.02247369],\n",
       "        [0.26014278, 0.39412181, 0.81974193],\n",
       "        [0.99094014, 0.59933526, 0.54546031]],\n",
       "\n",
       "       [[0.10155918, 0.64420452, 0.25066092],\n",
       "        [0.35465498, 0.44609054, 0.2023882 ],\n",
       "        [0.36442523, 0.84492992, 0.10747345]],\n",
       "\n",
       "       [[0.93161573, 0.13115089, 0.95032666],\n",
       "        [0.55674417, 0.45237301, 0.00633243],\n",
       "        [0.26977194, 0.55642551, 0.32422062]],\n",
       "\n",
       "       [[0.57389613, 0.61782581, 0.35072911],\n",
       "        [0.55975502, 0.25530518, 0.78043202],\n",
       "        [0.20399282, 0.495917  , 0.33530671]],\n",
       "\n",
       "       [[0.29749974, 0.43069325, 0.64677615],\n",
       "        [0.43719506, 0.46396243, 0.56779589],\n",
       "        [0.68230378, 0.39887303, 0.47763713]],\n",
       "\n",
       "       [[0.3110016 , 0.24291535, 0.7915267 ],\n",
       "        [0.95677084, 0.44256991, 0.63211456],\n",
       "        [0.3009027 , 0.57612014, 0.00329386]],\n",
       "\n",
       "       [[0.56788413, 0.95732152, 0.13808275],\n",
       "        [0.85228101, 0.37789223, 0.25007982],\n",
       "        [0.39066054, 0.03622981, 0.20736009]],\n",
       "\n",
       "       [[0.74406338, 0.81288556, 0.84387471],\n",
       "        [0.59131289, 0.78541912, 0.14404711],\n",
       "        [0.41825669, 0.1514239 , 0.34709755]],\n",
       "\n",
       "       [[0.50477858, 0.80658063, 0.23842123],\n",
       "        [0.76778216, 0.93732875, 0.40506966],\n",
       "        [0.2876884 , 0.98387662, 0.02534032]]])"
      ]
     },
     "execution_count": 98,
     "metadata": {},
     "output_type": "execute_result"
    }
   ],
   "source": [
    "array_2b"
   ]
  },
  {
   "cell_type": "markdown",
   "id": "a94feb46",
   "metadata": {},
   "source": [
    "Exercise 3:\n",
    "    \n",
    "Familiarise yourself with these other functions.\n",
    "\n",
    "np.log(x)\n",
    "\n",
    "np.cumsum(x)\n",
    "\n",
    "np.power(x,2)"
   ]
  },
  {
   "cell_type": "code",
   "execution_count": 104,
   "id": "24d54d00",
   "metadata": {},
   "outputs": [
    {
     "data": {
      "text/plain": [
       "array([1, 2, 3, 4, 5, 6, 7, 8])"
      ]
     },
     "execution_count": 104,
     "metadata": {},
     "output_type": "execute_result"
    }
   ],
   "source": [
    "array_3 = np.arange(1,9,1)\n",
    "array_3"
   ]
  },
  {
   "cell_type": "code",
   "execution_count": 102,
   "id": "698fa946",
   "metadata": {},
   "outputs": [
    {
     "data": {
      "text/plain": [
       "array([0.        , 0.69314718, 1.09861229, 1.38629436, 1.60943791,\n",
       "       1.79175947, 1.94591015, 2.07944154])"
      ]
     },
     "execution_count": 102,
     "metadata": {},
     "output_type": "execute_result"
    }
   ],
   "source": [
    "np.log(array_3)"
   ]
  },
  {
   "cell_type": "code",
   "execution_count": 105,
   "id": "e9e2b933",
   "metadata": {},
   "outputs": [
    {
     "data": {
      "text/plain": [
       "array([ 1,  3,  6, 10, 15, 21, 28, 36])"
      ]
     },
     "execution_count": 105,
     "metadata": {},
     "output_type": "execute_result"
    }
   ],
   "source": [
    "np.cumsum(array_3)"
   ]
  },
  {
   "cell_type": "markdown",
   "id": "daf709ff",
   "metadata": {},
   "source": [
    "## Pandas"
   ]
  },
  {
   "cell_type": "code",
   "execution_count": 109,
   "id": "87689242",
   "metadata": {},
   "outputs": [],
   "source": [
    "import pandas as pd\n",
    "import numpy as np"
   ]
  },
  {
   "cell_type": "code",
   "execution_count": 111,
   "id": "e8c063fb",
   "metadata": {},
   "outputs": [
    {
     "name": "stdout",
     "output_type": "stream",
     "text": [
      "<class 'pandas.core.frame.DataFrame'>\n"
     ]
    }
   ],
   "source": [
    "data = pd.read_csv(\"day3_python/data/ecotype-OB.csv\")\n",
    "print(type(data))"
   ]
  },
  {
   "cell_type": "code",
   "execution_count": 112,
   "id": "2d933adf",
   "metadata": {},
   "outputs": [
    {
     "data": {
      "text/plain": [
       "(242, 12)"
      ]
     },
     "execution_count": 112,
     "metadata": {},
     "output_type": "execute_result"
    }
   ],
   "source": [
    "data.shape"
   ]
  },
  {
   "cell_type": "code",
   "execution_count": 113,
   "id": "6c768930",
   "metadata": {},
   "outputs": [
    {
     "data": {
      "text/html": [
       "<div>\n",
       "<style scoped>\n",
       "    .dataframe tbody tr th:only-of-type {\n",
       "        vertical-align: middle;\n",
       "    }\n",
       "\n",
       "    .dataframe tbody tr th {\n",
       "        vertical-align: top;\n",
       "    }\n",
       "\n",
       "    .dataframe thead th {\n",
       "        text-align: right;\n",
       "    }\n",
       "</style>\n",
       "<table border=\"1\" class=\"dataframe\">\n",
       "  <thead>\n",
       "    <tr style=\"text-align: right;\">\n",
       "      <th></th>\n",
       "      <th>Ecotype</th>\n",
       "      <th>Population</th>\n",
       "      <th>VegHeight</th>\n",
       "      <th>MSL_W</th>\n",
       "      <th>SB</th>\n",
       "      <th>MSD</th>\n",
       "      <th>Area</th>\n",
       "      <th>P2A2</th>\n",
       "      <th>Circularity</th>\n",
       "      <th>Nindents.Peri</th>\n",
       "      <th>IndentWidth</th>\n",
       "      <th>IndentDepth</th>\n",
       "    </tr>\n",
       "  </thead>\n",
       "  <tbody>\n",
       "    <tr>\n",
       "      <th>0</th>\n",
       "      <td>Dune</td>\n",
       "      <td>D0</td>\n",
       "      <td>354</td>\n",
       "      <td>0.459259</td>\n",
       "      <td>16</td>\n",
       "      <td>4.31</td>\n",
       "      <td>613.468135</td>\n",
       "      <td>0.159502</td>\n",
       "      <td>37.157379</td>\n",
       "      <td>0.110202</td>\n",
       "      <td>5.127754</td>\n",
       "      <td>1.202011</td>\n",
       "    </tr>\n",
       "    <tr>\n",
       "      <th>1</th>\n",
       "      <td>Dune</td>\n",
       "      <td>D0</td>\n",
       "      <td>317</td>\n",
       "      <td>0.318421</td>\n",
       "      <td>16</td>\n",
       "      <td>4.58</td>\n",
       "      <td>321.366835</td>\n",
       "      <td>0.220129</td>\n",
       "      <td>51.482505</td>\n",
       "      <td>0.165806</td>\n",
       "      <td>4.075965</td>\n",
       "      <td>0.765863</td>\n",
       "    </tr>\n",
       "    <tr>\n",
       "      <th>2</th>\n",
       "      <td>Dune</td>\n",
       "      <td>D0</td>\n",
       "      <td>309</td>\n",
       "      <td>0.389542</td>\n",
       "      <td>16</td>\n",
       "      <td>5.09</td>\n",
       "      <td>438.073814</td>\n",
       "      <td>0.164009</td>\n",
       "      <td>35.246350</td>\n",
       "      <td>0.118369</td>\n",
       "      <td>6.221302</td>\n",
       "      <td>1.583950</td>\n",
       "    </tr>\n",
       "    <tr>\n",
       "      <th>3</th>\n",
       "      <td>Dune</td>\n",
       "      <td>D0</td>\n",
       "      <td>327</td>\n",
       "      <td>0.538593</td>\n",
       "      <td>15</td>\n",
       "      <td>4.68</td>\n",
       "      <td>447.911864</td>\n",
       "      <td>0.186158</td>\n",
       "      <td>31.049993</td>\n",
       "      <td>0.087966</td>\n",
       "      <td>7.599282</td>\n",
       "      <td>1.392852</td>\n",
       "    </tr>\n",
       "    <tr>\n",
       "      <th>4</th>\n",
       "      <td>Dune</td>\n",
       "      <td>D0</td>\n",
       "      <td>376</td>\n",
       "      <td>0.463811</td>\n",
       "      <td>17</td>\n",
       "      <td>4.65</td>\n",
       "      <td>406.741222</td>\n",
       "      <td>0.287131</td>\n",
       "      <td>64.196189</td>\n",
       "      <td>0.133058</td>\n",
       "      <td>4.365729</td>\n",
       "      <td>1.163325</td>\n",
       "    </tr>\n",
       "  </tbody>\n",
       "</table>\n",
       "</div>"
      ],
      "text/plain": [
       "  Ecotype Population  VegHeight     MSL_W  SB   MSD        Area      P2A2  \\\n",
       "0    Dune         D0        354  0.459259  16  4.31  613.468135  0.159502   \n",
       "1    Dune         D0        317  0.318421  16  4.58  321.366835  0.220129   \n",
       "2    Dune         D0        309  0.389542  16  5.09  438.073814  0.164009   \n",
       "3    Dune         D0        327  0.538593  15  4.68  447.911864  0.186158   \n",
       "4    Dune         D0        376  0.463811  17  4.65  406.741222  0.287131   \n",
       "\n",
       "   Circularity  Nindents.Peri  IndentWidth  IndentDepth  \n",
       "0    37.157379       0.110202     5.127754     1.202011  \n",
       "1    51.482505       0.165806     4.075965     0.765863  \n",
       "2    35.246350       0.118369     6.221302     1.583950  \n",
       "3    31.049993       0.087966     7.599282     1.392852  \n",
       "4    64.196189       0.133058     4.365729     1.163325  "
      ]
     },
     "execution_count": 113,
     "metadata": {},
     "output_type": "execute_result"
    }
   ],
   "source": [
    "data.head()"
   ]
  },
  {
   "cell_type": "code",
   "execution_count": 114,
   "id": "fc1fc605",
   "metadata": {},
   "outputs": [
    {
     "data": {
      "text/html": [
       "<div>\n",
       "<style scoped>\n",
       "    .dataframe tbody tr th:only-of-type {\n",
       "        vertical-align: middle;\n",
       "    }\n",
       "\n",
       "    .dataframe tbody tr th {\n",
       "        vertical-align: top;\n",
       "    }\n",
       "\n",
       "    .dataframe thead th {\n",
       "        text-align: right;\n",
       "    }\n",
       "</style>\n",
       "<table border=\"1\" class=\"dataframe\">\n",
       "  <thead>\n",
       "    <tr style=\"text-align: right;\">\n",
       "      <th></th>\n",
       "      <th>VegHeight</th>\n",
       "      <th>MSL_W</th>\n",
       "      <th>SB</th>\n",
       "      <th>MSD</th>\n",
       "      <th>Area</th>\n",
       "      <th>P2A2</th>\n",
       "      <th>Circularity</th>\n",
       "      <th>Nindents.Peri</th>\n",
       "      <th>IndentWidth</th>\n",
       "      <th>IndentDepth</th>\n",
       "    </tr>\n",
       "  </thead>\n",
       "  <tbody>\n",
       "    <tr>\n",
       "      <th>count</th>\n",
       "      <td>242.000000</td>\n",
       "      <td>242.000000</td>\n",
       "      <td>242.000000</td>\n",
       "      <td>242.000000</td>\n",
       "      <td>242.000000</td>\n",
       "      <td>242.000000</td>\n",
       "      <td>242.000000</td>\n",
       "      <td>242.000000</td>\n",
       "      <td>242.000000</td>\n",
       "      <td>242.000000</td>\n",
       "    </tr>\n",
       "    <tr>\n",
       "      <th>mean</th>\n",
       "      <td>314.851240</td>\n",
       "      <td>0.425043</td>\n",
       "      <td>18.979339</td>\n",
       "      <td>4.705165</td>\n",
       "      <td>659.058811</td>\n",
       "      <td>1.995128</td>\n",
       "      <td>39.252759</td>\n",
       "      <td>0.120225</td>\n",
       "      <td>6.351858</td>\n",
       "      <td>1.423328</td>\n",
       "    </tr>\n",
       "    <tr>\n",
       "      <th>std</th>\n",
       "      <td>187.429994</td>\n",
       "      <td>0.297256</td>\n",
       "      <td>4.757565</td>\n",
       "      <td>1.715825</td>\n",
       "      <td>557.300897</td>\n",
       "      <td>4.218670</td>\n",
       "      <td>19.740429</td>\n",
       "      <td>0.048322</td>\n",
       "      <td>2.483273</td>\n",
       "      <td>0.824089</td>\n",
       "    </tr>\n",
       "    <tr>\n",
       "      <th>min</th>\n",
       "      <td>48.000000</td>\n",
       "      <td>0.093897</td>\n",
       "      <td>11.000000</td>\n",
       "      <td>2.280000</td>\n",
       "      <td>85.203908</td>\n",
       "      <td>0.018914</td>\n",
       "      <td>5.151790</td>\n",
       "      <td>0.034473</td>\n",
       "      <td>2.989294</td>\n",
       "      <td>0.417800</td>\n",
       "    </tr>\n",
       "    <tr>\n",
       "      <th>25%</th>\n",
       "      <td>178.000000</td>\n",
       "      <td>0.217928</td>\n",
       "      <td>16.000000</td>\n",
       "      <td>3.390000</td>\n",
       "      <td>263.093258</td>\n",
       "      <td>0.071532</td>\n",
       "      <td>26.148567</td>\n",
       "      <td>0.079333</td>\n",
       "      <td>4.464365</td>\n",
       "      <td>0.902156</td>\n",
       "    </tr>\n",
       "    <tr>\n",
       "      <th>50%</th>\n",
       "      <td>287.000000</td>\n",
       "      <td>0.315006</td>\n",
       "      <td>18.000000</td>\n",
       "      <td>4.305000</td>\n",
       "      <td>449.233075</td>\n",
       "      <td>0.145249</td>\n",
       "      <td>43.430832</td>\n",
       "      <td>0.122888</td>\n",
       "      <td>5.693947</td>\n",
       "      <td>1.261712</td>\n",
       "    </tr>\n",
       "    <tr>\n",
       "      <th>75%</th>\n",
       "      <td>389.250000</td>\n",
       "      <td>0.545932</td>\n",
       "      <td>21.000000</td>\n",
       "      <td>5.715000</td>\n",
       "      <td>841.060949</td>\n",
       "      <td>0.715510</td>\n",
       "      <td>52.140638</td>\n",
       "      <td>0.155904</td>\n",
       "      <td>7.467736</td>\n",
       "      <td>1.730248</td>\n",
       "    </tr>\n",
       "    <tr>\n",
       "      <th>max</th>\n",
       "      <td>998.000000</td>\n",
       "      <td>1.593103</td>\n",
       "      <td>36.000000</td>\n",
       "      <td>9.970000</td>\n",
       "      <td>2872.412321</td>\n",
       "      <td>25.268059</td>\n",
       "      <td>90.675381</td>\n",
       "      <td>0.241897</td>\n",
       "      <td>13.862200</td>\n",
       "      <td>6.064009</td>\n",
       "    </tr>\n",
       "  </tbody>\n",
       "</table>\n",
       "</div>"
      ],
      "text/plain": [
       "        VegHeight       MSL_W          SB         MSD         Area  \\\n",
       "count  242.000000  242.000000  242.000000  242.000000   242.000000   \n",
       "mean   314.851240    0.425043   18.979339    4.705165   659.058811   \n",
       "std    187.429994    0.297256    4.757565    1.715825   557.300897   \n",
       "min     48.000000    0.093897   11.000000    2.280000    85.203908   \n",
       "25%    178.000000    0.217928   16.000000    3.390000   263.093258   \n",
       "50%    287.000000    0.315006   18.000000    4.305000   449.233075   \n",
       "75%    389.250000    0.545932   21.000000    5.715000   841.060949   \n",
       "max    998.000000    1.593103   36.000000    9.970000  2872.412321   \n",
       "\n",
       "             P2A2  Circularity  Nindents.Peri  IndentWidth  IndentDepth  \n",
       "count  242.000000   242.000000     242.000000   242.000000   242.000000  \n",
       "mean     1.995128    39.252759       0.120225     6.351858     1.423328  \n",
       "std      4.218670    19.740429       0.048322     2.483273     0.824089  \n",
       "min      0.018914     5.151790       0.034473     2.989294     0.417800  \n",
       "25%      0.071532    26.148567       0.079333     4.464365     0.902156  \n",
       "50%      0.145249    43.430832       0.122888     5.693947     1.261712  \n",
       "75%      0.715510    52.140638       0.155904     7.467736     1.730248  \n",
       "max     25.268059    90.675381       0.241897    13.862200     6.064009  "
      ]
     },
     "execution_count": 114,
     "metadata": {},
     "output_type": "execute_result"
    }
   ],
   "source": [
    "data.describe()"
   ]
  },
  {
   "cell_type": "code",
   "execution_count": 115,
   "id": "1674f14f",
   "metadata": {},
   "outputs": [],
   "source": [
    "data['Indent_widthXdepth'] = data['IndentWidth'] * data['IndentDepth'] "
   ]
  },
  {
   "cell_type": "code",
   "execution_count": 116,
   "id": "da0cbc97",
   "metadata": {},
   "outputs": [
    {
     "data": {
      "text/html": [
       "<div>\n",
       "<style scoped>\n",
       "    .dataframe tbody tr th:only-of-type {\n",
       "        vertical-align: middle;\n",
       "    }\n",
       "\n",
       "    .dataframe tbody tr th {\n",
       "        vertical-align: top;\n",
       "    }\n",
       "\n",
       "    .dataframe thead th {\n",
       "        text-align: right;\n",
       "    }\n",
       "</style>\n",
       "<table border=\"1\" class=\"dataframe\">\n",
       "  <thead>\n",
       "    <tr style=\"text-align: right;\">\n",
       "      <th></th>\n",
       "      <th>Ecotype</th>\n",
       "      <th>Population</th>\n",
       "      <th>VegHeight</th>\n",
       "      <th>MSL_W</th>\n",
       "      <th>SB</th>\n",
       "      <th>MSD</th>\n",
       "      <th>Area</th>\n",
       "      <th>P2A2</th>\n",
       "      <th>Circularity</th>\n",
       "      <th>Nindents.Peri</th>\n",
       "      <th>IndentWidth</th>\n",
       "      <th>IndentDepth</th>\n",
       "      <th>Indent_widthXdepth</th>\n",
       "    </tr>\n",
       "  </thead>\n",
       "  <tbody>\n",
       "    <tr>\n",
       "      <th>0</th>\n",
       "      <td>Dune</td>\n",
       "      <td>D0</td>\n",
       "      <td>354</td>\n",
       "      <td>0.459259</td>\n",
       "      <td>16</td>\n",
       "      <td>4.31</td>\n",
       "      <td>613.468135</td>\n",
       "      <td>0.159502</td>\n",
       "      <td>37.157379</td>\n",
       "      <td>0.110202</td>\n",
       "      <td>5.127754</td>\n",
       "      <td>1.202011</td>\n",
       "      <td>6.163615</td>\n",
       "    </tr>\n",
       "    <tr>\n",
       "      <th>1</th>\n",
       "      <td>Dune</td>\n",
       "      <td>D0</td>\n",
       "      <td>317</td>\n",
       "      <td>0.318421</td>\n",
       "      <td>16</td>\n",
       "      <td>4.58</td>\n",
       "      <td>321.366835</td>\n",
       "      <td>0.220129</td>\n",
       "      <td>51.482505</td>\n",
       "      <td>0.165806</td>\n",
       "      <td>4.075965</td>\n",
       "      <td>0.765863</td>\n",
       "      <td>3.121629</td>\n",
       "    </tr>\n",
       "    <tr>\n",
       "      <th>2</th>\n",
       "      <td>Dune</td>\n",
       "      <td>D0</td>\n",
       "      <td>309</td>\n",
       "      <td>0.389542</td>\n",
       "      <td>16</td>\n",
       "      <td>5.09</td>\n",
       "      <td>438.073814</td>\n",
       "      <td>0.164009</td>\n",
       "      <td>35.246350</td>\n",
       "      <td>0.118369</td>\n",
       "      <td>6.221302</td>\n",
       "      <td>1.583950</td>\n",
       "      <td>9.854233</td>\n",
       "    </tr>\n",
       "    <tr>\n",
       "      <th>3</th>\n",
       "      <td>Dune</td>\n",
       "      <td>D0</td>\n",
       "      <td>327</td>\n",
       "      <td>0.538593</td>\n",
       "      <td>15</td>\n",
       "      <td>4.68</td>\n",
       "      <td>447.911864</td>\n",
       "      <td>0.186158</td>\n",
       "      <td>31.049993</td>\n",
       "      <td>0.087966</td>\n",
       "      <td>7.599282</td>\n",
       "      <td>1.392852</td>\n",
       "      <td>10.584671</td>\n",
       "    </tr>\n",
       "    <tr>\n",
       "      <th>4</th>\n",
       "      <td>Dune</td>\n",
       "      <td>D0</td>\n",
       "      <td>376</td>\n",
       "      <td>0.463811</td>\n",
       "      <td>17</td>\n",
       "      <td>4.65</td>\n",
       "      <td>406.741222</td>\n",
       "      <td>0.287131</td>\n",
       "      <td>64.196189</td>\n",
       "      <td>0.133058</td>\n",
       "      <td>4.365729</td>\n",
       "      <td>1.163325</td>\n",
       "      <td>5.078759</td>\n",
       "    </tr>\n",
       "  </tbody>\n",
       "</table>\n",
       "</div>"
      ],
      "text/plain": [
       "  Ecotype Population  VegHeight     MSL_W  SB   MSD        Area      P2A2  \\\n",
       "0    Dune         D0        354  0.459259  16  4.31  613.468135  0.159502   \n",
       "1    Dune         D0        317  0.318421  16  4.58  321.366835  0.220129   \n",
       "2    Dune         D0        309  0.389542  16  5.09  438.073814  0.164009   \n",
       "3    Dune         D0        327  0.538593  15  4.68  447.911864  0.186158   \n",
       "4    Dune         D0        376  0.463811  17  4.65  406.741222  0.287131   \n",
       "\n",
       "   Circularity  Nindents.Peri  IndentWidth  IndentDepth  Indent_widthXdepth  \n",
       "0    37.157379       0.110202     5.127754     1.202011            6.163615  \n",
       "1    51.482505       0.165806     4.075965     0.765863            3.121629  \n",
       "2    35.246350       0.118369     6.221302     1.583950            9.854233  \n",
       "3    31.049993       0.087966     7.599282     1.392852           10.584671  \n",
       "4    64.196189       0.133058     4.365729     1.163325            5.078759  "
      ]
     },
     "execution_count": 116,
     "metadata": {},
     "output_type": "execute_result"
    }
   ],
   "source": [
    "data.head()"
   ]
  },
  {
   "cell_type": "code",
   "execution_count": 117,
   "id": "775431da",
   "metadata": {},
   "outputs": [],
   "source": [
    "data.drop([\"Indent_widthXdepth\"], axis=1, inplace=True) "
   ]
  },
  {
   "cell_type": "code",
   "execution_count": 118,
   "id": "0149d16c",
   "metadata": {},
   "outputs": [
    {
     "data": {
      "text/html": [
       "<div>\n",
       "<style scoped>\n",
       "    .dataframe tbody tr th:only-of-type {\n",
       "        vertical-align: middle;\n",
       "    }\n",
       "\n",
       "    .dataframe tbody tr th {\n",
       "        vertical-align: top;\n",
       "    }\n",
       "\n",
       "    .dataframe thead th {\n",
       "        text-align: right;\n",
       "    }\n",
       "</style>\n",
       "<table border=\"1\" class=\"dataframe\">\n",
       "  <thead>\n",
       "    <tr style=\"text-align: right;\">\n",
       "      <th></th>\n",
       "      <th>Ecotype</th>\n",
       "      <th>Population</th>\n",
       "      <th>VegHeight</th>\n",
       "      <th>MSL_W</th>\n",
       "      <th>SB</th>\n",
       "      <th>MSD</th>\n",
       "      <th>Area</th>\n",
       "      <th>P2A2</th>\n",
       "      <th>Circularity</th>\n",
       "      <th>Nindents.Peri</th>\n",
       "      <th>IndentWidth</th>\n",
       "      <th>IndentDepth</th>\n",
       "    </tr>\n",
       "  </thead>\n",
       "  <tbody>\n",
       "    <tr>\n",
       "      <th>0</th>\n",
       "      <td>Dune</td>\n",
       "      <td>D0</td>\n",
       "      <td>354</td>\n",
       "      <td>0.459259</td>\n",
       "      <td>16</td>\n",
       "      <td>4.31</td>\n",
       "      <td>613.468135</td>\n",
       "      <td>0.159502</td>\n",
       "      <td>37.157379</td>\n",
       "      <td>0.110202</td>\n",
       "      <td>5.127754</td>\n",
       "      <td>1.202011</td>\n",
       "    </tr>\n",
       "    <tr>\n",
       "      <th>1</th>\n",
       "      <td>Dune</td>\n",
       "      <td>D0</td>\n",
       "      <td>317</td>\n",
       "      <td>0.318421</td>\n",
       "      <td>16</td>\n",
       "      <td>4.58</td>\n",
       "      <td>321.366835</td>\n",
       "      <td>0.220129</td>\n",
       "      <td>51.482505</td>\n",
       "      <td>0.165806</td>\n",
       "      <td>4.075965</td>\n",
       "      <td>0.765863</td>\n",
       "    </tr>\n",
       "    <tr>\n",
       "      <th>2</th>\n",
       "      <td>Dune</td>\n",
       "      <td>D0</td>\n",
       "      <td>309</td>\n",
       "      <td>0.389542</td>\n",
       "      <td>16</td>\n",
       "      <td>5.09</td>\n",
       "      <td>438.073814</td>\n",
       "      <td>0.164009</td>\n",
       "      <td>35.246350</td>\n",
       "      <td>0.118369</td>\n",
       "      <td>6.221302</td>\n",
       "      <td>1.583950</td>\n",
       "    </tr>\n",
       "    <tr>\n",
       "      <th>3</th>\n",
       "      <td>Dune</td>\n",
       "      <td>D0</td>\n",
       "      <td>327</td>\n",
       "      <td>0.538593</td>\n",
       "      <td>15</td>\n",
       "      <td>4.68</td>\n",
       "      <td>447.911864</td>\n",
       "      <td>0.186158</td>\n",
       "      <td>31.049993</td>\n",
       "      <td>0.087966</td>\n",
       "      <td>7.599282</td>\n",
       "      <td>1.392852</td>\n",
       "    </tr>\n",
       "    <tr>\n",
       "      <th>4</th>\n",
       "      <td>Dune</td>\n",
       "      <td>D0</td>\n",
       "      <td>376</td>\n",
       "      <td>0.463811</td>\n",
       "      <td>17</td>\n",
       "      <td>4.65</td>\n",
       "      <td>406.741222</td>\n",
       "      <td>0.287131</td>\n",
       "      <td>64.196189</td>\n",
       "      <td>0.133058</td>\n",
       "      <td>4.365729</td>\n",
       "      <td>1.163325</td>\n",
       "    </tr>\n",
       "  </tbody>\n",
       "</table>\n",
       "</div>"
      ],
      "text/plain": [
       "  Ecotype Population  VegHeight     MSL_W  SB   MSD        Area      P2A2  \\\n",
       "0    Dune         D0        354  0.459259  16  4.31  613.468135  0.159502   \n",
       "1    Dune         D0        317  0.318421  16  4.58  321.366835  0.220129   \n",
       "2    Dune         D0        309  0.389542  16  5.09  438.073814  0.164009   \n",
       "3    Dune         D0        327  0.538593  15  4.68  447.911864  0.186158   \n",
       "4    Dune         D0        376  0.463811  17  4.65  406.741222  0.287131   \n",
       "\n",
       "   Circularity  Nindents.Peri  IndentWidth  IndentDepth  \n",
       "0    37.157379       0.110202     5.127754     1.202011  \n",
       "1    51.482505       0.165806     4.075965     0.765863  \n",
       "2    35.246350       0.118369     6.221302     1.583950  \n",
       "3    31.049993       0.087966     7.599282     1.392852  \n",
       "4    64.196189       0.133058     4.365729     1.163325  "
      ]
     },
     "execution_count": 118,
     "metadata": {},
     "output_type": "execute_result"
    }
   ],
   "source": [
    "data.head()"
   ]
  },
  {
   "cell_type": "code",
   "execution_count": 119,
   "id": "ae8a54be",
   "metadata": {},
   "outputs": [
    {
     "data": {
      "text/plain": [
       "11    371\n",
       "12    305\n",
       "13    317\n",
       "14    231\n",
       "15    242\n",
       "16    300\n",
       "17    277\n",
       "18    317\n",
       "19    377\n",
       "20    303\n",
       "Name: VegHeight, dtype: int64"
      ]
     },
     "execution_count": 119,
     "metadata": {},
     "output_type": "execute_result"
    }
   ],
   "source": [
    "data['VegHeight'][11:21]"
   ]
  },
  {
   "cell_type": "code",
   "execution_count": 120,
   "id": "c920aa1c",
   "metadata": {},
   "outputs": [
    {
     "data": {
      "text/plain": [
       "0          Dune\n",
       "1          Dune\n",
       "2          Dune\n",
       "3          Dune\n",
       "4          Dune\n",
       "         ...   \n",
       "237    Woodland\n",
       "238    Woodland\n",
       "239    Woodland\n",
       "240    Woodland\n",
       "241    Woodland\n",
       "Name: Ecotype, Length: 242, dtype: object"
      ]
     },
     "execution_count": 120,
     "metadata": {},
     "output_type": "execute_result"
    }
   ],
   "source": [
    "data.Ecotype # columns can also be specified using a dot"
   ]
  },
  {
   "cell_type": "markdown",
   "id": "c6ee737b",
   "metadata": {},
   "source": [
    "The DataFrame methods `loc` and `iloc` behave in a more R familiar way to enable rows and column selection based on names and positions, respectively."
   ]
  },
  {
   "cell_type": "code",
   "execution_count": 121,
   "id": "f388769e",
   "metadata": {},
   "outputs": [
    {
     "data": {
      "text/html": [
       "<div>\n",
       "<style scoped>\n",
       "    .dataframe tbody tr th:only-of-type {\n",
       "        vertical-align: middle;\n",
       "    }\n",
       "\n",
       "    .dataframe tbody tr th {\n",
       "        vertical-align: top;\n",
       "    }\n",
       "\n",
       "    .dataframe thead th {\n",
       "        text-align: right;\n",
       "    }\n",
       "</style>\n",
       "<table border=\"1\" class=\"dataframe\">\n",
       "  <thead>\n",
       "    <tr style=\"text-align: right;\">\n",
       "      <th></th>\n",
       "      <th>Ecotype</th>\n",
       "      <th>Area</th>\n",
       "    </tr>\n",
       "  </thead>\n",
       "  <tbody>\n",
       "    <tr>\n",
       "      <th>0</th>\n",
       "      <td>Dune</td>\n",
       "      <td>613.468135</td>\n",
       "    </tr>\n",
       "    <tr>\n",
       "      <th>1</th>\n",
       "      <td>Dune</td>\n",
       "      <td>321.366835</td>\n",
       "    </tr>\n",
       "    <tr>\n",
       "      <th>2</th>\n",
       "      <td>Dune</td>\n",
       "      <td>438.073814</td>\n",
       "    </tr>\n",
       "    <tr>\n",
       "      <th>3</th>\n",
       "      <td>Dune</td>\n",
       "      <td>447.911864</td>\n",
       "    </tr>\n",
       "    <tr>\n",
       "      <th>4</th>\n",
       "      <td>Dune</td>\n",
       "      <td>406.741222</td>\n",
       "    </tr>\n",
       "    <tr>\n",
       "      <th>5</th>\n",
       "      <td>Dune</td>\n",
       "      <td>373.462330</td>\n",
       "    </tr>\n",
       "    <tr>\n",
       "      <th>6</th>\n",
       "      <td>Dune</td>\n",
       "      <td>450.554286</td>\n",
       "    </tr>\n",
       "    <tr>\n",
       "      <th>7</th>\n",
       "      <td>Dune</td>\n",
       "      <td>299.843881</td>\n",
       "    </tr>\n",
       "  </tbody>\n",
       "</table>\n",
       "</div>"
      ],
      "text/plain": [
       "  Ecotype        Area\n",
       "0    Dune  613.468135\n",
       "1    Dune  321.366835\n",
       "2    Dune  438.073814\n",
       "3    Dune  447.911864\n",
       "4    Dune  406.741222\n",
       "5    Dune  373.462330\n",
       "6    Dune  450.554286\n",
       "7    Dune  299.843881"
      ]
     },
     "execution_count": 121,
     "metadata": {},
     "output_type": "execute_result"
    }
   ],
   "source": [
    "data.loc[:7,['Ecotype', 'Area']] #NB. when using loc on a data frame with numbers (e.g. 7) for row names, row 7 is included (unlike with0-based indexing)"
   ]
  },
  {
   "cell_type": "code",
   "execution_count": 122,
   "id": "d7b6ade1",
   "metadata": {},
   "outputs": [
    {
     "data": {
      "text/html": [
       "<div>\n",
       "<style scoped>\n",
       "    .dataframe tbody tr th:only-of-type {\n",
       "        vertical-align: middle;\n",
       "    }\n",
       "\n",
       "    .dataframe tbody tr th {\n",
       "        vertical-align: top;\n",
       "    }\n",
       "\n",
       "    .dataframe thead th {\n",
       "        text-align: right;\n",
       "    }\n",
       "</style>\n",
       "<table border=\"1\" class=\"dataframe\">\n",
       "  <thead>\n",
       "    <tr style=\"text-align: right;\">\n",
       "      <th></th>\n",
       "      <th>Ecotype</th>\n",
       "      <th>Population</th>\n",
       "      <th>VegHeight</th>\n",
       "    </tr>\n",
       "  </thead>\n",
       "  <tbody>\n",
       "    <tr>\n",
       "      <th>23</th>\n",
       "      <td>Dune</td>\n",
       "      <td>D1</td>\n",
       "      <td>379</td>\n",
       "    </tr>\n",
       "    <tr>\n",
       "      <th>24</th>\n",
       "      <td>Dune</td>\n",
       "      <td>D1</td>\n",
       "      <td>253</td>\n",
       "    </tr>\n",
       "    <tr>\n",
       "      <th>25</th>\n",
       "      <td>Dune</td>\n",
       "      <td>D1</td>\n",
       "      <td>274</td>\n",
       "    </tr>\n",
       "    <tr>\n",
       "      <th>26</th>\n",
       "      <td>Dune</td>\n",
       "      <td>D1</td>\n",
       "      <td>372</td>\n",
       "    </tr>\n",
       "  </tbody>\n",
       "</table>\n",
       "</div>"
      ],
      "text/plain": [
       "   Ecotype Population  VegHeight\n",
       "23    Dune         D1        379\n",
       "24    Dune         D1        253\n",
       "25    Dune         D1        274\n",
       "26    Dune         D1        372"
      ]
     },
     "execution_count": 122,
     "metadata": {},
     "output_type": "execute_result"
    }
   ],
   "source": [
    "data.iloc[23:27,:3] "
   ]
  },
  {
   "cell_type": "code",
   "execution_count": 123,
   "id": "deec7f84",
   "metadata": {},
   "outputs": [
    {
     "data": {
      "text/html": [
       "<div>\n",
       "<style scoped>\n",
       "    .dataframe tbody tr th:only-of-type {\n",
       "        vertical-align: middle;\n",
       "    }\n",
       "\n",
       "    .dataframe tbody tr th {\n",
       "        vertical-align: top;\n",
       "    }\n",
       "\n",
       "    .dataframe thead th {\n",
       "        text-align: right;\n",
       "    }\n",
       "</style>\n",
       "<table border=\"1\" class=\"dataframe\">\n",
       "  <thead>\n",
       "    <tr style=\"text-align: right;\">\n",
       "      <th></th>\n",
       "      <th>Ecotype</th>\n",
       "      <th>Area</th>\n",
       "    </tr>\n",
       "  </thead>\n",
       "  <tbody>\n",
       "    <tr>\n",
       "      <th>0</th>\n",
       "      <td>Dune</td>\n",
       "      <td>613.468135</td>\n",
       "    </tr>\n",
       "    <tr>\n",
       "      <th>1</th>\n",
       "      <td>Dune</td>\n",
       "      <td>321.366835</td>\n",
       "    </tr>\n",
       "    <tr>\n",
       "      <th>2</th>\n",
       "      <td>Dune</td>\n",
       "      <td>438.073814</td>\n",
       "    </tr>\n",
       "    <tr>\n",
       "      <th>3</th>\n",
       "      <td>Dune</td>\n",
       "      <td>447.911864</td>\n",
       "    </tr>\n",
       "    <tr>\n",
       "      <th>4</th>\n",
       "      <td>Dune</td>\n",
       "      <td>406.741222</td>\n",
       "    </tr>\n",
       "    <tr>\n",
       "      <th>5</th>\n",
       "      <td>Dune</td>\n",
       "      <td>373.462330</td>\n",
       "    </tr>\n",
       "    <tr>\n",
       "      <th>6</th>\n",
       "      <td>Dune</td>\n",
       "      <td>450.554286</td>\n",
       "    </tr>\n",
       "  </tbody>\n",
       "</table>\n",
       "</div>"
      ],
      "text/plain": [
       "  Ecotype        Area\n",
       "0    Dune  613.468135\n",
       "1    Dune  321.366835\n",
       "2    Dune  438.073814\n",
       "3    Dune  447.911864\n",
       "4    Dune  406.741222\n",
       "5    Dune  373.462330\n",
       "6    Dune  450.554286"
      ]
     },
     "execution_count": 123,
     "metadata": {},
     "output_type": "execute_result"
    }
   ],
   "source": [
    "data.iloc[:7,[0,6]] #go to row 6"
   ]
  },
  {
   "cell_type": "code",
   "execution_count": 124,
   "id": "502284fb",
   "metadata": {},
   "outputs": [
    {
     "data": {
      "text/html": [
       "<div>\n",
       "<style scoped>\n",
       "    .dataframe tbody tr th:only-of-type {\n",
       "        vertical-align: middle;\n",
       "    }\n",
       "\n",
       "    .dataframe tbody tr th {\n",
       "        vertical-align: top;\n",
       "    }\n",
       "\n",
       "    .dataframe thead th {\n",
       "        text-align: right;\n",
       "    }\n",
       "</style>\n",
       "<table border=\"1\" class=\"dataframe\">\n",
       "  <thead>\n",
       "    <tr style=\"text-align: right;\">\n",
       "      <th></th>\n",
       "      <th>Ecotype</th>\n",
       "      <th>Population</th>\n",
       "      <th>VegHeight</th>\n",
       "      <th>MSL_W</th>\n",
       "      <th>SB</th>\n",
       "      <th>MSD</th>\n",
       "      <th>Area</th>\n",
       "      <th>P2A2</th>\n",
       "      <th>Circularity</th>\n",
       "      <th>Nindents.Peri</th>\n",
       "      <th>IndentWidth</th>\n",
       "      <th>IndentDepth</th>\n",
       "    </tr>\n",
       "  </thead>\n",
       "  <tbody>\n",
       "    <tr>\n",
       "      <th>9</th>\n",
       "      <td>Dune</td>\n",
       "      <td>D0</td>\n",
       "      <td>415</td>\n",
       "      <td>1.081481</td>\n",
       "      <td>19</td>\n",
       "      <td>4.57</td>\n",
       "      <td>440.744649</td>\n",
       "      <td>0.265782</td>\n",
       "      <td>41.271905</td>\n",
       "      <td>0.105624</td>\n",
       "      <td>4.812255</td>\n",
       "      <td>1.552977</td>\n",
       "    </tr>\n",
       "    <tr>\n",
       "      <th>49</th>\n",
       "      <td>Dune</td>\n",
       "      <td>D4</td>\n",
       "      <td>431</td>\n",
       "      <td>0.547291</td>\n",
       "      <td>24</td>\n",
       "      <td>5.19</td>\n",
       "      <td>797.642118</td>\n",
       "      <td>0.087218</td>\n",
       "      <td>38.235433</td>\n",
       "      <td>0.097637</td>\n",
       "      <td>6.910844</td>\n",
       "      <td>1.827826</td>\n",
       "    </tr>\n",
       "    <tr>\n",
       "      <th>50</th>\n",
       "      <td>Dune</td>\n",
       "      <td>D4</td>\n",
       "      <td>412</td>\n",
       "      <td>0.387016</td>\n",
       "      <td>17</td>\n",
       "      <td>4.30</td>\n",
       "      <td>713.702595</td>\n",
       "      <td>0.106460</td>\n",
       "      <td>36.257282</td>\n",
       "      <td>0.124534</td>\n",
       "      <td>6.421596</td>\n",
       "      <td>1.336906</td>\n",
       "    </tr>\n",
       "    <tr>\n",
       "      <th>51</th>\n",
       "      <td>Dune</td>\n",
       "      <td>D4</td>\n",
       "      <td>442</td>\n",
       "      <td>0.454672</td>\n",
       "      <td>18</td>\n",
       "      <td>5.41</td>\n",
       "      <td>1112.083250</td>\n",
       "      <td>0.064920</td>\n",
       "      <td>59.666763</td>\n",
       "      <td>0.095288</td>\n",
       "      <td>6.890045</td>\n",
       "      <td>1.374477</td>\n",
       "    </tr>\n",
       "    <tr>\n",
       "      <th>52</th>\n",
       "      <td>Dune</td>\n",
       "      <td>D4</td>\n",
       "      <td>475</td>\n",
       "      <td>0.684685</td>\n",
       "      <td>21</td>\n",
       "      <td>5.90</td>\n",
       "      <td>1222.816365</td>\n",
       "      <td>0.071922</td>\n",
       "      <td>54.280212</td>\n",
       "      <td>0.100629</td>\n",
       "      <td>5.381811</td>\n",
       "      <td>1.594364</td>\n",
       "    </tr>\n",
       "    <tr>\n",
       "      <th>53</th>\n",
       "      <td>Dune</td>\n",
       "      <td>D4</td>\n",
       "      <td>487</td>\n",
       "      <td>0.455674</td>\n",
       "      <td>19</td>\n",
       "      <td>5.76</td>\n",
       "      <td>561.102716</td>\n",
       "      <td>0.129523</td>\n",
       "      <td>53.643541</td>\n",
       "      <td>0.138657</td>\n",
       "      <td>4.475944</td>\n",
       "      <td>1.303720</td>\n",
       "    </tr>\n",
       "    <tr>\n",
       "      <th>55</th>\n",
       "      <td>Dune</td>\n",
       "      <td>D4</td>\n",
       "      <td>481</td>\n",
       "      <td>0.677262</td>\n",
       "      <td>19</td>\n",
       "      <td>5.76</td>\n",
       "      <td>853.793588</td>\n",
       "      <td>0.061293</td>\n",
       "      <td>53.070744</td>\n",
       "      <td>0.175043</td>\n",
       "      <td>4.602571</td>\n",
       "      <td>0.948779</td>\n",
       "    </tr>\n",
       "    <tr>\n",
       "      <th>59</th>\n",
       "      <td>Dune</td>\n",
       "      <td>D4</td>\n",
       "      <td>465</td>\n",
       "      <td>0.682870</td>\n",
       "      <td>19</td>\n",
       "      <td>3.59</td>\n",
       "      <td>852.642856</td>\n",
       "      <td>0.068356</td>\n",
       "      <td>45.826220</td>\n",
       "      <td>0.103175</td>\n",
       "      <td>8.144117</td>\n",
       "      <td>0.960212</td>\n",
       "    </tr>\n",
       "    <tr>\n",
       "      <th>60</th>\n",
       "      <td>Dune</td>\n",
       "      <td>D4</td>\n",
       "      <td>415</td>\n",
       "      <td>0.418554</td>\n",
       "      <td>15</td>\n",
       "      <td>4.64</td>\n",
       "      <td>1312.800784</td>\n",
       "      <td>0.077775</td>\n",
       "      <td>40.634898</td>\n",
       "      <td>0.084672</td>\n",
       "      <td>7.367725</td>\n",
       "      <td>1.896699</td>\n",
       "    </tr>\n",
       "  </tbody>\n",
       "</table>\n",
       "</div>"
      ],
      "text/plain": [
       "   Ecotype Population  VegHeight     MSL_W  SB   MSD         Area      P2A2  \\\n",
       "9     Dune         D0        415  1.081481  19  4.57   440.744649  0.265782   \n",
       "49    Dune         D4        431  0.547291  24  5.19   797.642118  0.087218   \n",
       "50    Dune         D4        412  0.387016  17  4.30   713.702595  0.106460   \n",
       "51    Dune         D4        442  0.454672  18  5.41  1112.083250  0.064920   \n",
       "52    Dune         D4        475  0.684685  21  5.90  1222.816365  0.071922   \n",
       "53    Dune         D4        487  0.455674  19  5.76   561.102716  0.129523   \n",
       "55    Dune         D4        481  0.677262  19  5.76   853.793588  0.061293   \n",
       "59    Dune         D4        465  0.682870  19  3.59   852.642856  0.068356   \n",
       "60    Dune         D4        415  0.418554  15  4.64  1312.800784  0.077775   \n",
       "\n",
       "    Circularity  Nindents.Peri  IndentWidth  IndentDepth  \n",
       "9     41.271905       0.105624     4.812255     1.552977  \n",
       "49    38.235433       0.097637     6.910844     1.827826  \n",
       "50    36.257282       0.124534     6.421596     1.336906  \n",
       "51    59.666763       0.095288     6.890045     1.374477  \n",
       "52    54.280212       0.100629     5.381811     1.594364  \n",
       "53    53.643541       0.138657     4.475944     1.303720  \n",
       "55    53.070744       0.175043     4.602571     0.948779  \n",
       "59    45.826220       0.103175     8.144117     0.960212  \n",
       "60    40.634898       0.084672     7.367725     1.896699  "
      ]
     },
     "execution_count": 124,
     "metadata": {},
     "output_type": "execute_result"
    }
   ],
   "source": [
    "data[(data[\"Ecotype\"] == \"Dune\") & (data[\"VegHeight\"] > 410)]"
   ]
  },
  {
   "cell_type": "code",
   "execution_count": 126,
   "id": "8daa9e42",
   "metadata": {},
   "outputs": [
    {
     "data": {
      "text/plain": [
       "<AxesSubplot:xlabel='Area', ylabel='VegHeight'>"
      ]
     },
     "execution_count": 126,
     "metadata": {},
     "output_type": "execute_result"
    },
    {
     "data": {
      "image/png": "[encoded data removed]",
      "text/plain": [
       "<Figure size 432x288 with 1 Axes>"
      ]
     },
     "metadata": {
      "needs_background": "light"
     },
     "output_type": "display_data"
    }
   ],
   "source": [
    "data.plot.scatter(x='Area',y='VegHeight')"
   ]
  },
  {
   "cell_type": "code",
   "execution_count": 128,
   "id": "d8bc5712",
   "metadata": {},
   "outputs": [],
   "source": [
    "df = pd.read_csv(\"day3_python/data/bunyas_community_data.csv\")\n"
   ]
  },
  {
   "cell_type": "code",
   "execution_count": 129,
   "id": "24c802e8",
   "metadata": {},
   "outputs": [
    {
     "data": {
      "text/html": [
       "<div>\n",
       "<style scoped>\n",
       "    .dataframe tbody tr th:only-of-type {\n",
       "        vertical-align: middle;\n",
       "    }\n",
       "\n",
       "    .dataframe tbody tr th {\n",
       "        vertical-align: top;\n",
       "    }\n",
       "\n",
       "    .dataframe thead th {\n",
       "        text-align: right;\n",
       "    }\n",
       "</style>\n",
       "<table border=\"1\" class=\"dataframe\">\n",
       "  <thead>\n",
       "    <tr style=\"text-align: right;\">\n",
       "      <th></th>\n",
       "      <th>location</th>\n",
       "      <th>subplot</th>\n",
       "      <th>Cryptocarya obovata</th>\n",
       "      <th>Anthocarapa nitidula</th>\n",
       "      <th>Diploglottis australis</th>\n",
       "      <th>Guioa semiglauca</th>\n",
       "      <th>Ficus obliqua</th>\n",
       "      <th>Argyrodendron trifoliolatum</th>\n",
       "      <th>Neolitsea australiensis</th>\n",
       "      <th>Sarcomelicope simplicifolia</th>\n",
       "      <th>...</th>\n",
       "      <th>Rhodosphaera rhodanthema</th>\n",
       "      <th>Euroschinus falcatus</th>\n",
       "      <th>NA</th>\n",
       "      <th>Myrsine variabilis</th>\n",
       "      <th>Diospyros australis</th>\n",
       "      <th>Cryptocarya floydii</th>\n",
       "      <th>Psychotria daphnoides</th>\n",
       "      <th>Rhodamnia dumicola</th>\n",
       "      <th>Auranticarpa rhombifolia</th>\n",
       "      <th>Alchornea ilicifolia</th>\n",
       "    </tr>\n",
       "  </thead>\n",
       "  <tbody>\n",
       "    <tr>\n",
       "      <th>0</th>\n",
       "      <td>high</td>\n",
       "      <td>1</td>\n",
       "      <td>4</td>\n",
       "      <td>1</td>\n",
       "      <td>5</td>\n",
       "      <td>9</td>\n",
       "      <td>1</td>\n",
       "      <td>10</td>\n",
       "      <td>3</td>\n",
       "      <td>1</td>\n",
       "      <td>...</td>\n",
       "      <td>0</td>\n",
       "      <td>0</td>\n",
       "      <td>0</td>\n",
       "      <td>0</td>\n",
       "      <td>0</td>\n",
       "      <td>0</td>\n",
       "      <td>0</td>\n",
       "      <td>0</td>\n",
       "      <td>0</td>\n",
       "      <td>0</td>\n",
       "    </tr>\n",
       "    <tr>\n",
       "      <th>1</th>\n",
       "      <td>high</td>\n",
       "      <td>2</td>\n",
       "      <td>10</td>\n",
       "      <td>0</td>\n",
       "      <td>5</td>\n",
       "      <td>9</td>\n",
       "      <td>0</td>\n",
       "      <td>10</td>\n",
       "      <td>2</td>\n",
       "      <td>0</td>\n",
       "      <td>...</td>\n",
       "      <td>0</td>\n",
       "      <td>0</td>\n",
       "      <td>0</td>\n",
       "      <td>0</td>\n",
       "      <td>0</td>\n",
       "      <td>0</td>\n",
       "      <td>0</td>\n",
       "      <td>0</td>\n",
       "      <td>0</td>\n",
       "      <td>0</td>\n",
       "    </tr>\n",
       "    <tr>\n",
       "      <th>2</th>\n",
       "      <td>high</td>\n",
       "      <td>3</td>\n",
       "      <td>14</td>\n",
       "      <td>3</td>\n",
       "      <td>5</td>\n",
       "      <td>0</td>\n",
       "      <td>0</td>\n",
       "      <td>13</td>\n",
       "      <td>3</td>\n",
       "      <td>0</td>\n",
       "      <td>...</td>\n",
       "      <td>0</td>\n",
       "      <td>0</td>\n",
       "      <td>0</td>\n",
       "      <td>0</td>\n",
       "      <td>0</td>\n",
       "      <td>0</td>\n",
       "      <td>0</td>\n",
       "      <td>0</td>\n",
       "      <td>0</td>\n",
       "      <td>0</td>\n",
       "    </tr>\n",
       "    <tr>\n",
       "      <th>3</th>\n",
       "      <td>high</td>\n",
       "      <td>4</td>\n",
       "      <td>3</td>\n",
       "      <td>0</td>\n",
       "      <td>4</td>\n",
       "      <td>4</td>\n",
       "      <td>0</td>\n",
       "      <td>14</td>\n",
       "      <td>2</td>\n",
       "      <td>0</td>\n",
       "      <td>...</td>\n",
       "      <td>0</td>\n",
       "      <td>0</td>\n",
       "      <td>0</td>\n",
       "      <td>0</td>\n",
       "      <td>0</td>\n",
       "      <td>0</td>\n",
       "      <td>0</td>\n",
       "      <td>0</td>\n",
       "      <td>0</td>\n",
       "      <td>0</td>\n",
       "    </tr>\n",
       "    <tr>\n",
       "      <th>4</th>\n",
       "      <td>low_east</td>\n",
       "      <td>1</td>\n",
       "      <td>0</td>\n",
       "      <td>0</td>\n",
       "      <td>0</td>\n",
       "      <td>0</td>\n",
       "      <td>2</td>\n",
       "      <td>0</td>\n",
       "      <td>0</td>\n",
       "      <td>0</td>\n",
       "      <td>...</td>\n",
       "      <td>0</td>\n",
       "      <td>0</td>\n",
       "      <td>0</td>\n",
       "      <td>0</td>\n",
       "      <td>0</td>\n",
       "      <td>0</td>\n",
       "      <td>0</td>\n",
       "      <td>0</td>\n",
       "      <td>0</td>\n",
       "      <td>0</td>\n",
       "    </tr>\n",
       "  </tbody>\n",
       "</table>\n",
       "<p>5 rows × 91 columns</p>\n",
       "</div>"
      ],
      "text/plain": [
       "   location  subplot  Cryptocarya obovata  Anthocarapa nitidula  \\\n",
       "0      high        1                    4                     1   \n",
       "1      high        2                   10                     0   \n",
       "2      high        3                   14                     3   \n",
       "3      high        4                    3                     0   \n",
       "4  low_east        1                    0                     0   \n",
       "\n",
       "   Diploglottis australis  Guioa semiglauca  Ficus obliqua  \\\n",
       "0                       5                 9              1   \n",
       "1                       5                 9              0   \n",
       "2                       5                 0              0   \n",
       "3                       4                 4              0   \n",
       "4                       0                 0              2   \n",
       "\n",
       "   Argyrodendron trifoliolatum  Neolitsea australiensis  \\\n",
       "0                           10                        3   \n",
       "1                           10                        2   \n",
       "2                           13                        3   \n",
       "3                           14                        2   \n",
       "4                            0                        0   \n",
       "\n",
       "   Sarcomelicope simplicifolia  ...  Rhodosphaera rhodanthema  \\\n",
       "0                            1  ...                         0   \n",
       "1                            0  ...                         0   \n",
       "2                            0  ...                         0   \n",
       "3                            0  ...                         0   \n",
       "4                            0  ...                         0   \n",
       "\n",
       "   Euroschinus falcatus  NA  Myrsine variabilis  Diospyros australis  \\\n",
       "0                     0   0                   0                    0   \n",
       "1                     0   0                   0                    0   \n",
       "2                     0   0                   0                    0   \n",
       "3                     0   0                   0                    0   \n",
       "4                     0   0                   0                    0   \n",
       "\n",
       "   Cryptocarya floydii  Psychotria daphnoides  Rhodamnia dumicola  \\\n",
       "0                    0                      0                   0   \n",
       "1                    0                      0                   0   \n",
       "2                    0                      0                   0   \n",
       "3                    0                      0                   0   \n",
       "4                    0                      0                   0   \n",
       "\n",
       "   Auranticarpa rhombifolia  Alchornea ilicifolia  \n",
       "0                         0                     0  \n",
       "1                         0                     0  \n",
       "2                         0                     0  \n",
       "3                         0                     0  \n",
       "4                         0                     0  \n",
       "\n",
       "[5 rows x 91 columns]"
      ]
     },
     "execution_count": 129,
     "metadata": {},
     "output_type": "execute_result"
    }
   ],
   "source": [
    "df.head()"
   ]
  },
  {
   "cell_type": "code",
   "execution_count": 130,
   "id": "165237a6",
   "metadata": {},
   "outputs": [],
   "source": [
    "df_tidy = df.melt(id_vars=['location', 'subplot'], var_name='species', value_name='counts')"
   ]
  },
  {
   "cell_type": "code",
   "execution_count": 131,
   "id": "5dca15fa",
   "metadata": {},
   "outputs": [
    {
     "data": {
      "text/html": [
       "<div>\n",
       "<style scoped>\n",
       "    .dataframe tbody tr th:only-of-type {\n",
       "        vertical-align: middle;\n",
       "    }\n",
       "\n",
       "    .dataframe tbody tr th {\n",
       "        vertical-align: top;\n",
       "    }\n",
       "\n",
       "    .dataframe thead th {\n",
       "        text-align: right;\n",
       "    }\n",
       "</style>\n",
       "<table border=\"1\" class=\"dataframe\">\n",
       "  <thead>\n",
       "    <tr style=\"text-align: right;\">\n",
       "      <th></th>\n",
       "      <th>location</th>\n",
       "      <th>subplot</th>\n",
       "      <th>species</th>\n",
       "      <th>counts</th>\n",
       "    </tr>\n",
       "  </thead>\n",
       "  <tbody>\n",
       "    <tr>\n",
       "      <th>0</th>\n",
       "      <td>high</td>\n",
       "      <td>1</td>\n",
       "      <td>Cryptocarya obovata</td>\n",
       "      <td>4</td>\n",
       "    </tr>\n",
       "    <tr>\n",
       "      <th>1</th>\n",
       "      <td>high</td>\n",
       "      <td>2</td>\n",
       "      <td>Cryptocarya obovata</td>\n",
       "      <td>10</td>\n",
       "    </tr>\n",
       "    <tr>\n",
       "      <th>2</th>\n",
       "      <td>high</td>\n",
       "      <td>3</td>\n",
       "      <td>Cryptocarya obovata</td>\n",
       "      <td>14</td>\n",
       "    </tr>\n",
       "    <tr>\n",
       "      <th>3</th>\n",
       "      <td>high</td>\n",
       "      <td>4</td>\n",
       "      <td>Cryptocarya obovata</td>\n",
       "      <td>3</td>\n",
       "    </tr>\n",
       "    <tr>\n",
       "      <th>4</th>\n",
       "      <td>low_east</td>\n",
       "      <td>1</td>\n",
       "      <td>Cryptocarya obovata</td>\n",
       "      <td>0</td>\n",
       "    </tr>\n",
       "  </tbody>\n",
       "</table>\n",
       "</div>"
      ],
      "text/plain": [
       "   location  subplot              species  counts\n",
       "0      high        1  Cryptocarya obovata       4\n",
       "1      high        2  Cryptocarya obovata      10\n",
       "2      high        3  Cryptocarya obovata      14\n",
       "3      high        4  Cryptocarya obovata       3\n",
       "4  low_east        1  Cryptocarya obovata       0"
      ]
     },
     "execution_count": 131,
     "metadata": {},
     "output_type": "execute_result"
    }
   ],
   "source": [
    "df_tidy.head()"
   ]
  },
  {
   "cell_type": "code",
   "execution_count": 133,
   "id": "2c3b4f89",
   "metadata": {},
   "outputs": [],
   "source": [
    "df_tidy_sub = df_tidy.query(\"counts > 0\").sort_values([\"location\", \"subplot\", \"counts\"], ascending=False)"
   ]
  },
  {
   "cell_type": "code",
   "execution_count": 134,
   "id": "9d7044b6",
   "metadata": {},
   "outputs": [
    {
     "data": {
      "text/html": [
       "<div>\n",
       "<style scoped>\n",
       "    .dataframe tbody tr th:only-of-type {\n",
       "        vertical-align: middle;\n",
       "    }\n",
       "\n",
       "    .dataframe tbody tr th {\n",
       "        vertical-align: top;\n",
       "    }\n",
       "\n",
       "    .dataframe thead th {\n",
       "        text-align: right;\n",
       "    }\n",
       "</style>\n",
       "<table border=\"1\" class=\"dataframe\">\n",
       "  <thead>\n",
       "    <tr style=\"text-align: right;\">\n",
       "      <th></th>\n",
       "      <th>location</th>\n",
       "      <th>subplot</th>\n",
       "      <th>species</th>\n",
       "      <th>counts</th>\n",
       "    </tr>\n",
       "  </thead>\n",
       "  <tbody>\n",
       "    <tr>\n",
       "      <th>0</th>\n",
       "      <td>high</td>\n",
       "      <td>1</td>\n",
       "      <td>23</td>\n",
       "      <td>23</td>\n",
       "    </tr>\n",
       "    <tr>\n",
       "      <th>1</th>\n",
       "      <td>high</td>\n",
       "      <td>2</td>\n",
       "      <td>13</td>\n",
       "      <td>13</td>\n",
       "    </tr>\n",
       "    <tr>\n",
       "      <th>2</th>\n",
       "      <td>high</td>\n",
       "      <td>3</td>\n",
       "      <td>14</td>\n",
       "      <td>14</td>\n",
       "    </tr>\n",
       "    <tr>\n",
       "      <th>3</th>\n",
       "      <td>high</td>\n",
       "      <td>4</td>\n",
       "      <td>20</td>\n",
       "      <td>20</td>\n",
       "    </tr>\n",
       "    <tr>\n",
       "      <th>4</th>\n",
       "      <td>low_east</td>\n",
       "      <td>1</td>\n",
       "      <td>20</td>\n",
       "      <td>20</td>\n",
       "    </tr>\n",
       "    <tr>\n",
       "      <th>5</th>\n",
       "      <td>low_east</td>\n",
       "      <td>2</td>\n",
       "      <td>17</td>\n",
       "      <td>17</td>\n",
       "    </tr>\n",
       "    <tr>\n",
       "      <th>6</th>\n",
       "      <td>low_east</td>\n",
       "      <td>3</td>\n",
       "      <td>18</td>\n",
       "      <td>18</td>\n",
       "    </tr>\n",
       "    <tr>\n",
       "      <th>7</th>\n",
       "      <td>low_east</td>\n",
       "      <td>4</td>\n",
       "      <td>13</td>\n",
       "      <td>13</td>\n",
       "    </tr>\n",
       "    <tr>\n",
       "      <th>8</th>\n",
       "      <td>low_west</td>\n",
       "      <td>1</td>\n",
       "      <td>14</td>\n",
       "      <td>14</td>\n",
       "    </tr>\n",
       "    <tr>\n",
       "      <th>9</th>\n",
       "      <td>low_west</td>\n",
       "      <td>2</td>\n",
       "      <td>10</td>\n",
       "      <td>10</td>\n",
       "    </tr>\n",
       "    <tr>\n",
       "      <th>10</th>\n",
       "      <td>low_west</td>\n",
       "      <td>3</td>\n",
       "      <td>17</td>\n",
       "      <td>17</td>\n",
       "    </tr>\n",
       "    <tr>\n",
       "      <th>11</th>\n",
       "      <td>low_west</td>\n",
       "      <td>4</td>\n",
       "      <td>15</td>\n",
       "      <td>15</td>\n",
       "    </tr>\n",
       "    <tr>\n",
       "      <th>12</th>\n",
       "      <td>mid_east</td>\n",
       "      <td>1</td>\n",
       "      <td>24</td>\n",
       "      <td>24</td>\n",
       "    </tr>\n",
       "    <tr>\n",
       "      <th>13</th>\n",
       "      <td>mid_east</td>\n",
       "      <td>2</td>\n",
       "      <td>18</td>\n",
       "      <td>18</td>\n",
       "    </tr>\n",
       "    <tr>\n",
       "      <th>14</th>\n",
       "      <td>mid_east</td>\n",
       "      <td>3</td>\n",
       "      <td>28</td>\n",
       "      <td>28</td>\n",
       "    </tr>\n",
       "    <tr>\n",
       "      <th>15</th>\n",
       "      <td>mid_east</td>\n",
       "      <td>4</td>\n",
       "      <td>20</td>\n",
       "      <td>20</td>\n",
       "    </tr>\n",
       "    <tr>\n",
       "      <th>16</th>\n",
       "      <td>mid_west</td>\n",
       "      <td>1</td>\n",
       "      <td>31</td>\n",
       "      <td>31</td>\n",
       "    </tr>\n",
       "    <tr>\n",
       "      <th>17</th>\n",
       "      <td>mid_west</td>\n",
       "      <td>2</td>\n",
       "      <td>30</td>\n",
       "      <td>30</td>\n",
       "    </tr>\n",
       "    <tr>\n",
       "      <th>18</th>\n",
       "      <td>mid_west</td>\n",
       "      <td>3</td>\n",
       "      <td>27</td>\n",
       "      <td>27</td>\n",
       "    </tr>\n",
       "    <tr>\n",
       "      <th>19</th>\n",
       "      <td>mid_west</td>\n",
       "      <td>4</td>\n",
       "      <td>27</td>\n",
       "      <td>27</td>\n",
       "    </tr>\n",
       "  </tbody>\n",
       "</table>\n",
       "</div>"
      ],
      "text/plain": [
       "    location  subplot  species  counts\n",
       "0       high        1       23      23\n",
       "1       high        2       13      13\n",
       "2       high        3       14      14\n",
       "3       high        4       20      20\n",
       "4   low_east        1       20      20\n",
       "5   low_east        2       17      17\n",
       "6   low_east        3       18      18\n",
       "7   low_east        4       13      13\n",
       "8   low_west        1       14      14\n",
       "9   low_west        2       10      10\n",
       "10  low_west        3       17      17\n",
       "11  low_west        4       15      15\n",
       "12  mid_east        1       24      24\n",
       "13  mid_east        2       18      18\n",
       "14  mid_east        3       28      28\n",
       "15  mid_east        4       20      20\n",
       "16  mid_west        1       31      31\n",
       "17  mid_west        2       30      30\n",
       "18  mid_west        3       27      27\n",
       "19  mid_west        4       27      27"
      ]
     },
     "execution_count": 134,
     "metadata": {},
     "output_type": "execute_result"
    }
   ],
   "source": [
    "df_tidy_sub.groupby([\"location\", \"subplot\"]).count().reset_index()"
   ]
  },
  {
   "cell_type": "code",
   "execution_count": 135,
   "id": "d6b838a6",
   "metadata": {},
   "outputs": [
    {
     "data": {
      "text/html": [
       "<div>\n",
       "<style scoped>\n",
       "    .dataframe tbody tr th:only-of-type {\n",
       "        vertical-align: middle;\n",
       "    }\n",
       "\n",
       "    .dataframe tbody tr th {\n",
       "        vertical-align: top;\n",
       "    }\n",
       "\n",
       "    .dataframe thead th {\n",
       "        text-align: right;\n",
       "    }\n",
       "</style>\n",
       "<table border=\"1\" class=\"dataframe\">\n",
       "  <thead>\n",
       "    <tr style=\"text-align: right;\">\n",
       "      <th></th>\n",
       "      <th>location</th>\n",
       "      <th>species</th>\n",
       "    </tr>\n",
       "  </thead>\n",
       "  <tbody>\n",
       "    <tr>\n",
       "      <th>0</th>\n",
       "      <td>high</td>\n",
       "      <td>17.50</td>\n",
       "    </tr>\n",
       "    <tr>\n",
       "      <th>1</th>\n",
       "      <td>low_east</td>\n",
       "      <td>17.00</td>\n",
       "    </tr>\n",
       "    <tr>\n",
       "      <th>2</th>\n",
       "      <td>low_west</td>\n",
       "      <td>14.00</td>\n",
       "    </tr>\n",
       "    <tr>\n",
       "      <th>3</th>\n",
       "      <td>mid_east</td>\n",
       "      <td>22.50</td>\n",
       "    </tr>\n",
       "    <tr>\n",
       "      <th>4</th>\n",
       "      <td>mid_west</td>\n",
       "      <td>28.75</td>\n",
       "    </tr>\n",
       "  </tbody>\n",
       "</table>\n",
       "</div>"
      ],
      "text/plain": [
       "   location  species\n",
       "0      high    17.50\n",
       "1  low_east    17.00\n",
       "2  low_west    14.00\n",
       "3  mid_east    22.50\n",
       "4  mid_west    28.75"
      ]
     },
     "execution_count": 135,
     "metadata": {},
     "output_type": "execute_result"
    }
   ],
   "source": [
    "(df_tidy_sub.groupby([\"location\", \"subplot\"])\n",
    "    .agg({'species':'count'})\n",
    "#    .reset_index() \n",
    "    .groupby([\"location\"])\n",
    "    .agg({'species':'mean'})\n",
    "    .reset_index())"
   ]
  },
  {
   "cell_type": "markdown",
   "id": "24bb442e",
   "metadata": {},
   "source": [
    "Exercise 5\n",
    "\n",
    "In this exercise, modeled on exercise 5.3 from the R module, we will calculate means and 'means of means' of plant heights, using Daniel's senecio dataset.\n",
    "\n",
    "5a. Generate a new data frame from senecio that contains the mean height and number of individuals for each of the 16 populations. This data frame should also contain the ecotype information for each population. Depending on the approach you take you may end up with multilevel indexed columns. If you want to collapse them (not actually needed for the analysis) google / stackoverflow is your friend!"
   ]
  },
  {
   "cell_type": "code",
   "execution_count": 139,
   "id": "8d94b364",
   "metadata": {},
   "outputs": [],
   "source": [
    "data = pd.read_csv(\"day3_python/data/senecio.csv\")"
   ]
  },
  {
   "cell_type": "code",
   "execution_count": 141,
   "id": "66b5bf1f",
   "metadata": {},
   "outputs": [
    {
     "data": {
      "text/html": [
       "<div>\n",
       "<style scoped>\n",
       "    .dataframe tbody tr th:only-of-type {\n",
       "        vertical-align: middle;\n",
       "    }\n",
       "\n",
       "    .dataframe tbody tr th {\n",
       "        vertical-align: top;\n",
       "    }\n",
       "\n",
       "    .dataframe thead th {\n",
       "        text-align: right;\n",
       "    }\n",
       "</style>\n",
       "<table border=\"1\" class=\"dataframe\">\n",
       "  <thead>\n",
       "    <tr style=\"text-align: right;\">\n",
       "      <th></th>\n",
       "      <th>Ecotype</th>\n",
       "      <th>Population</th>\n",
       "      <th>VegHeight</th>\n",
       "      <th>MSL_W</th>\n",
       "      <th>SB</th>\n",
       "      <th>MSD</th>\n",
       "      <th>Area</th>\n",
       "      <th>P2A2</th>\n",
       "      <th>Circularity</th>\n",
       "      <th>Nindents.Peri</th>\n",
       "      <th>IndentWidth</th>\n",
       "      <th>IndentDepth</th>\n",
       "    </tr>\n",
       "  </thead>\n",
       "  <tbody>\n",
       "    <tr>\n",
       "      <th>0</th>\n",
       "      <td>Dune</td>\n",
       "      <td>D0</td>\n",
       "      <td>354</td>\n",
       "      <td>0.459259</td>\n",
       "      <td>16</td>\n",
       "      <td>4.31</td>\n",
       "      <td>613.468135</td>\n",
       "      <td>0.159502</td>\n",
       "      <td>37.157379</td>\n",
       "      <td>0.110202</td>\n",
       "      <td>5.127754</td>\n",
       "      <td>1.202011</td>\n",
       "    </tr>\n",
       "    <tr>\n",
       "      <th>1</th>\n",
       "      <td>Dune</td>\n",
       "      <td>D0</td>\n",
       "      <td>317</td>\n",
       "      <td>0.318421</td>\n",
       "      <td>16</td>\n",
       "      <td>4.58</td>\n",
       "      <td>321.366835</td>\n",
       "      <td>0.220129</td>\n",
       "      <td>51.482505</td>\n",
       "      <td>0.165806</td>\n",
       "      <td>4.075965</td>\n",
       "      <td>0.765863</td>\n",
       "    </tr>\n",
       "    <tr>\n",
       "      <th>2</th>\n",
       "      <td>Dune</td>\n",
       "      <td>D0</td>\n",
       "      <td>309</td>\n",
       "      <td>0.389542</td>\n",
       "      <td>16</td>\n",
       "      <td>5.09</td>\n",
       "      <td>438.073814</td>\n",
       "      <td>0.164009</td>\n",
       "      <td>35.246350</td>\n",
       "      <td>0.118369</td>\n",
       "      <td>6.221302</td>\n",
       "      <td>1.583950</td>\n",
       "    </tr>\n",
       "    <tr>\n",
       "      <th>3</th>\n",
       "      <td>Dune</td>\n",
       "      <td>D0</td>\n",
       "      <td>327</td>\n",
       "      <td>0.538593</td>\n",
       "      <td>15</td>\n",
       "      <td>4.68</td>\n",
       "      <td>447.911864</td>\n",
       "      <td>0.186158</td>\n",
       "      <td>31.049993</td>\n",
       "      <td>0.087966</td>\n",
       "      <td>7.599282</td>\n",
       "      <td>1.392852</td>\n",
       "    </tr>\n",
       "    <tr>\n",
       "      <th>4</th>\n",
       "      <td>Dune</td>\n",
       "      <td>D0</td>\n",
       "      <td>376</td>\n",
       "      <td>0.463811</td>\n",
       "      <td>17</td>\n",
       "      <td>4.65</td>\n",
       "      <td>406.741222</td>\n",
       "      <td>0.287131</td>\n",
       "      <td>64.196189</td>\n",
       "      <td>0.133058</td>\n",
       "      <td>4.365729</td>\n",
       "      <td>1.163325</td>\n",
       "    </tr>\n",
       "  </tbody>\n",
       "</table>\n",
       "</div>"
      ],
      "text/plain": [
       "  Ecotype Population  VegHeight     MSL_W  SB   MSD        Area      P2A2  \\\n",
       "0    Dune         D0        354  0.459259  16  4.31  613.468135  0.159502   \n",
       "1    Dune         D0        317  0.318421  16  4.58  321.366835  0.220129   \n",
       "2    Dune         D0        309  0.389542  16  5.09  438.073814  0.164009   \n",
       "3    Dune         D0        327  0.538593  15  4.68  447.911864  0.186158   \n",
       "4    Dune         D0        376  0.463811  17  4.65  406.741222  0.287131   \n",
       "\n",
       "   Circularity  Nindents.Peri  IndentWidth  IndentDepth  \n",
       "0    37.157379       0.110202     5.127754     1.202011  \n",
       "1    51.482505       0.165806     4.075965     0.765863  \n",
       "2    35.246350       0.118369     6.221302     1.583950  \n",
       "3    31.049993       0.087966     7.599282     1.392852  \n",
       "4    64.196189       0.133058     4.365729     1.163325  "
      ]
     },
     "execution_count": 141,
     "metadata": {},
     "output_type": "execute_result"
    }
   ],
   "source": [
    "data.head()"
   ]
  },
  {
   "cell_type": "code",
   "execution_count": 165,
   "id": "eafd0406",
   "metadata": {},
   "outputs": [],
   "source": [
    "data_5a = (data.groupby(['Ecotype','Population'])\n",
    "                    .agg(meanHeight = ('VegHeight','mean'),\n",
    "                        nIndsPerPop = ('VegHeight','count'))\n",
    "                    .reset_index()\n",
    "                )"
   ]
  },
  {
   "cell_type": "code",
   "execution_count": 166,
   "id": "8c460cf5",
   "metadata": {},
   "outputs": [
    {
     "data": {
      "text/html": [
       "<div>\n",
       "<style scoped>\n",
       "    .dataframe tbody tr th:only-of-type {\n",
       "        vertical-align: middle;\n",
       "    }\n",
       "\n",
       "    .dataframe tbody tr th {\n",
       "        vertical-align: top;\n",
       "    }\n",
       "\n",
       "    .dataframe thead th {\n",
       "        text-align: right;\n",
       "    }\n",
       "</style>\n",
       "<table border=\"1\" class=\"dataframe\">\n",
       "  <thead>\n",
       "    <tr style=\"text-align: right;\">\n",
       "      <th></th>\n",
       "      <th>Ecotype</th>\n",
       "      <th>Population</th>\n",
       "      <th>meanHeight</th>\n",
       "      <th>nIndsPerPop</th>\n",
       "    </tr>\n",
       "  </thead>\n",
       "  <tbody>\n",
       "    <tr>\n",
       "      <th>0</th>\n",
       "      <td>Dune</td>\n",
       "      <td>D0</td>\n",
       "      <td>348.500000</td>\n",
       "      <td>14</td>\n",
       "    </tr>\n",
       "    <tr>\n",
       "      <th>1</th>\n",
       "      <td>Dune</td>\n",
       "      <td>D1</td>\n",
       "      <td>298.117647</td>\n",
       "      <td>17</td>\n",
       "    </tr>\n",
       "    <tr>\n",
       "      <th>2</th>\n",
       "      <td>Dune</td>\n",
       "      <td>D3</td>\n",
       "      <td>291.470588</td>\n",
       "      <td>17</td>\n",
       "    </tr>\n",
       "    <tr>\n",
       "      <th>3</th>\n",
       "      <td>Dune</td>\n",
       "      <td>D4</td>\n",
       "      <td>418.230769</td>\n",
       "      <td>13</td>\n",
       "    </tr>\n",
       "    <tr>\n",
       "      <th>4</th>\n",
       "      <td>Headland</td>\n",
       "      <td>H0</td>\n",
       "      <td>121.312500</td>\n",
       "      <td>16</td>\n",
       "    </tr>\n",
       "  </tbody>\n",
       "</table>\n",
       "</div>"
      ],
      "text/plain": [
       "    Ecotype Population  meanHeight  nIndsPerPop\n",
       "0      Dune         D0  348.500000           14\n",
       "1      Dune         D1  298.117647           17\n",
       "2      Dune         D3  291.470588           17\n",
       "3      Dune         D4  418.230769           13\n",
       "4  Headland         H0  121.312500           16"
      ]
     },
     "execution_count": 166,
     "metadata": {},
     "output_type": "execute_result"
    }
   ],
   "source": [
    "data_5a.head()"
   ]
  },
  {
   "cell_type": "code",
   "execution_count": 168,
   "id": "f49ca2e2",
   "metadata": {},
   "outputs": [],
   "source": [
    "data_5b = (data.groupby(['Ecotype'])\n",
    "                    .agg(nIndsPerEco = ('Ecotype', 'count'),\n",
    "                        meanHeight = ('VegHeight', 'mean'))\n",
    "                    .reset_index()\n",
    "                )"
   ]
  },
  {
   "cell_type": "code",
   "execution_count": 169,
   "id": "ad2cc59f",
   "metadata": {},
   "outputs": [
    {
     "data": {
      "text/html": [
       "<div>\n",
       "<style scoped>\n",
       "    .dataframe tbody tr th:only-of-type {\n",
       "        vertical-align: middle;\n",
       "    }\n",
       "\n",
       "    .dataframe tbody tr th {\n",
       "        vertical-align: top;\n",
       "    }\n",
       "\n",
       "    .dataframe thead th {\n",
       "        text-align: right;\n",
       "    }\n",
       "</style>\n",
       "<table border=\"1\" class=\"dataframe\">\n",
       "  <thead>\n",
       "    <tr style=\"text-align: right;\">\n",
       "      <th></th>\n",
       "      <th>Ecotype</th>\n",
       "      <th>nIndsPerEco</th>\n",
       "      <th>meanHeight</th>\n",
       "    </tr>\n",
       "  </thead>\n",
       "  <tbody>\n",
       "    <tr>\n",
       "      <th>0</th>\n",
       "      <td>Dune</td>\n",
       "      <td>61</td>\n",
       "      <td>333.426230</td>\n",
       "    </tr>\n",
       "    <tr>\n",
       "      <th>1</th>\n",
       "      <td>Headland</td>\n",
       "      <td>64</td>\n",
       "      <td>115.062500</td>\n",
       "    </tr>\n",
       "    <tr>\n",
       "      <th>2</th>\n",
       "      <td>Tableland</td>\n",
       "      <td>58</td>\n",
       "      <td>549.965517</td>\n",
       "    </tr>\n",
       "    <tr>\n",
       "      <th>3</th>\n",
       "      <td>Woodland</td>\n",
       "      <td>59</td>\n",
       "      <td>281.237288</td>\n",
       "    </tr>\n",
       "  </tbody>\n",
       "</table>\n",
       "</div>"
      ],
      "text/plain": [
       "     Ecotype  nIndsPerEco  meanHeight\n",
       "0       Dune           61  333.426230\n",
       "1   Headland           64  115.062500\n",
       "2  Tableland           58  549.965517\n",
       "3   Woodland           59  281.237288"
      ]
     },
     "execution_count": 169,
     "metadata": {},
     "output_type": "execute_result"
    }
   ],
   "source": [
    "data_5b"
   ]
  },
  {
   "cell_type": "markdown",
   "id": "c7e8b186",
   "metadata": {},
   "source": [
    "5b. Generate another data frame from senecio that contains the mean height and number of individuals for each of the four ecotypes."
   ]
  },
  {
   "cell_type": "code",
   "execution_count": 170,
   "id": "eae37488",
   "metadata": {},
   "outputs": [],
   "source": [
    "data_5c = (data_5a.groupby([\"Ecotype\"])\n",
    "            .agg(nIndsPerEco = ('nIndsPerPop', 'sum'),\n",
    "                meanHeight = ('meanHeight', 'mean'))\n",
    "            .reset_index()\n",
    "          )"
   ]
  },
  {
   "cell_type": "code",
   "execution_count": 171,
   "id": "5d238452",
   "metadata": {},
   "outputs": [
    {
     "data": {
      "text/html": [
       "<div>\n",
       "<style scoped>\n",
       "    .dataframe tbody tr th:only-of-type {\n",
       "        vertical-align: middle;\n",
       "    }\n",
       "\n",
       "    .dataframe tbody tr th {\n",
       "        vertical-align: top;\n",
       "    }\n",
       "\n",
       "    .dataframe thead th {\n",
       "        text-align: right;\n",
       "    }\n",
       "</style>\n",
       "<table border=\"1\" class=\"dataframe\">\n",
       "  <thead>\n",
       "    <tr style=\"text-align: right;\">\n",
       "      <th></th>\n",
       "      <th>Ecotype</th>\n",
       "      <th>nIndsPerEco</th>\n",
       "      <th>meanHeight</th>\n",
       "    </tr>\n",
       "  </thead>\n",
       "  <tbody>\n",
       "    <tr>\n",
       "      <th>0</th>\n",
       "      <td>Dune</td>\n",
       "      <td>61</td>\n",
       "      <td>339.079751</td>\n",
       "    </tr>\n",
       "    <tr>\n",
       "      <th>1</th>\n",
       "      <td>Headland</td>\n",
       "      <td>64</td>\n",
       "      <td>115.062500</td>\n",
       "    </tr>\n",
       "    <tr>\n",
       "      <th>2</th>\n",
       "      <td>Tableland</td>\n",
       "      <td>58</td>\n",
       "      <td>558.621875</td>\n",
       "    </tr>\n",
       "    <tr>\n",
       "      <th>3</th>\n",
       "      <td>Woodland</td>\n",
       "      <td>59</td>\n",
       "      <td>282.265476</td>\n",
       "    </tr>\n",
       "  </tbody>\n",
       "</table>\n",
       "</div>"
      ],
      "text/plain": [
       "     Ecotype  nIndsPerEco  meanHeight\n",
       "0       Dune           61  339.079751\n",
       "1   Headland           64  115.062500\n",
       "2  Tableland           58  558.621875\n",
       "3   Woodland           59  282.265476"
      ]
     },
     "execution_count": 171,
     "metadata": {},
     "output_type": "execute_result"
    }
   ],
   "source": [
    "data_5c"
   ]
  },
  {
   "cell_type": "markdown",
   "id": "5571160f",
   "metadata": {},
   "source": [
    "5d. Now use the original senecio data set as well as the ones you created in a) to c) to calculate four different overall means of plant heights across all individuals, populations and ecotypes. Compare and interpret the result."
   ]
  },
  {
   "cell_type": "code",
   "execution_count": 174,
   "id": "7df6794a",
   "metadata": {},
   "outputs": [
    {
     "data": {
      "text/plain": [
       "314.8512396694215"
      ]
     },
     "execution_count": 174,
     "metadata": {},
     "output_type": "execute_result"
    }
   ],
   "source": [
    "overall_mean_original = data.VegHeight.mean()\n",
    "overall_mean_original"
   ]
  },
  {
   "cell_type": "code",
   "execution_count": 176,
   "id": "47712ce1",
   "metadata": {},
   "outputs": [
    {
     "data": {
      "text/plain": [
       "323.7574005804245"
      ]
     },
     "execution_count": 176,
     "metadata": {},
     "output_type": "execute_result"
    }
   ],
   "source": [
    "mean_height_by_population = data_5a.meanHeight.mean()\n",
    "mean_height_by_population"
   ]
  },
  {
   "cell_type": "code",
   "execution_count": 178,
   "id": "365f62a5",
   "metadata": {},
   "outputs": [
    {
     "data": {
      "text/plain": [
       "319.9228837212923"
      ]
     },
     "execution_count": 178,
     "metadata": {},
     "output_type": "execute_result"
    }
   ],
   "source": [
    "mean_height_by_ecotypes = data_5b.meanHeight.mean()\n",
    "mean_height_by_ecotypes"
   ]
  },
  {
   "cell_type": "code",
   "execution_count": null,
   "id": "965cabd0",
   "metadata": {},
   "outputs": [],
   "source": []
  }
 ],
 "metadata": {
  "kernelspec": {
   "display_name": "Python 3 (ipykernel)",
   "language": "python",
   "name": "python3"
  },
  "language_info": {
   "codemirror_mode": {
    "name": "ipython",
    "version": 3
   },
   "file_extension": ".py",
   "mimetype": "text/x-python",
   "name": "python",
   "nbconvert_exporter": "python",
   "pygments_lexer": "ipython3",
   "version": "3.9.12"
  }
 },
 "nbformat": 4,
 "nbformat_minor": 5
}
