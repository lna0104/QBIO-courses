{
 "cells": [
  {
   "cell_type": "code",
   "execution_count": 1,
   "id": "f16e8d99",
   "metadata": {},
   "outputs": [],
   "source": [
    "import pandas as pd\n",
    "import seaborn as sns\n",
    "import matplotlib.pyplot as plt\n",
    "data = pd.read_csv(\"day3_python/data/ecotype-OB.csv\")"
   ]
  },
  {
   "cell_type": "code",
   "execution_count": 1,
   "id": "a891d54d",
   "metadata": {},
   "outputs": [
    {
     "name": "stdout",
     "output_type": "stream",
     "text": [
      "Hello QBIOL\n",
      "Hello QBIOL\n",
      "Hello QBIOL\n",
      "Hello QBIOL\n",
      "Hello QBIOL\n",
      "Hello QBIOL\n",
      "Hello QBIOL\n",
      "Hello QBIOL\n"
     ]
    }
   ],
   "source": [
    "for i in range(12):\n",
    "    if (i % 3 == 0) or (i**2 % 2 == 0):\n",
    "        print(\"Hello QBIOL\")"
   ]
  },
  {
   "cell_type": "code",
   "execution_count": 5,
   "id": "d96b78a1",
   "metadata": {},
   "outputs": [],
   "source": [
    "foo = [1, 2, 3, 4, 5, 6]"
   ]
  },
  {
   "cell_type": "code",
   "execution_count": 3,
   "id": "073b6d61",
   "metadata": {},
   "outputs": [
    {
     "data": {
      "text/plain": [
       "5"
      ]
     },
     "execution_count": 3,
     "metadata": {},
     "output_type": "execute_result"
    }
   ],
   "source": [
    "foo.pop(4)"
   ]
  },
  {
   "cell_type": "code",
   "execution_count": 4,
   "id": "08c9a5f4",
   "metadata": {},
   "outputs": [
    {
     "data": {
      "text/plain": [
       "[1, 2, 3, 4, 6]"
      ]
     },
     "execution_count": 4,
     "metadata": {},
     "output_type": "execute_result"
    }
   ],
   "source": [
    "foo"
   ]
  },
  {
   "cell_type": "code",
   "execution_count": 6,
   "id": "ebf7f6df",
   "metadata": {},
   "outputs": [],
   "source": [
    "foo.remove(4)"
   ]
  },
  {
   "cell_type": "code",
   "execution_count": 7,
   "id": "9e34aec4",
   "metadata": {},
   "outputs": [
    {
     "data": {
      "text/plain": [
       "[1, 2, 3, 5, 6]"
      ]
     },
     "execution_count": 7,
     "metadata": {},
     "output_type": "execute_result"
    }
   ],
   "source": [
    "foo"
   ]
  },
  {
   "cell_type": "code",
   "execution_count": 8,
   "id": "7c27adf5",
   "metadata": {},
   "outputs": [
    {
     "data": {
      "text/plain": [
       "8"
      ]
     },
     "execution_count": 8,
     "metadata": {},
     "output_type": "execute_result"
    }
   ],
   "source": [
    "\"aTGcAtG/aUGcAuG\".upper().replace(\"T\", \"U\").count(\"U\")*2"
   ]
  },
  {
   "cell_type": "code",
   "execution_count": 9,
   "id": "0fa6c2f9",
   "metadata": {},
   "outputs": [
    {
     "data": {
      "text/plain": [
       "'AUGCAUG/AUGCAUG'"
      ]
     },
     "execution_count": 9,
     "metadata": {},
     "output_type": "execute_result"
    }
   ],
   "source": [
    "\"aTGcAtG/aUGcAuG\".upper().replace(\"T\", \"U\")"
   ]
  },
  {
   "cell_type": "code",
   "execution_count": null,
   "id": "24debb63",
   "metadata": {},
   "outputs": [],
   "source": []
  }
 ],
 "metadata": {
  "kernelspec": {
   "display_name": "Python 3 (ipykernel)",
   "language": "python",
   "name": "python3"
  },
  "language_info": {
   "codemirror_mode": {
    "name": "ipython",
    "version": 3
   },
   "file_extension": ".py",
   "mimetype": "text/x-python",
   "name": "python",
   "nbconvert_exporter": "python",
   "pygments_lexer": "ipython3",
   "version": "3.9.12"
  }
 },
 "nbformat": 4,
 "nbformat_minor": 5
}
