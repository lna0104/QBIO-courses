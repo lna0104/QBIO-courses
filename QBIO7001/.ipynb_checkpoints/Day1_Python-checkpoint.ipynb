{
 "cells": [
  {
   "cell_type": "markdown",
   "id": "31e29fa6",
   "metadata": {},
   "source": [
    "# Python Module"
   ]
  },
  {
   "cell_type": "markdown",
   "id": "ff6da736",
   "metadata": {},
   "source": [
    "This is the start of the Python module"
   ]
  },
  {
   "cell_type": "markdown",
   "id": "5d494058",
   "metadata": {},
   "source": [
    "## Python basics: Objects and Data Structures"
   ]
  },
  {
   "cell_type": "code",
   "execution_count": 5,
   "id": "5e62f9e6",
   "metadata": {},
   "outputs": [
    {
     "data": {
      "text/plain": [
       "4"
      ]
     },
     "execution_count": 5,
     "metadata": {},
     "output_type": "execute_result"
    }
   ],
   "source": [
    "2 + 2"
   ]
  },
  {
   "cell_type": "code",
   "execution_count": 7,
   "id": "dccd777d",
   "metadata": {},
   "outputs": [
    {
     "data": {
      "text/plain": [
       "9"
      ]
     },
     "execution_count": 7,
     "metadata": {},
     "output_type": "execute_result"
    }
   ],
   "source": [
    "3*3"
   ]
  },
  {
   "cell_type": "code",
   "execution_count": 8,
   "id": "13a0b7d2",
   "metadata": {},
   "outputs": [
    {
     "data": {
      "text/plain": [
       "27"
      ]
     },
     "execution_count": 8,
     "metadata": {},
     "output_type": "execute_result"
    }
   ],
   "source": [
    "3**3 # this is raising an integer to the power of 3"
   ]
  },
  {
   "cell_type": "code",
   "execution_count": 9,
   "id": "b61a7c94",
   "metadata": {},
   "outputs": [
    {
     "data": {
      "text/plain": [
       "1"
      ]
     },
     "execution_count": 9,
     "metadata": {},
     "output_type": "execute_result"
    }
   ],
   "source": [
    "3//2"
   ]
  },
  {
   "cell_type": "code",
   "execution_count": 10,
   "id": "f5c0c20a",
   "metadata": {},
   "outputs": [
    {
     "data": {
      "text/plain": [
       "1.5"
      ]
     },
     "execution_count": 10,
     "metadata": {},
     "output_type": "execute_result"
    }
   ],
   "source": [
    "3/2"
   ]
  },
  {
   "cell_type": "code",
   "execution_count": 11,
   "id": "e3307cbd",
   "metadata": {},
   "outputs": [
    {
     "data": {
      "text/plain": [
       "False"
      ]
     },
     "execution_count": 11,
     "metadata": {},
     "output_type": "execute_result"
    }
   ],
   "source": [
    "2>3"
   ]
  },
  {
   "cell_type": "code",
   "execution_count": 12,
   "id": "73f53477",
   "metadata": {},
   "outputs": [
    {
     "data": {
      "text/plain": [
       "True"
      ]
     },
     "execution_count": 12,
     "metadata": {},
     "output_type": "execute_result"
    }
   ],
   "source": [
    "2 == 2"
   ]
  },
  {
   "cell_type": "code",
   "execution_count": 13,
   "id": "581963a4",
   "metadata": {},
   "outputs": [
    {
     "data": {
      "text/plain": [
       "162"
      ]
     },
     "execution_count": 13,
     "metadata": {},
     "output_type": "execute_result"
    }
   ],
   "source": [
    "2*3**4"
   ]
  },
  {
   "cell_type": "code",
   "execution_count": 14,
   "id": "7a6c6e13",
   "metadata": {},
   "outputs": [
    {
     "data": {
      "text/plain": [
       "1296"
      ]
     },
     "execution_count": 14,
     "metadata": {},
     "output_type": "execute_result"
    }
   ],
   "source": [
    "(2*3)**4"
   ]
  },
  {
   "cell_type": "code",
   "execution_count": 15,
   "id": "08e2935a",
   "metadata": {},
   "outputs": [
    {
     "data": {
      "text/plain": [
       "162"
      ]
     },
     "execution_count": 15,
     "metadata": {},
     "output_type": "execute_result"
    }
   ],
   "source": [
    "2*(3**4)"
   ]
  },
  {
   "cell_type": "markdown",
   "id": "55d7f4d3",
   "metadata": {},
   "source": [
    "### Basic object types"
   ]
  },
  {
   "cell_type": "markdown",
   "id": "6074f237",
   "metadata": {},
   "source": [
    "### Numbers"
   ]
  },
  {
   "cell_type": "code",
   "execution_count": 19,
   "id": "2dd0939b",
   "metadata": {},
   "outputs": [
    {
     "data": {
      "text/plain": [
       "float"
      ]
     },
     "execution_count": 19,
     "metadata": {},
     "output_type": "execute_result"
    }
   ],
   "source": [
    "type(7.1)"
   ]
  },
  {
   "cell_type": "code",
   "execution_count": 20,
   "id": "c6466aab",
   "metadata": {},
   "outputs": [
    {
     "data": {
      "text/plain": [
       "3"
      ]
     },
     "execution_count": 20,
     "metadata": {},
     "output_type": "execute_result"
    }
   ],
   "source": [
    "int(3.14)"
   ]
  },
  {
   "cell_type": "code",
   "execution_count": 21,
   "id": "7fd4d504",
   "metadata": {},
   "outputs": [
    {
     "data": {
      "text/plain": [
       "3.0"
      ]
     },
     "execution_count": 21,
     "metadata": {},
     "output_type": "execute_result"
    }
   ],
   "source": [
    "float(3.0)"
   ]
  },
  {
   "cell_type": "code",
   "execution_count": 23,
   "id": "2a06a8ca",
   "metadata": {},
   "outputs": [
    {
     "data": {
      "text/plain": [
       "7e-11"
      ]
     },
     "execution_count": 23,
     "metadata": {},
     "output_type": "execute_result"
    }
   ],
   "source": [
    "0.00000000007"
   ]
  },
  {
   "cell_type": "code",
   "execution_count": 27,
   "id": "d0d6490a",
   "metadata": {},
   "outputs": [
    {
     "data": {
      "text/plain": [
       "(2+3j)"
      ]
     },
     "execution_count": 27,
     "metadata": {},
     "output_type": "execute_result"
    }
   ],
   "source": [
    "2+3j #using j instead of i"
   ]
  },
  {
   "cell_type": "code",
   "execution_count": 26,
   "id": "71b314a0",
   "metadata": {},
   "outputs": [
    {
     "data": {
      "text/plain": [
       "complex"
      ]
     },
     "execution_count": 26,
     "metadata": {},
     "output_type": "execute_result"
    }
   ],
   "source": [
    "type(2+3j)"
   ]
  },
  {
   "cell_type": "code",
   "execution_count": 30,
   "id": "62686670",
   "metadata": {},
   "outputs": [
    {
     "data": {
      "text/plain": [
       "(2+3j)"
      ]
     },
     "execution_count": 30,
     "metadata": {},
     "output_type": "execute_result"
    }
   ],
   "source": [
    "complex(2,3)"
   ]
  },
  {
   "cell_type": "markdown",
   "id": "acf68838",
   "metadata": {},
   "source": [
    "### Strings"
   ]
  },
  {
   "cell_type": "code",
   "execution_count": 31,
   "id": "a28b64b5",
   "metadata": {},
   "outputs": [
    {
     "data": {
      "text/plain": [
       "'Hello'"
      ]
     },
     "execution_count": 31,
     "metadata": {},
     "output_type": "execute_result"
    }
   ],
   "source": [
    "\"Hello\""
   ]
  },
  {
   "cell_type": "code",
   "execution_count": 32,
   "id": "4285d2e3",
   "metadata": {},
   "outputs": [
    {
     "name": "stdout",
     "output_type": "stream",
     "text": [
      "Hello QBIOL\n"
     ]
    }
   ],
   "source": [
    "print('Hello QBIOL')"
   ]
  },
  {
   "cell_type": "code",
   "execution_count": 33,
   "id": "f5156b47",
   "metadata": {},
   "outputs": [
    {
     "data": {
      "text/plain": [
       "str"
      ]
     },
     "execution_count": 33,
     "metadata": {},
     "output_type": "execute_result"
    }
   ],
   "source": [
    "type(\"QBIOL\")"
   ]
  },
  {
   "cell_type": "markdown",
   "id": "e18e9a72",
   "metadata": {},
   "source": [
    "### Booleans and logic operators"
   ]
  },
  {
   "cell_type": "code",
   "execution_count": 34,
   "id": "8cac9217",
   "metadata": {},
   "outputs": [
    {
     "data": {
      "text/plain": [
       "bool"
      ]
     },
     "execution_count": 34,
     "metadata": {},
     "output_type": "execute_result"
    }
   ],
   "source": [
    "type(True)"
   ]
  },
  {
   "cell_type": "code",
   "execution_count": 36,
   "id": "0e4382ae",
   "metadata": {},
   "outputs": [
    {
     "data": {
      "text/plain": [
       "False"
      ]
     },
     "execution_count": 36,
     "metadata": {},
     "output_type": "execute_result"
    }
   ],
   "source": [
    "True and False"
   ]
  },
  {
   "cell_type": "code",
   "execution_count": 37,
   "id": "68b32993",
   "metadata": {},
   "outputs": [
    {
     "data": {
      "text/plain": [
       "True"
      ]
     },
     "execution_count": 37,
     "metadata": {},
     "output_type": "execute_result"
    }
   ],
   "source": [
    "True or False"
   ]
  },
  {
   "cell_type": "code",
   "execution_count": 38,
   "id": "dc2c0dc4",
   "metadata": {},
   "outputs": [
    {
     "data": {
      "text/plain": [
       "True"
      ]
     },
     "execution_count": 38,
     "metadata": {},
     "output_type": "execute_result"
    }
   ],
   "source": [
    "isinstance(True, int)"
   ]
  },
  {
   "cell_type": "markdown",
   "id": "b0da07b5",
   "metadata": {},
   "source": [
    "Note that the two boolean objects also belong to the type int in addition to bool, where 1 is associated with True and 0 is associated with False."
   ]
  },
  {
   "cell_type": "code",
   "execution_count": 40,
   "id": "685b0f1c",
   "metadata": {},
   "outputs": [
    {
     "data": {
      "text/plain": [
       "30.0"
      ]
     },
     "execution_count": 40,
     "metadata": {},
     "output_type": "execute_result"
    }
   ],
   "source": [
    "((True * 3 + False * 7)/(0/True + True/10)) * (True or False)"
   ]
  },
  {
   "cell_type": "code",
   "execution_count": 42,
   "id": "3c9241bc",
   "metadata": {},
   "outputs": [
    {
     "data": {
      "text/plain": [
       "NoneType"
      ]
     },
     "execution_count": 42,
     "metadata": {},
     "output_type": "execute_result"
    }
   ],
   "source": [
    "type(None)\n"
   ]
  },
  {
   "cell_type": "code",
   "execution_count": 43,
   "id": "316712ec",
   "metadata": {},
   "outputs": [
    {
     "data": {
      "text/plain": [
       "True"
      ]
     },
     "execution_count": 43,
     "metadata": {},
     "output_type": "execute_result"
    }
   ],
   "source": [
    "23 in [23, 22, 45]"
   ]
  },
  {
   "cell_type": "markdown",
   "id": "281e0cfa",
   "metadata": {},
   "source": [
    "### A short interlude on variable assignment"
   ]
  },
  {
   "cell_type": "code",
   "execution_count": 56,
   "id": "a9e3bf73",
   "metadata": {},
   "outputs": [],
   "source": [
    "x = 2024"
   ]
  },
  {
   "cell_type": "code",
   "execution_count": 57,
   "id": "36e9012c",
   "metadata": {},
   "outputs": [],
   "source": [
    "y = \"Hello QBIOL\""
   ]
  },
  {
   "cell_type": "code",
   "execution_count": 58,
   "id": "97fc7367",
   "metadata": {},
   "outputs": [
    {
     "data": {
      "text/plain": [
       "'Hello QBIOL'"
      ]
     },
     "execution_count": 58,
     "metadata": {},
     "output_type": "execute_result"
    }
   ],
   "source": [
    "y"
   ]
  },
  {
   "cell_type": "code",
   "execution_count": 59,
   "id": "c3fb4160",
   "metadata": {},
   "outputs": [],
   "source": [
    "name_of_variable = 23"
   ]
  },
  {
   "cell_type": "code",
   "execution_count": 60,
   "id": "0dac3a1b",
   "metadata": {},
   "outputs": [],
   "source": [
    "z = \", are we having fun yet?\""
   ]
  },
  {
   "cell_type": "code",
   "execution_count": 61,
   "id": "c0ed7beb",
   "metadata": {},
   "outputs": [
    {
     "data": {
      "text/plain": [
       "'Hello QBIOL, are we having fun yet?'"
      ]
     },
     "execution_count": 61,
     "metadata": {},
     "output_type": "execute_result"
    }
   ],
   "source": [
    "y + z"
   ]
  },
  {
   "cell_type": "code",
   "execution_count": 62,
   "id": "79c8f1da",
   "metadata": {},
   "outputs": [
    {
     "data": {
      "text/plain": [
       "'2024'"
      ]
     },
     "execution_count": 62,
     "metadata": {},
     "output_type": "execute_result"
    }
   ],
   "source": [
    "str(x) "
   ]
  },
  {
   "cell_type": "code",
   "execution_count": 63,
   "id": "972d25a2",
   "metadata": {},
   "outputs": [
    {
     "data": {
      "text/plain": [
       "'Hello QBIOL class of 2024, are we having fun yet?'"
      ]
     },
     "execution_count": 63,
     "metadata": {},
     "output_type": "execute_result"
    }
   ],
   "source": [
    "y + ' class of ' + str(x) + z"
   ]
  },
  {
   "cell_type": "code",
   "execution_count": 77,
   "id": "eba56425",
   "metadata": {},
   "outputs": [],
   "source": [
    "x = 5"
   ]
  },
  {
   "cell_type": "code",
   "execution_count": 78,
   "id": "67ad81db",
   "metadata": {},
   "outputs": [],
   "source": [
    "x += 1"
   ]
  },
  {
   "cell_type": "code",
   "execution_count": 79,
   "id": "2e0f1811",
   "metadata": {},
   "outputs": [
    {
     "data": {
      "text/plain": [
       "6"
      ]
     },
     "execution_count": 79,
     "metadata": {},
     "output_type": "execute_result"
    }
   ],
   "source": [
    "x"
   ]
  },
  {
   "cell_type": "code",
   "execution_count": 80,
   "id": "40ad858a",
   "metadata": {},
   "outputs": [],
   "source": [
    "x *= 10"
   ]
  },
  {
   "cell_type": "code",
   "execution_count": 81,
   "id": "d5e6d8a0",
   "metadata": {},
   "outputs": [
    {
     "data": {
      "text/plain": [
       "60"
      ]
     },
     "execution_count": 81,
     "metadata": {},
     "output_type": "execute_result"
    }
   ],
   "source": [
    "x"
   ]
  },
  {
   "cell_type": "code",
   "execution_count": 82,
   "id": "f37746fc",
   "metadata": {},
   "outputs": [],
   "source": [
    "x **= 2"
   ]
  },
  {
   "cell_type": "code",
   "execution_count": 83,
   "id": "b62e2c35",
   "metadata": {},
   "outputs": [
    {
     "data": {
      "text/plain": [
       "3600"
      ]
     },
     "execution_count": 83,
     "metadata": {},
     "output_type": "execute_result"
    }
   ],
   "source": [
    "x"
   ]
  },
  {
   "cell_type": "markdown",
   "id": "80c0dcc1",
   "metadata": {},
   "source": [
    " ### Some other built in functions"
   ]
  },
  {
   "cell_type": "code",
   "execution_count": 84,
   "id": "25fc2f2b",
   "metadata": {},
   "outputs": [
    {
     "data": {
      "text/plain": [
       "2.72"
      ]
     },
     "execution_count": 84,
     "metadata": {},
     "output_type": "execute_result"
    }
   ],
   "source": [
    "round(2.7182818284590452353602874713527, ndigits=2)\n"
   ]
  },
  {
   "cell_type": "markdown",
   "id": "31a0e2db",
   "metadata": {},
   "source": [
    "### More on strings (and methods!)"
   ]
  },
  {
   "cell_type": "code",
   "execution_count": 85,
   "id": "64fe86be",
   "metadata": {},
   "outputs": [
    {
     "data": {
      "text/plain": [
       "'atgcatg'"
      ]
     },
     "execution_count": 85,
     "metadata": {},
     "output_type": "execute_result"
    }
   ],
   "source": [
    "my_dna = \"atgcatg\"\n",
    "my_dna"
   ]
  },
  {
   "cell_type": "code",
   "execution_count": 87,
   "id": "cf1dff27",
   "metadata": {},
   "outputs": [],
   "source": [
    "my_dna_uc = my_dna.upper()"
   ]
  },
  {
   "cell_type": "code",
   "execution_count": 88,
   "id": "5695ea80",
   "metadata": {},
   "outputs": [
    {
     "data": {
      "text/plain": [
       "'ATGCATG'"
      ]
     },
     "execution_count": 88,
     "metadata": {},
     "output_type": "execute_result"
    }
   ],
   "source": [
    "my_dna_uc"
   ]
  },
  {
   "cell_type": "code",
   "execution_count": 89,
   "id": "023593b8",
   "metadata": {},
   "outputs": [
    {
     "data": {
      "text/plain": [
       "'AUGCAUG'"
      ]
     },
     "execution_count": 89,
     "metadata": {},
     "output_type": "execute_result"
    }
   ],
   "source": [
    "my_dna_uc.replace(\"T\", \"U\")"
   ]
  },
  {
   "cell_type": "code",
   "execution_count": 90,
   "id": "c3d32284",
   "metadata": {},
   "outputs": [
    {
     "data": {
      "text/plain": [
       "3"
      ]
     },
     "execution_count": 90,
     "metadata": {},
     "output_type": "execute_result"
    }
   ],
   "source": [
    "my_dna_uc.find(\"C\")"
   ]
  },
  {
   "cell_type": "code",
   "execution_count": 91,
   "id": "9bc0203c",
   "metadata": {},
   "outputs": [
    {
     "data": {
      "text/plain": [
       "2"
      ]
     },
     "execution_count": 91,
     "metadata": {},
     "output_type": "execute_result"
    }
   ],
   "source": [
    "my_dna_uc.count(\"A\")"
   ]
  },
  {
   "cell_type": "code",
   "execution_count": 92,
   "id": "a5c02faa",
   "metadata": {},
   "outputs": [],
   "source": [
    "bac_sp = \"escherichia coli    \""
   ]
  },
  {
   "cell_type": "code",
   "execution_count": 93,
   "id": "6d1de2c5",
   "metadata": {},
   "outputs": [
    {
     "data": {
      "text/plain": [
       "'Escherichia coli    '"
      ]
     },
     "execution_count": 93,
     "metadata": {},
     "output_type": "execute_result"
    }
   ],
   "source": [
    "bac_sp.capitalize()"
   ]
  },
  {
   "cell_type": "code",
   "execution_count": 94,
   "id": "16b76111",
   "metadata": {},
   "outputs": [
    {
     "data": {
      "text/plain": [
       "'Escherichia coli'"
      ]
     },
     "execution_count": 94,
     "metadata": {},
     "output_type": "execute_result"
    }
   ],
   "source": [
    "bac_sp.capitalize().strip() #get rid of white space"
   ]
  },
  {
   "cell_type": "code",
   "execution_count": 96,
   "id": "aaffd760",
   "metadata": {},
   "outputs": [
    {
     "data": {
      "text/plain": [
       "['Escherichia', 'coli']"
      ]
     },
     "execution_count": 96,
     "metadata": {},
     "output_type": "execute_result"
    }
   ],
   "source": [
    "bac_sp.capitalize().strip().split()"
   ]
  },
  {
   "cell_type": "code",
   "execution_count": 97,
   "id": "5c3e436f",
   "metadata": {},
   "outputs": [],
   "source": [
    "mqbiol = \"I am mastering quantitative BIOLOGY\""
   ]
  },
  {
   "cell_type": "code",
   "execution_count": 103,
   "id": "cfd44802",
   "metadata": {},
   "outputs": [
    {
     "data": {
      "text/plain": [
       "'I am mastering quantitative BIOLOGY at UQ'"
      ]
     },
     "execution_count": 103,
     "metadata": {},
     "output_type": "execute_result"
    }
   ],
   "source": [
    "mqbiol + \" at UQ\""
   ]
  },
  {
   "cell_type": "code",
   "execution_count": 105,
   "id": "01fc2d7f",
   "metadata": {},
   "outputs": [
    {
     "data": {
      "text/plain": [
       "3"
      ]
     },
     "execution_count": 105,
     "metadata": {},
     "output_type": "execute_result"
    }
   ],
   "source": [
    "mqbiol.count(\"i\")"
   ]
  },
  {
   "cell_type": "code",
   "execution_count": 107,
   "id": "b25e8bfa",
   "metadata": {},
   "outputs": [],
   "source": [
    "mqbiol_uc = mqbiol.upper()"
   ]
  },
  {
   "cell_type": "code",
   "execution_count": 108,
   "id": "3af8975f",
   "metadata": {},
   "outputs": [
    {
     "data": {
      "text/plain": [
       "'I AM MASTERING QUANTITATIVE BIOLOGY'"
      ]
     },
     "execution_count": 108,
     "metadata": {},
     "output_type": "execute_result"
    }
   ],
   "source": [
    "mqbiol_uc"
   ]
  },
  {
   "cell_type": "code",
   "execution_count": 109,
   "id": "53cdb2d0",
   "metadata": {},
   "outputs": [
    {
     "data": {
      "text/plain": [
       "5"
      ]
     },
     "execution_count": 109,
     "metadata": {},
     "output_type": "execute_result"
    }
   ],
   "source": [
    "mqbiol_uc.count(\"I\")"
   ]
  },
  {
   "cell_type": "code",
   "execution_count": 110,
   "id": "f4cdb991",
   "metadata": {},
   "outputs": [
    {
     "data": {
      "text/plain": [
       "'I am mastering quantitative biology'"
      ]
     },
     "execution_count": 110,
     "metadata": {},
     "output_type": "execute_result"
    }
   ],
   "source": [
    "mqbiol.replace(\"BIOLOGY\", \"biology\")"
   ]
  },
  {
   "cell_type": "markdown",
   "id": "125ee356",
   "metadata": {},
   "source": [
    "## Data structures - lists, tuples, sets and dictionaries"
   ]
  },
  {
   "cell_type": "markdown",
   "id": "87f74cfc",
   "metadata": {},
   "source": [
    "### Sequences (lists, tuples)"
   ]
  },
  {
   "cell_type": "code",
   "execution_count": 112,
   "id": "05f01d89",
   "metadata": {},
   "outputs": [],
   "source": [
    "sp_list = [\"Escherichia coli\", \"Enterococcus faecalis\", \"Salmonella enterica\"]\n"
   ]
  },
  {
   "cell_type": "code",
   "execution_count": 113,
   "id": "6a389de4",
   "metadata": {},
   "outputs": [
    {
     "data": {
      "text/plain": [
       "['Escherichia coli', 'Enterococcus faecalis', 'Salmonella enterica']"
      ]
     },
     "execution_count": 113,
     "metadata": {},
     "output_type": "execute_result"
    }
   ],
   "source": [
    "sp_list"
   ]
  },
  {
   "cell_type": "code",
   "execution_count": 114,
   "id": "fb4c0212",
   "metadata": {},
   "outputs": [
    {
     "data": {
      "text/plain": [
       "list"
      ]
     },
     "execution_count": 114,
     "metadata": {},
     "output_type": "execute_result"
    }
   ],
   "source": [
    "type(sp_list)"
   ]
  },
  {
   "cell_type": "code",
   "execution_count": 115,
   "id": "3aafb66a",
   "metadata": {},
   "outputs": [
    {
     "data": {
      "text/plain": [
       "3"
      ]
     },
     "execution_count": 115,
     "metadata": {},
     "output_type": "execute_result"
    }
   ],
   "source": [
    "len(sp_list)"
   ]
  },
  {
   "cell_type": "code",
   "execution_count": 116,
   "id": "93e5a362",
   "metadata": {},
   "outputs": [
    {
     "data": {
      "text/plain": [
       "'Enterococcus faecalis'"
      ]
     },
     "execution_count": 116,
     "metadata": {},
     "output_type": "execute_result"
    }
   ],
   "source": [
    "sp_list[1] \n"
   ]
  },
  {
   "cell_type": "code",
   "execution_count": 117,
   "id": "fa1c159a",
   "metadata": {},
   "outputs": [
    {
     "data": {
      "text/plain": [
       "'Salmonella enterica'"
      ]
     },
     "execution_count": 117,
     "metadata": {},
     "output_type": "execute_result"
    }
   ],
   "source": [
    "sp_list[-1]"
   ]
  },
  {
   "cell_type": "code",
   "execution_count": 124,
   "id": "8ef7cd43",
   "metadata": {},
   "outputs": [
    {
     "data": {
      "text/plain": [
       "['Enterococcus faecalis']"
      ]
     },
     "execution_count": 124,
     "metadata": {},
     "output_type": "execute_result"
    }
   ],
   "source": [
    "sp_list[1:2] #From element 1 and not take element 2"
   ]
  },
  {
   "cell_type": "code",
   "execution_count": 119,
   "id": "c83484fa",
   "metadata": {},
   "outputs": [
    {
     "data": {
      "text/plain": [
       "['Enterococcus faecalis', 'Salmonella enterica']"
      ]
     },
     "execution_count": 119,
     "metadata": {},
     "output_type": "execute_result"
    }
   ],
   "source": [
    "sp_list[1:] ## everything from element 1 onwards"
   ]
  },
  {
   "cell_type": "code",
   "execution_count": 121,
   "id": "d71689c8",
   "metadata": {},
   "outputs": [
    {
     "data": {
      "text/plain": [
       "['Escherichia coli', 'Enterococcus faecalis']"
      ]
     },
     "execution_count": 121,
     "metadata": {},
     "output_type": "execute_result"
    }
   ],
   "source": [
    "sp_list[:2] # everything up to and including element 1"
   ]
  },
  {
   "cell_type": "code",
   "execution_count": 125,
   "id": "caaed5f2",
   "metadata": {},
   "outputs": [
    {
     "data": {
      "text/plain": [
       "['Enterococcus faecalis', 'Enterococcus faecalis']"
      ]
     },
     "execution_count": 125,
     "metadata": {},
     "output_type": "execute_result"
    }
   ],
   "source": [
    "(sp_list*3)[1:7:3]"
   ]
  },
  {
   "cell_type": "code",
   "execution_count": 126,
   "id": "652037b0",
   "metadata": {},
   "outputs": [
    {
     "data": {
      "text/plain": [
       "['Enterococcus faecalis',\n",
       " 'Salmonella enterica',\n",
       " 'Escherichia coli',\n",
       " 'Enterococcus faecalis',\n",
       " 'Salmonella enterica',\n",
       " 'Escherichia coli']"
      ]
     },
     "execution_count": 126,
     "metadata": {},
     "output_type": "execute_result"
    }
   ],
   "source": [
    "(sp_list*3)[1:7]"
   ]
  },
  {
   "cell_type": "code",
   "execution_count": 127,
   "id": "61f9f910",
   "metadata": {},
   "outputs": [
    {
     "data": {
      "text/plain": [
       "['Escherichia coli',\n",
       " 'Enterococcus faecalis',\n",
       " 'Salmonella enterica',\n",
       " 'Escherichia coli',\n",
       " 'Enterococcus faecalis',\n",
       " 'Salmonella enterica',\n",
       " 'Escherichia coli',\n",
       " 'Enterococcus faecalis',\n",
       " 'Salmonella enterica']"
      ]
     },
     "execution_count": 127,
     "metadata": {},
     "output_type": "execute_result"
    }
   ],
   "source": [
    "(sp_list*3)"
   ]
  },
  {
   "cell_type": "code",
   "execution_count": 129,
   "id": "e70159e8",
   "metadata": {},
   "outputs": [
    {
     "data": {
      "text/plain": [
       "['Escherichia coli',\n",
       " 'Enterococcus faecalis',\n",
       " 'Salmonella enterica',\n",
       " 'Clostridium difficile',\n",
       " 'Clostridium difficile']"
      ]
     },
     "execution_count": 129,
     "metadata": {},
     "output_type": "execute_result"
    }
   ],
   "source": [
    "sp_list.append(\"Clostridium difficile\") # add a new element to the end of the list\n",
    "sp_list"
   ]
  },
  {
   "cell_type": "code",
   "execution_count": 130,
   "id": "d0051f24",
   "metadata": {},
   "outputs": [
    {
     "data": {
      "text/plain": [
       "['Escherichia coli',\n",
       " 'Enterococcus faecalis',\n",
       " 'Salmonella enterica',\n",
       " 'Clostridium difficile',\n",
       " 'Clostridium difficile',\n",
       " 'Another species']"
      ]
     },
     "execution_count": 130,
     "metadata": {},
     "output_type": "execute_result"
    }
   ],
   "source": [
    "sp_list + [\"Another species\"]"
   ]
  },
  {
   "cell_type": "code",
   "execution_count": 131,
   "id": "99d60a47",
   "metadata": {},
   "outputs": [
    {
     "data": {
      "text/plain": [
       "['Escherichia coli',\n",
       " 'Enterococcus faecalis',\n",
       " 'Salmonella enterica',\n",
       " 'Clostridium difficile',\n",
       " 'Clostridium difficile']"
      ]
     },
     "execution_count": 131,
     "metadata": {},
     "output_type": "execute_result"
    }
   ],
   "source": [
    "sp_list"
   ]
  },
  {
   "cell_type": "code",
   "execution_count": 134,
   "id": "7a171ddf",
   "metadata": {},
   "outputs": [],
   "source": [
    "sp_list.reverse() # reverse order"
   ]
  },
  {
   "cell_type": "code",
   "execution_count": 135,
   "id": "f4db2891",
   "metadata": {},
   "outputs": [
    {
     "data": {
      "text/plain": [
       "['Clostridium difficile',\n",
       " 'Clostridium difficile',\n",
       " 'Salmonella enterica',\n",
       " 'Enterococcus faecalis',\n",
       " 'Escherichia coli']"
      ]
     },
     "execution_count": 135,
     "metadata": {},
     "output_type": "execute_result"
    }
   ],
   "source": [
    "sp_list"
   ]
  },
  {
   "cell_type": "code",
   "execution_count": 136,
   "id": "850f5d14",
   "metadata": {},
   "outputs": [],
   "source": [
    "sp_list.sort()"
   ]
  },
  {
   "cell_type": "code",
   "execution_count": 137,
   "id": "7050fbf9",
   "metadata": {},
   "outputs": [
    {
     "data": {
      "text/plain": [
       "['Clostridium difficile',\n",
       " 'Clostridium difficile',\n",
       " 'Enterococcus faecalis',\n",
       " 'Escherichia coli',\n",
       " 'Salmonella enterica']"
      ]
     },
     "execution_count": 137,
     "metadata": {},
     "output_type": "execute_result"
    }
   ],
   "source": [
    "sp_list"
   ]
  },
  {
   "cell_type": "code",
   "execution_count": 138,
   "id": "0e4da597",
   "metadata": {},
   "outputs": [],
   "source": [
    "sp_list.append(23) # append the number 23 to the end of sp_list"
   ]
  },
  {
   "cell_type": "code",
   "execution_count": 139,
   "id": "d9774fd2",
   "metadata": {},
   "outputs": [
    {
     "data": {
      "text/plain": [
       "['Clostridium difficile',\n",
       " 'Clostridium difficile',\n",
       " 'Enterococcus faecalis',\n",
       " 'Escherichia coli',\n",
       " 'Salmonella enterica',\n",
       " 23]"
      ]
     },
     "execution_count": 139,
     "metadata": {},
     "output_type": "execute_result"
    }
   ],
   "source": [
    "sp_list"
   ]
  },
  {
   "cell_type": "code",
   "execution_count": 140,
   "id": "324df155",
   "metadata": {},
   "outputs": [
    {
     "data": {
      "text/plain": [
       "'Clostridium difficile'"
      ]
     },
     "execution_count": 140,
     "metadata": {},
     "output_type": "execute_result"
    }
   ],
   "source": [
    "sp_list.pop(0)"
   ]
  },
  {
   "cell_type": "code",
   "execution_count": 151,
   "id": "9a638d25",
   "metadata": {},
   "outputs": [
    {
     "data": {
      "text/plain": [
       "['Clostridium difficile', 'Escherichia coli', 'Salmonella enterica']"
      ]
     },
     "execution_count": 151,
     "metadata": {},
     "output_type": "execute_result"
    }
   ],
   "source": [
    "sp_list"
   ]
  },
  {
   "cell_type": "code",
   "execution_count": 152,
   "id": "cf6870da",
   "metadata": {},
   "outputs": [
    {
     "data": {
      "text/plain": [
       "'Clostridium difficile'"
      ]
     },
     "execution_count": 152,
     "metadata": {},
     "output_type": "execute_result"
    }
   ],
   "source": [
    "sp_list.pop(0)"
   ]
  },
  {
   "cell_type": "code",
   "execution_count": 142,
   "id": "738a528d",
   "metadata": {},
   "outputs": [
    {
     "data": {
      "text/plain": [
       "['Clostridium difficile', 'Escherichia coli', 'Salmonella enterica', 23]"
      ]
     },
     "execution_count": 142,
     "metadata": {},
     "output_type": "execute_result"
    }
   ],
   "source": [
    "sp_list.remove('Enterococcus faecalis')\n",
    "sp_list"
   ]
  },
  {
   "cell_type": "code",
   "execution_count": 143,
   "id": "1939e395",
   "metadata": {},
   "outputs": [
    {
     "data": {
      "text/plain": [
       "1"
      ]
     },
     "execution_count": 143,
     "metadata": {},
     "output_type": "execute_result"
    }
   ],
   "source": [
    "sp_list.count(\"Escherichia coli\")"
   ]
  },
  {
   "cell_type": "code",
   "execution_count": 144,
   "id": "730225f5",
   "metadata": {},
   "outputs": [
    {
     "data": {
      "text/plain": [
       "['Clostridium difficile', 'Escherichia coli', 'Salmonella enterica', 23]"
      ]
     },
     "execution_count": 144,
     "metadata": {},
     "output_type": "execute_result"
    }
   ],
   "source": [
    "sp_list"
   ]
  },
  {
   "cell_type": "code",
   "execution_count": 145,
   "id": "46d888bd",
   "metadata": {},
   "outputs": [],
   "source": [
    "sp_list2 = [sp_list, [\"Antechinus adustus\", \"Vombatus ursinus\", \"Phascolarctos cinereus\"]]"
   ]
  },
  {
   "cell_type": "code",
   "execution_count": 146,
   "id": "6fda6edc",
   "metadata": {},
   "outputs": [
    {
     "data": {
      "text/plain": [
       "[['Clostridium difficile', 'Escherichia coli', 'Salmonella enterica', 23],\n",
       " ['Antechinus adustus', 'Vombatus ursinus', 'Phascolarctos cinereus']]"
      ]
     },
     "execution_count": 146,
     "metadata": {},
     "output_type": "execute_result"
    }
   ],
   "source": [
    "sp_list2"
   ]
  },
  {
   "cell_type": "code",
   "execution_count": 147,
   "id": "53d380ed",
   "metadata": {},
   "outputs": [
    {
     "data": {
      "text/plain": [
       "2"
      ]
     },
     "execution_count": 147,
     "metadata": {},
     "output_type": "execute_result"
    }
   ],
   "source": [
    "len(sp_list2)"
   ]
  },
  {
   "cell_type": "code",
   "execution_count": 148,
   "id": "2f3e9503",
   "metadata": {},
   "outputs": [
    {
     "data": {
      "text/plain": [
       "4"
      ]
     },
     "execution_count": 148,
     "metadata": {},
     "output_type": "execute_result"
    }
   ],
   "source": [
    "len(sp_list2[0])"
   ]
  },
  {
   "cell_type": "code",
   "execution_count": 150,
   "id": "51842cc7",
   "metadata": {},
   "outputs": [
    {
     "data": {
      "text/plain": [
       "['Clostridium difficile', 'Escherichia coli', 'Salmonella enterica']"
      ]
     },
     "execution_count": 150,
     "metadata": {},
     "output_type": "execute_result"
    }
   ],
   "source": [
    "sp_list.remove(23)\n",
    "sp_list"
   ]
  },
  {
   "cell_type": "code",
   "execution_count": 149,
   "id": "892a2a6a",
   "metadata": {},
   "outputs": [
    {
     "data": {
      "text/plain": [
       "[7e-10, 6e-10]"
      ]
     },
     "execution_count": 149,
     "metadata": {},
     "output_type": "execute_result"
    }
   ],
   "source": [
    "spcounts = [7e-10, 6e-10]\n",
    "spcounts"
   ]
  },
  {
   "cell_type": "code",
   "execution_count": 153,
   "id": "2f56fff5",
   "metadata": {},
   "outputs": [
    {
     "data": {
      "text/plain": [
       "[('Escherichia coli', 7e-10), ('Salmonella enterica', 6e-10)]"
      ]
     },
     "execution_count": 153,
     "metadata": {},
     "output_type": "execute_result"
    }
   ],
   "source": [
    "list(zip(sp_list, spcounts))"
   ]
  },
  {
   "cell_type": "code",
   "execution_count": 214,
   "id": "cfefeb55",
   "metadata": {},
   "outputs": [],
   "source": [
    "split_mqbiol = mqbiol.split()"
   ]
  },
  {
   "cell_type": "code",
   "execution_count": 215,
   "id": "34ab4522",
   "metadata": {},
   "outputs": [
    {
     "data": {
      "text/plain": [
       "5"
      ]
     },
     "execution_count": 215,
     "metadata": {},
     "output_type": "execute_result"
    }
   ],
   "source": [
    "len(split_mqbiol)"
   ]
  },
  {
   "cell_type": "code",
   "execution_count": 216,
   "id": "88f443fd",
   "metadata": {},
   "outputs": [],
   "source": [
    "split_mqbiol.append(\"at the University of Queensland\")"
   ]
  },
  {
   "cell_type": "code",
   "execution_count": 217,
   "id": "3dff10e5",
   "metadata": {},
   "outputs": [
    {
     "data": {
      "text/plain": [
       "['I',\n",
       " 'am',\n",
       " 'mastering',\n",
       " 'quantitative',\n",
       " 'BIOLOGY',\n",
       " 'at the University of Queensland']"
      ]
     },
     "execution_count": 217,
     "metadata": {},
     "output_type": "execute_result"
    }
   ],
   "source": [
    "split_mqbiol"
   ]
  },
  {
   "cell_type": "code",
   "execution_count": 218,
   "id": "55110d4f",
   "metadata": {},
   "outputs": [],
   "source": [
    "split_mqbiol.remove(\"at the University of Queensland\")"
   ]
  },
  {
   "cell_type": "code",
   "execution_count": 219,
   "id": "a4f7b160",
   "metadata": {},
   "outputs": [],
   "source": [
    "place = \"at the University of Queensland\".capitalize()"
   ]
  },
  {
   "cell_type": "code",
   "execution_count": 220,
   "id": "78b7019f",
   "metadata": {},
   "outputs": [],
   "source": [
    "split_mqbiol.insert(0, place)"
   ]
  },
  {
   "cell_type": "code",
   "execution_count": 221,
   "id": "31586ab6",
   "metadata": {},
   "outputs": [
    {
     "data": {
      "text/plain": [
       "['At the university of queensland',\n",
       " 'I',\n",
       " 'am',\n",
       " 'mastering',\n",
       " 'quantitative',\n",
       " 'BIOLOGY']"
      ]
     },
     "execution_count": 221,
     "metadata": {},
     "output_type": "execute_result"
    }
   ],
   "source": [
    "split_mqbiol"
   ]
  },
  {
   "cell_type": "code",
   "execution_count": 234,
   "id": "510e84b1",
   "metadata": {},
   "outputs": [
    {
     "data": {
      "text/plain": [
       "'At the university of queensland I am mastering quantitative BIOLOGY'"
      ]
     },
     "execution_count": 234,
     "metadata": {},
     "output_type": "execute_result"
    }
   ],
   "source": [
    "' '.join(split_mqbiol)"
   ]
  },
  {
   "cell_type": "code",
   "execution_count": 222,
   "id": "3aa25522",
   "metadata": {},
   "outputs": [],
   "source": [
    "dna_sequence = \"ACTGATCGATTACGTATAGTATTTGCTATCATACATATATATCGATGCGTTCAT\""
   ]
  },
  {
   "cell_type": "code",
   "execution_count": 228,
   "id": "f1ccbf58",
   "metadata": {},
   "outputs": [],
   "source": [
    "count_a = dna_sequence.count('A')\n",
    "count_t = dna_sequence.count('T')"
   ]
  },
  {
   "cell_type": "code",
   "execution_count": 224,
   "id": "0dc3d23a",
   "metadata": {},
   "outputs": [
    {
     "data": {
      "text/plain": [
       "0.6851851851851852"
      ]
     },
     "execution_count": 224,
     "metadata": {},
     "output_type": "execute_result"
    }
   ],
   "source": [
    "at_content = (count_a + count_t) / len(dna_sequence)\n",
    "at_content"
   ]
  },
  {
   "cell_type": "code",
   "execution_count": 225,
   "id": "de777676",
   "metadata": {},
   "outputs": [],
   "source": [
    "complement_sequence = dna_sequence.replace('A', 't').replace('T', 'a').replace('C', 'g').replace('G', 'c')"
   ]
  },
  {
   "cell_type": "code",
   "execution_count": 226,
   "id": "7bf56d8e",
   "metadata": {},
   "outputs": [
    {
     "data": {
      "text/plain": [
       "'TGACTAGCTAATGCATATCATAAACGATAGTATGTATATATAGCTACGCAAGTA'"
      ]
     },
     "execution_count": 226,
     "metadata": {},
     "output_type": "execute_result"
    }
   ],
   "source": [
    "complement_sequence.upper()"
   ]
  },
  {
   "cell_type": "code",
   "execution_count": 235,
   "id": "e63354a9",
   "metadata": {},
   "outputs": [],
   "source": [
    "my_tuple = (1, 2, 3, 4)"
   ]
  },
  {
   "cell_type": "markdown",
   "id": "da7021f4",
   "metadata": {},
   "source": [
    "A tuple is like a list except the elements of a tuple cannot be changed once it has been defined (or in the language of programming, tuples are immutable). ()"
   ]
  },
  {
   "cell_type": "markdown",
   "id": "baa3cd28",
   "metadata": {},
   "source": [
    "Tuple unpacking"
   ]
  },
  {
   "cell_type": "code",
   "execution_count": 236,
   "id": "c676b426",
   "metadata": {},
   "outputs": [],
   "source": [
    "sp_count = ([1,6,2,4,7],[121,6053,946,91,12403])\n"
   ]
  },
  {
   "cell_type": "code",
   "execution_count": 237,
   "id": "ab810fe1",
   "metadata": {},
   "outputs": [],
   "source": [
    "rare_butterfly, cane_toad = sp_count\n"
   ]
  },
  {
   "cell_type": "code",
   "execution_count": 238,
   "id": "044540df",
   "metadata": {},
   "outputs": [
    {
     "data": {
      "text/plain": [
       "[1, 6, 2, 4, 7]"
      ]
     },
     "execution_count": 238,
     "metadata": {},
     "output_type": "execute_result"
    }
   ],
   "source": [
    "rare_butterfly\n"
   ]
  },
  {
   "cell_type": "markdown",
   "id": "fdc738b1",
   "metadata": {},
   "source": [
    "Recover a fully mutable list of lists we can use the map function."
   ]
  },
  {
   "cell_type": "code",
   "execution_count": 239,
   "id": "b45a2342",
   "metadata": {},
   "outputs": [
    {
     "data": {
      "text/plain": [
       "[['Escherichia coli', 7e-10], ['Salmonella enterica', 6e-10]]"
      ]
     },
     "execution_count": 239,
     "metadata": {},
     "output_type": "execute_result"
    }
   ],
   "source": [
    "list(map(list, zip(sp_list, spcounts)))"
   ]
  },
  {
   "cell_type": "code",
   "execution_count": 240,
   "id": "308cfd50",
   "metadata": {},
   "outputs": [
    {
     "data": {
      "text/plain": [
       "['Escherichia coli', 'Salmonella enterica']"
      ]
     },
     "execution_count": 240,
     "metadata": {},
     "output_type": "execute_result"
    }
   ],
   "source": [
    "sp_list"
   ]
  },
  {
   "cell_type": "code",
   "execution_count": 241,
   "id": "9f4da459",
   "metadata": {},
   "outputs": [
    {
     "data": {
      "text/plain": [
       "[7e-10, 6e-10]"
      ]
     },
     "execution_count": 241,
     "metadata": {},
     "output_type": "execute_result"
    }
   ],
   "source": [
    "spcounts"
   ]
  },
  {
   "cell_type": "markdown",
   "id": "596d97f7",
   "metadata": {},
   "source": [
    "### Sets"
   ]
  },
  {
   "cell_type": "markdown",
   "id": "5c9e5525",
   "metadata": {},
   "source": [
    "Sets are unordered lists with no duplicate entries i.e. the unique elements of a list is a set. {}"
   ]
  },
  {
   "cell_type": "code",
   "execution_count": 243,
   "id": "2dd5c619",
   "metadata": {},
   "outputs": [
    {
     "data": {
      "text/plain": [
       "[1, 1, 2, 2, 4, 1, 2, 5, 6, 1, 1, 2, 3, 4, 6, 2, 4, 5, 1, 2, 6]"
      ]
     },
     "execution_count": 243,
     "metadata": {},
     "output_type": "execute_result"
    }
   ],
   "source": [
    "my_list = [1,1,2,2,4,1,2,5,6,1,1,2,3,4,6,2,4,5,1,2,6]\n",
    "my_list"
   ]
  },
  {
   "cell_type": "code",
   "execution_count": 244,
   "id": "5ff52608",
   "metadata": {},
   "outputs": [
    {
     "data": {
      "text/plain": [
       "{1, 2, 3, 4, 5, 6}"
      ]
     },
     "execution_count": 244,
     "metadata": {},
     "output_type": "execute_result"
    }
   ],
   "source": [
    "my_set = set(my_list)\n",
    "my_set"
   ]
  },
  {
   "cell_type": "markdown",
   "id": "f6b851bb",
   "metadata": {},
   "source": [
    "### Dictionaries"
   ]
  },
  {
   "cell_type": "markdown",
   "id": "611a5753",
   "metadata": {},
   "source": [
    "Unlike lists and tuples, dictionaries are not ordered as a sequence. Instead dictionaries consist of keys and associated values: {'key1':'value1','key2':'value2'}"
   ]
  },
  {
   "cell_type": "code",
   "execution_count": 246,
   "id": "75bdd540",
   "metadata": {},
   "outputs": [
    {
     "data": {
      "text/plain": [
       "{'Lodoicea maldivica': 18000, 'Cycnoches chlorochilon': 8e-07}"
      ]
     },
     "execution_count": 246,
     "metadata": {},
     "output_type": "execute_result"
    }
   ],
   "source": [
    "seed_mass = {'Lodoicea maldivica':18000, 'Cycnoches chlorochilon':0.0000008}\n",
    "seed_mass"
   ]
  },
  {
   "cell_type": "code",
   "execution_count": 247,
   "id": "dbb4b899",
   "metadata": {},
   "outputs": [
    {
     "data": {
      "text/plain": [
       "dict_keys(['Lodoicea maldivica', 'Cycnoches chlorochilon'])"
      ]
     },
     "execution_count": 247,
     "metadata": {},
     "output_type": "execute_result"
    }
   ],
   "source": [
    "seed_mass.keys()"
   ]
  },
  {
   "cell_type": "code",
   "execution_count": 248,
   "id": "7542da85",
   "metadata": {},
   "outputs": [
    {
     "data": {
      "text/plain": [
       "dict_values([18000, 8e-07])"
      ]
     },
     "execution_count": 248,
     "metadata": {},
     "output_type": "execute_result"
    }
   ],
   "source": [
    "seed_mass.values()"
   ]
  },
  {
   "cell_type": "code",
   "execution_count": 249,
   "id": "ad88bf8b",
   "metadata": {},
   "outputs": [],
   "source": [
    "seed_mass['sub_dictionary'] = {'Big sp.':10000000000, 'Tiny sp.':0.000000000000000001}"
   ]
  },
  {
   "cell_type": "code",
   "execution_count": 250,
   "id": "e904194d",
   "metadata": {},
   "outputs": [
    {
     "data": {
      "text/plain": [
       "{'Lodoicea maldivica': 18000,\n",
       " 'Cycnoches chlorochilon': 8e-07,\n",
       " 'sub_dictionary': {'Big sp.': 10000000000, 'Tiny sp.': 1e-18}}"
      ]
     },
     "execution_count": 250,
     "metadata": {},
     "output_type": "execute_result"
    }
   ],
   "source": [
    "seed_mass"
   ]
  },
  {
   "cell_type": "code",
   "execution_count": 251,
   "id": "92b3f9c5",
   "metadata": {},
   "outputs": [
    {
     "data": {
      "text/plain": [
       "1e-18"
      ]
     },
     "execution_count": 251,
     "metadata": {},
     "output_type": "execute_result"
    }
   ],
   "source": [
    "seed_mass['sub_dictionary']['Tiny sp.']"
   ]
  },
  {
   "cell_type": "code",
   "execution_count": 253,
   "id": "82a13897",
   "metadata": {},
   "outputs": [
    {
     "data": {
      "text/plain": [
       "[('Escherichia coli', 7e-10), ('Salmonella enterica', 6e-10)]"
      ]
     },
     "execution_count": 253,
     "metadata": {},
     "output_type": "execute_result"
    }
   ],
   "source": [
    "list(zip(sp_list, spcounts))"
   ]
  },
  {
   "cell_type": "code",
   "execution_count": 255,
   "id": "e2f23d09",
   "metadata": {},
   "outputs": [],
   "source": [
    "bact_dict = {key:value for key, value in zip(sp_list, spcounts)}"
   ]
  },
  {
   "cell_type": "code",
   "execution_count": 256,
   "id": "fb642d50",
   "metadata": {},
   "outputs": [
    {
     "data": {
      "text/plain": [
       "{'Escherichia coli': 7e-10, 'Salmonella enterica': 6e-10}"
      ]
     },
     "execution_count": 256,
     "metadata": {},
     "output_type": "execute_result"
    }
   ],
   "source": [
    "bact_dict"
   ]
  },
  {
   "cell_type": "code",
   "execution_count": 264,
   "id": "929b52b0",
   "metadata": {},
   "outputs": [
    {
     "data": {
      "text/plain": [
       "6e-10"
      ]
     },
     "execution_count": 264,
     "metadata": {},
     "output_type": "execute_result"
    }
   ],
   "source": [
    "bact_dict[\"Salmonella enterica\"]"
   ]
  },
  {
   "cell_type": "markdown",
   "id": "655cf9f2",
   "metadata": {},
   "source": [
    "Exercise 5:\n",
    "\n",
    "a. Use indexing to grab the word \"Prime\" in the following list:\n"
   ]
  },
  {
   "cell_type": "code",
   "execution_count": 258,
   "id": "e4b31c13",
   "metadata": {},
   "outputs": [],
   "source": [
    "lst = [1,2,3,[5,7],[11,[13,17,['Prime', 19]],23,29],31,37]"
   ]
  },
  {
   "cell_type": "code",
   "execution_count": 263,
   "id": "0bb5588e",
   "metadata": {},
   "outputs": [
    {
     "data": {
      "text/plain": [
       "'Prime'"
      ]
     },
     "execution_count": 263,
     "metadata": {},
     "output_type": "execute_result"
    }
   ],
   "source": [
    "lst[4][1][2][0]"
   ]
  },
  {
   "cell_type": "markdown",
   "id": "45d5dcf4",
   "metadata": {},
   "source": [
    "b. Use indexing to grab the list ['J', 'B', 'S', 'Haldane'] from the following dictionary:"
   ]
  },
  {
   "cell_type": "code",
   "execution_count": 266,
   "id": "951684dc",
   "metadata": {},
   "outputs": [],
   "source": [
    "quote = {\n",
    "    'I would gladly give up my life for':[\n",
    "        1,2,{\n",
    "            'sister':'Naomi Mitchison','brothers or':[\n",
    "                'kin','selection','inclusive','fitness','Hamilton','`s','rule','altriusm',{\n",
    "                    'relatedness %':[\n",
    "                        50,25,12.5\n",
    "                    ],'cousins':[\n",
    "                        'J','B','S','Haldane'\n",
    "                    ],'sisters':[\n",
    "                        'ants','bees','mole rats'\n",
    "                    ]\n",
    "                },'eusociality'\n",
    "            ],'siblings':2\n",
    "        },3\n",
    "    ],'or':[4,'nieces']\n",
    "}"
   ]
  },
  {
   "cell_type": "code",
   "execution_count": 272,
   "id": "e1083466",
   "metadata": {},
   "outputs": [
    {
     "data": {
      "text/plain": [
       "['J', 'B', 'S', 'Haldane']"
      ]
     },
     "execution_count": 272,
     "metadata": {},
     "output_type": "execute_result"
    }
   ],
   "source": [
    "quote['I would gladly give up my life for'][2]['brothers or'][8]['cousins']"
   ]
  },
  {
   "cell_type": "markdown",
   "id": "2e6cbcdf",
   "metadata": {},
   "source": [
    "Bonus Exercise 6: \n",
    "\n",
    "Many modern web browsers have an in-built password generator. For this exercise you are invited to write code that automatically generates a random password. The password should have length 12 and consist of upper and lower case letters as well as numbers 0 through 9. (Hint: import the string and random libraries. Note we will look closer at importing libraries later in the course.)"
   ]
  },
  {
   "cell_type": "code",
   "execution_count": 273,
   "id": "460fb93d",
   "metadata": {},
   "outputs": [],
   "source": [
    "import string\n",
    "import random"
   ]
  },
  {
   "cell_type": "code",
   "execution_count": 282,
   "id": "e9aadf45",
   "metadata": {},
   "outputs": [],
   "source": [
    "characters = string.ascii_letters + string.digits"
   ]
  },
  {
   "cell_type": "code",
   "execution_count": 286,
   "id": "e2ed17aa",
   "metadata": {
    "scrolled": true
   },
   "outputs": [],
   "source": [
    "password = ''.join(random.choices(characters, k = 12))"
   ]
  },
  {
   "cell_type": "code",
   "execution_count": 287,
   "id": "ebad2037",
   "metadata": {},
   "outputs": [
    {
     "data": {
      "text/plain": [
       "'gpaOGkMgGaDg'"
      ]
     },
     "execution_count": 287,
     "metadata": {},
     "output_type": "execute_result"
    }
   ],
   "source": [
    "password"
   ]
  },
  {
   "cell_type": "code",
   "execution_count": null,
   "id": "fddc1955",
   "metadata": {},
   "outputs": [],
   "source": []
  }
 ],
 "metadata": {
  "kernelspec": {
   "display_name": "Python 3 (ipykernel)",
   "language": "python",
   "name": "python3"
  },
  "language_info": {
   "codemirror_mode": {
    "name": "ipython",
    "version": 3
   },
   "file_extension": ".py",
   "mimetype": "text/x-python",
   "name": "python",
   "nbconvert_exporter": "python",
   "pygments_lexer": "ipython3",
   "version": "3.9.12"
  }
 },
 "nbformat": 4,
 "nbformat_minor": 5
}
