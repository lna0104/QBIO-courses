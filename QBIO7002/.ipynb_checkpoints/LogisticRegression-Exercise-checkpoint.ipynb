{
 "cells": [
  {
   "cell_type": "markdown",
   "metadata": {},
   "source": [
    "# Logsitic Regression Exercise: \n",
    "## Classification of *Senecio* ecotypes\n",
    "\n",
    "<img src=\"senecio.png\" alt=\"drawing\" width=\"400\"/>"
   ]
  },
  {
   "cell_type": "markdown",
   "metadata": {},
   "source": [
    "In this exercise we will be exploring how well we can predict *Senecio* ecotypes based on various morphological features. The data is taken from an experiment where seeds from the Australian wildflower *Senecio lautus* were collected, grown in glasshouses under uniform conditions, and a range of morphological traits measured. The seeds were collected from populations belonging to four distinct ecotypes (dune, headland, tableland and woodland) that may be in the process of forming separate species. \n",
    "###### Walter, G.M., Aguirre, J.D., Blows, M.W. & Ortiz-Barrientos, D. Evolution of Genetic Variance during Adaptive Radiation. The American Naturalist 191: E108–E128 (2018), https://www.journals.uchicago.edu/doi/10.1086/696123\n",
    "\n",
    "The dataset consists of the following features:\n",
    "\n",
    "- **Ecotype**: One of four ecotypes\n",
    "\n",
    "- **Population**: Population ID\n",
    "\n",
    "- **VegHeight**: Vegetative height of the plant, in mm\n",
    "\n",
    "- **MSL_W**: Ratio between main stem length and mean plant width\n",
    "\n",
    "- **SB**: Number of branches\n",
    "\n",
    "- **MSD**: Main stem diameter, in mm\n",
    "\n",
    "- **Area**: Leaf area, in mm2\n",
    "\n",
    "- **P2A2**: Leaf perimeter squared / area squared (an indicator of leaf complexity)\n",
    "\n",
    "- **Circularity**: Leaf circularity\n",
    "\n",
    "- **Nindents.Peri**: Number of leaf indents divided by leaf perimeter\n",
    "\n",
    "- **IndentWidth**: Leaf indent width, in mm\n",
    "\n",
    "- **IndentDepth**: Leaf indent depth, in mm"
   ]
  },
  {
   "cell_type": "markdown",
   "metadata": {},
   "source": [
    "### Libraries\n",
    "**Import whichever libraries you think you will need.**"
   ]
  },
  {
   "cell_type": "code",
   "execution_count": null,
   "metadata": {},
   "outputs": [],
   "source": []
  },
  {
   "cell_type": "markdown",
   "metadata": {},
   "source": [
    "### Import and inspect data\n",
    "**Read in the ecotype-OB.csv file and set it to a dataframe called eco.**"
   ]
  },
  {
   "cell_type": "code",
   "execution_count": null,
   "metadata": {},
   "outputs": [],
   "source": []
  },
  {
   "cell_type": "markdown",
   "metadata": {},
   "source": [
    "**Check the head of eco.**"
   ]
  },
  {
   "cell_type": "code",
   "execution_count": null,
   "metadata": {},
   "outputs": [],
   "source": []
  },
  {
   "cell_type": "markdown",
   "metadata": {},
   "source": [
    "**Use .info and .describe to familiarise yourself with the data.**"
   ]
  },
  {
   "cell_type": "code",
   "execution_count": null,
   "metadata": {},
   "outputs": [],
   "source": []
  },
  {
   "cell_type": "code",
   "execution_count": null,
   "metadata": {},
   "outputs": [],
   "source": []
  },
  {
   "cell_type": "markdown",
   "metadata": {},
   "source": [
    "**Because this is a logistic regression based classification problem we will restrict ourselves the two most dominant ecotypes: \"Dune\" and \"Headland\". Make a new dataframe `ecosub` that only includes the \"Dune\" and \"Headland\" ecotypes.**"
   ]
  },
  {
   "cell_type": "code",
   "execution_count": null,
   "metadata": {},
   "outputs": [],
   "source": []
  },
  {
   "cell_type": "markdown",
   "metadata": {},
   "source": [
    "### Data exploration"
   ]
  },
  {
   "cell_type": "markdown",
   "metadata": {},
   "source": [
    "**Use seaborn to make a pairplot of the ecosub datset with a different colour for ecotype.**"
   ]
  },
  {
   "cell_type": "code",
   "execution_count": null,
   "metadata": {},
   "outputs": [],
   "source": []
  },
  {
   "cell_type": "markdown",
   "metadata": {},
   "source": [
    "**Generate a heatmap showing the correlation between the dataset features.**"
   ]
  },
  {
   "cell_type": "code",
   "execution_count": null,
   "metadata": {},
   "outputs": [],
   "source": []
  },
  {
   "cell_type": "markdown",
   "metadata": {},
   "source": [
    "### Model training\n",
    "**Seperate the dataset into label and features arrays (only use one feature)**"
   ]
  },
  {
   "cell_type": "code",
   "execution_count": null,
   "metadata": {},
   "outputs": [],
   "source": []
  },
  {
   "cell_type": "markdown",
   "metadata": {},
   "source": [
    "**Split into training and test data using train_test_split**"
   ]
  },
  {
   "cell_type": "code",
   "execution_count": null,
   "metadata": {},
   "outputs": [],
   "source": []
  },
  {
   "cell_type": "code",
   "execution_count": null,
   "metadata": {},
   "outputs": [],
   "source": []
  },
  {
   "cell_type": "markdown",
   "metadata": {},
   "source": [
    "**Import logistic regression from sklearn and fit model on training data**"
   ]
  },
  {
   "cell_type": "code",
   "execution_count": null,
   "metadata": {},
   "outputs": [],
   "source": []
  },
  {
   "cell_type": "code",
   "execution_count": null,
   "metadata": {},
   "outputs": [],
   "source": []
  },
  {
   "cell_type": "markdown",
   "metadata": {},
   "source": [
    "**Predict values from the test data**"
   ]
  },
  {
   "cell_type": "code",
   "execution_count": null,
   "metadata": {},
   "outputs": [],
   "source": []
  },
  {
   "cell_type": "markdown",
   "metadata": {},
   "source": [
    "**Generate a classfication report and confusion matrix**"
   ]
  },
  {
   "cell_type": "code",
   "execution_count": null,
   "metadata": {},
   "outputs": [],
   "source": []
  },
  {
   "cell_type": "code",
   "execution_count": null,
   "metadata": {},
   "outputs": [],
   "source": []
  },
  {
   "cell_type": "code",
   "execution_count": null,
   "metadata": {},
   "outputs": [],
   "source": []
  },
  {
   "cell_type": "code",
   "execution_count": null,
   "metadata": {},
   "outputs": [],
   "source": []
  },
  {
   "cell_type": "markdown",
   "metadata": {},
   "source": [
    "**Plot the estimate probabilities as we did for the Palmer penguins dataset (code provided but at the very least you will likely need to modify the range of X_new in `np.linspace()`**"
   ]
  },
  {
   "cell_type": "code",
   "execution_count": null,
   "metadata": {},
   "outputs": [],
   "source": [
    "X_new = np.linspace(2,6,1000).reshape(-1,1) #  columns\n",
    "y_proba = logmodel.predict_proba(X_new)\n",
    "plt.figure(figsize=(8, 3))\n",
    "plt.plot(X_new, y_proba[:, 1], \"g-\", label = \"Dune\")\n",
    "plt.plot(X_new, y_proba[:, 0], \"b--\", label = \"Headland\")\n",
    "decision_boundary = X_new[y_proba[:, 1] >= 0.5][0]\n",
    "plt.plot(X_train[y==0], y_train[y==0], \"bs\")\n",
    "plt.plot(X_train[y==1], y_train[y==1], \"g^\")\n",
    "plt.plot([decision_boundary, decision_boundary], [-1, 2], \"k:\", linewidth=2)\n",
    "plt.text(decision_boundary+0.02, 0.15, \"Decision  boundary\", fontsize=14, color=\"k\", ha=\"center\")\n",
    "plt.xlabel(\"MSD\", fontsize=14)\n",
    "plt.ylabel(\"Probability\", fontsize=14)\n",
    "plt.legend(loc=\"center right\", fontsize=14)\n",
    "plt.axis([2, 6, -0.02, 1.02])"
   ]
  },
  {
   "cell_type": "markdown",
   "metadata": {},
   "source": [
    "**Generate ROC curve**"
   ]
  },
  {
   "cell_type": "code",
   "execution_count": null,
   "metadata": {},
   "outputs": [],
   "source": []
  },
  {
   "cell_type": "code",
   "execution_count": null,
   "metadata": {},
   "outputs": [],
   "source": []
  },
  {
   "cell_type": "code",
   "execution_count": null,
   "metadata": {},
   "outputs": [],
   "source": []
  },
  {
   "cell_type": "code",
   "execution_count": null,
   "metadata": {},
   "outputs": [],
   "source": []
  },
  {
   "cell_type": "markdown",
   "metadata": {},
   "source": [
    "**Find optimum decision boundary**"
   ]
  },
  {
   "cell_type": "code",
   "execution_count": null,
   "metadata": {},
   "outputs": [],
   "source": []
  },
  {
   "cell_type": "markdown",
   "metadata": {},
   "source": [
    "## Good work!"
   ]
  }
 ],
 "metadata": {
  "hide_input": false,
  "kernelspec": {
   "display_name": "Python 3 (ipykernel)",
   "language": "python",
   "name": "python3"
  },
  "language_info": {
   "codemirror_mode": {
    "name": "ipython",
    "version": 3
   },
   "file_extension": ".py",
   "mimetype": "text/x-python",
   "name": "python",
   "nbconvert_exporter": "python",
   "pygments_lexer": "ipython3",
   "version": "3.9.12"
  },
  "varInspector": {
   "cols": {
    "lenName": 16,
    "lenType": 16,
    "lenVar": 40
   },
   "kernels_config": {
    "python": {
     "delete_cmd_postfix": "",
     "delete_cmd_prefix": "del ",
     "library": "var_list.py",
     "varRefreshCmd": "print(var_dic_list())"
    },
    "r": {
     "delete_cmd_postfix": ") ",
     "delete_cmd_prefix": "rm(",
     "library": "var_list.r",
     "varRefreshCmd": "cat(var_dic_list()) "
    }
   },
   "types_to_exclude": [
    "module",
    "function",
    "builtin_function_or_method",
    "instance",
    "_Feature"
   ],
   "window_display": false
  }
 },
 "nbformat": 4,
 "nbformat_minor": 4
}
