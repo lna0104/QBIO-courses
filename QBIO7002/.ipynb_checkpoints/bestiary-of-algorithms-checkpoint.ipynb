{
 "cells": [
  {
   "cell_type": "markdown",
   "metadata": {},
   "source": [
    "## Loss fuction"
   ]
  },
  {
   "cell_type": "code",
   "execution_count": null,
   "metadata": {},
   "outputs": [],
   "source": [
    "import numpy as np \n",
    "from palmerpenguins import load_penguins\n",
    "from sklearn.model_selection import train_test_split\n",
    "from sklearn.linear_model import LogisticRegression\n",
    "from sklearn.metrics import log_loss\n",
    "\n",
    "# Define function to calculate binary cross entropy (`equivalent to log_loss()` from scikit-learn)\n",
    "def binary_cross_entropy(actual, predicted):\n",
    "  sum_score = 0.0\n",
    "  for i in range(len(actual)):\n",
    "    sum_score += (actual[i] * np.log(1e-15 + predicted[i]) + \n",
    "    (1-actual[i]) * np.log(1 - (1e-15 + predicted[i])))\n",
    "  mean_sum_score = sum_score / len(actual) \n",
    "  return(-mean_sum_score)\n",
    "\n",
    "# Fit logistic model\n",
    "penguins = load_penguins()\n",
    "penguins.dropna(subset=[\"bill_depth_mm\"], inplace=True)\n",
    "y = (penguins[\"species\"] == \"Gentoo\").astype(int)\n",
    "X = penguins[[\"bill_depth_mm\"]]\n",
    "X_train, X_test, y_train, y_test = train_test_split(X, y, test_size=0.33)\n",
    "logmodel = LogisticRegression()\n",
    "logmodel.fit(X_train, y_train)\n",
    "\n",
    "# Make a list of predicted probabilities"
   ]
  },
  {
   "cell_type": "code",
   "execution_count": null,
   "metadata": {},
   "outputs": [],
   "source": [
    "probs_gentoo_logmodel = list(logmodel.predict_proba(X_train)[:,1]) # logistic model\n",
    "probs_gentoo_random = list(np.random.uniform(0,1,len(X_train))) # random predicted probabilities \n",
    "probs_gentoo_dumb = list(np.linspace(0.99,0.99,len(X_train))) # dumb model\n",
    "\n",
    "# Calculate cross-entropy\n",
    "bce_logmodel = binary_cross_entropy(list(y_train), probs_gentoo_logmodel)\n",
    "bce_randprob = binary_cross_entropy(list(y_train), probs_gentoo_random) \n",
    "bce_dumb = binary_cross_entropy(list(y_train), probs_gentoo_dumb) "
   ]
  },
  {
   "cell_type": "markdown",
   "metadata": {},
   "source": [
    "## Fitting a bestiary of algorithms with sklearn\n",
    "\n",
    "Exploring the power of different algorithmns for predicting *Senecio* ecotypes.\n",
    "\n",
    "Let's begin by importing the usual suspects of packages: numpy, pandas, seaborn etc."
   ]
  },
  {
   "cell_type": "code",
   "execution_count": 27,
   "metadata": {},
   "outputs": [],
   "source": [
    "import pandas as pd\n",
    "import seaborn as sns\n",
    "import numpy as np\n",
    "import matplotlib.pyplot as plt"
   ]
  },
  {
   "cell_type": "code",
   "execution_count": 28,
   "metadata": {},
   "outputs": [
    {
     "data": {
      "text/html": [
       "<div>\n",
       "<style scoped>\n",
       "    .dataframe tbody tr th:only-of-type {\n",
       "        vertical-align: middle;\n",
       "    }\n",
       "\n",
       "    .dataframe tbody tr th {\n",
       "        vertical-align: top;\n",
       "    }\n",
       "\n",
       "    .dataframe thead th {\n",
       "        text-align: right;\n",
       "    }\n",
       "</style>\n",
       "<table border=\"1\" class=\"dataframe\">\n",
       "  <thead>\n",
       "    <tr style=\"text-align: right;\">\n",
       "      <th></th>\n",
       "      <th>Ecotype</th>\n",
       "      <th>Population</th>\n",
       "      <th>VegHeight</th>\n",
       "      <th>MSL_W</th>\n",
       "      <th>SB</th>\n",
       "      <th>MSD</th>\n",
       "      <th>Area</th>\n",
       "      <th>P2A2</th>\n",
       "      <th>Circularity</th>\n",
       "      <th>Nindents.Peri</th>\n",
       "      <th>IndentWidth</th>\n",
       "      <th>IndentDepth</th>\n",
       "    </tr>\n",
       "  </thead>\n",
       "  <tbody>\n",
       "    <tr>\n",
       "      <th>0</th>\n",
       "      <td>Dune</td>\n",
       "      <td>D0</td>\n",
       "      <td>354</td>\n",
       "      <td>0.459259</td>\n",
       "      <td>16</td>\n",
       "      <td>4.31</td>\n",
       "      <td>613.468135</td>\n",
       "      <td>0.159502</td>\n",
       "      <td>37.157379</td>\n",
       "      <td>0.110202</td>\n",
       "      <td>5.127754</td>\n",
       "      <td>1.202011</td>\n",
       "    </tr>\n",
       "    <tr>\n",
       "      <th>1</th>\n",
       "      <td>Dune</td>\n",
       "      <td>D0</td>\n",
       "      <td>317</td>\n",
       "      <td>0.318421</td>\n",
       "      <td>16</td>\n",
       "      <td>4.58</td>\n",
       "      <td>321.366835</td>\n",
       "      <td>0.220129</td>\n",
       "      <td>51.482505</td>\n",
       "      <td>0.165806</td>\n",
       "      <td>4.075965</td>\n",
       "      <td>0.765863</td>\n",
       "    </tr>\n",
       "    <tr>\n",
       "      <th>2</th>\n",
       "      <td>Dune</td>\n",
       "      <td>D0</td>\n",
       "      <td>309</td>\n",
       "      <td>0.389542</td>\n",
       "      <td>16</td>\n",
       "      <td>5.09</td>\n",
       "      <td>438.073814</td>\n",
       "      <td>0.164009</td>\n",
       "      <td>35.246350</td>\n",
       "      <td>0.118369</td>\n",
       "      <td>6.221302</td>\n",
       "      <td>1.583950</td>\n",
       "    </tr>\n",
       "    <tr>\n",
       "      <th>3</th>\n",
       "      <td>Dune</td>\n",
       "      <td>D0</td>\n",
       "      <td>327</td>\n",
       "      <td>0.538593</td>\n",
       "      <td>15</td>\n",
       "      <td>4.68</td>\n",
       "      <td>447.911864</td>\n",
       "      <td>0.186158</td>\n",
       "      <td>31.049993</td>\n",
       "      <td>0.087966</td>\n",
       "      <td>7.599282</td>\n",
       "      <td>1.392852</td>\n",
       "    </tr>\n",
       "    <tr>\n",
       "      <th>4</th>\n",
       "      <td>Dune</td>\n",
       "      <td>D0</td>\n",
       "      <td>376</td>\n",
       "      <td>0.463811</td>\n",
       "      <td>17</td>\n",
       "      <td>4.65</td>\n",
       "      <td>406.741222</td>\n",
       "      <td>0.287131</td>\n",
       "      <td>64.196189</td>\n",
       "      <td>0.133058</td>\n",
       "      <td>4.365729</td>\n",
       "      <td>1.163325</td>\n",
       "    </tr>\n",
       "  </tbody>\n",
       "</table>\n",
       "</div>"
      ],
      "text/plain": [
       "  Ecotype Population  VegHeight     MSL_W  SB   MSD        Area      P2A2  \\\n",
       "0    Dune         D0        354  0.459259  16  4.31  613.468135  0.159502   \n",
       "1    Dune         D0        317  0.318421  16  4.58  321.366835  0.220129   \n",
       "2    Dune         D0        309  0.389542  16  5.09  438.073814  0.164009   \n",
       "3    Dune         D0        327  0.538593  15  4.68  447.911864  0.186158   \n",
       "4    Dune         D0        376  0.463811  17  4.65  406.741222  0.287131   \n",
       "\n",
       "   Circularity  Nindents.Peri  IndentWidth  IndentDepth  \n",
       "0    37.157379       0.110202     5.127754     1.202011  \n",
       "1    51.482505       0.165806     4.075965     0.765863  \n",
       "2    35.246350       0.118369     6.221302     1.583950  \n",
       "3    31.049993       0.087966     7.599282     1.392852  \n",
       "4    64.196189       0.133058     4.365729     1.163325  "
      ]
     },
     "execution_count": 28,
     "metadata": {},
     "output_type": "execute_result"
    }
   ],
   "source": [
    "eco = pd.read_csv(\"ecotype-OB.csv\")\n",
    "eco.head()"
   ]
  },
  {
   "cell_type": "code",
   "execution_count": 29,
   "metadata": {},
   "outputs": [
    {
     "data": {
      "text/plain": [
       "<seaborn.axisgrid.PairGrid at 0x1ff61888288>"
      ]
     },
     "execution_count": 29,
     "metadata": {},
     "output_type": "execute_result"
    },
    {
     "data": {
      "image/png": "[encoded data removed]",
      "text/plain": [
       "<Figure size 445.375x360 with 6 Axes>"
      ]
     },
     "metadata": {
      "needs_background": "light"
     },
     "output_type": "display_data"
    }
   ],
   "source": [
    "sns.pairplot(eco[[\"VegHeight\", \"Circularity\", \"Ecotype\"]], hue=\"Ecotype\")"
   ]
  },
  {
   "cell_type": "markdown",
   "metadata": {},
   "source": [
    "### Split data into input and taget variables"
   ]
  },
  {
   "cell_type": "code",
   "execution_count": 30,
   "metadata": {},
   "outputs": [],
   "source": [
    "X = eco[[\"VegHeight\", \"Circularity\"]] "
   ]
  },
  {
   "cell_type": "code",
   "execution_count": 31,
   "metadata": {},
   "outputs": [],
   "source": [
    "y =  eco['Ecotype']"
   ]
  },
  {
   "cell_type": "markdown",
   "metadata": {},
   "source": [
    "### Preprocessing\n",
    "\n",
    "Generally speaking, machine learning algorithms do not perform well when the numerical features are on different scales. A common approach to scaling features is to perform standardization: each value has the mean subtracted from it, and then it is divided by the standard deviation. "
   ]
  },
  {
   "cell_type": "code",
   "execution_count": 479,
   "metadata": {},
   "outputs": [],
   "source": [
    "# standardize the dataset\n",
    "from sklearn.preprocessing import StandardScaler\n",
    "scaler = StandardScaler()\n",
    "X_scaled = scaler.fit_transform(X)"
   ]
  },
  {
   "cell_type": "markdown",
   "metadata": {},
   "source": [
    "### Split the data into training and test datasets"
   ]
  },
  {
   "cell_type": "code",
   "execution_count": 624,
   "metadata": {},
   "outputs": [],
   "source": [
    "from sklearn.model_selection import train_test_split\n",
    "X_train, X_test, y_train, y_test = train_test_split(X_scaled, y, test_size=0.33)"
   ]
  },
  {
   "cell_type": "markdown",
   "metadata": {},
   "source": [
    "### k-Nearest Neighbours"
   ]
  },
  {
   "cell_type": "code",
   "execution_count": 481,
   "metadata": {},
   "outputs": [],
   "source": [
    "from sklearn.neighbors import KNeighborsClassifier\n",
    "from sklearn.metrics import classification_report, ConfusionMatrixDisplay"
   ]
  },
  {
   "cell_type": "code",
   "execution_count": 482,
   "metadata": {},
   "outputs": [],
   "source": [
    "knn_clf = KNeighborsClassifier(n_neighbors = 30) "
   ]
  },
  {
   "cell_type": "code",
   "execution_count": 483,
   "metadata": {},
   "outputs": [
    {
     "data": {
      "text/plain": [
       "KNeighborsClassifier(n_neighbors=30)"
      ]
     },
     "execution_count": 483,
     "metadata": {},
     "output_type": "execute_result"
    }
   ],
   "source": [
    "knn_clf.fit(X_train, y_train)"
   ]
  },
  {
   "cell_type": "code",
   "execution_count": 484,
   "metadata": {},
   "outputs": [],
   "source": [
    "predictions = knn_clf.predict(X_test)"
   ]
  },
  {
   "cell_type": "code",
   "execution_count": 485,
   "metadata": {},
   "outputs": [
    {
     "name": "stdout",
     "output_type": "stream",
     "text": [
      "              precision    recall  f1-score   support\n",
      "\n",
      "        Dune       0.62      0.80      0.70        20\n",
      "    Headland       1.00      0.89      0.94        19\n",
      "   Tableland       0.85      0.58      0.69        19\n",
      "    Woodland       0.92      1.00      0.96        22\n",
      "\n",
      "    accuracy                           0.82        80\n",
      "   macro avg       0.84      0.82      0.82        80\n",
      "weighted avg       0.84      0.82      0.82        80\n",
      "\n"
     ]
    }
   ],
   "source": [
    "print(classification_report(y_test, predictions))"
   ]
  },
  {
   "cell_type": "code",
   "execution_count": 486,
   "metadata": {
    "scrolled": true
   },
   "outputs": [
    {
     "data": {
      "text/plain": [
       "<sklearn.metrics._plot.confusion_matrix.ConfusionMatrixDisplay at 0x1ff64d5cdc8>"
      ]
     },
     "execution_count": 486,
     "metadata": {},
     "output_type": "execute_result"
    },
    {
     "data": {
      "image/png": "[encoded data removed]",
      "text/plain": [
       "<Figure size 432x288 with 2 Axes>"
      ]
     },
     "metadata": {
      "needs_background": "light"
     },
     "output_type": "display_data"
    }
   ],
   "source": [
    "ConfusionMatrixDisplay.from_predictions(y_test, predictions)\n",
    "#ConfusionMatrixDisplay.from_predictions(y_test.argmax(axis=1), predictions.argmax(axis=1))"
   ]
  },
  {
   "cell_type": "markdown",
   "metadata": {},
   "source": [
    "#### with k-fold cross validation"
   ]
  },
  {
   "cell_type": "code",
   "execution_count": 669,
   "metadata": {},
   "outputs": [],
   "source": [
    "from sklearn.model_selection import cross_val_score, KFold"
   ]
  },
  {
   "cell_type": "code",
   "execution_count": 488,
   "metadata": {},
   "outputs": [
    {
     "data": {
      "text/plain": [
       "array([0.93877551, 0.81632653, 0.89583333, 0.875     , 0.8125    ])"
      ]
     },
     "execution_count": 488,
     "metadata": {},
     "output_type": "execute_result"
    }
   ],
   "source": [
    "scores = cross_val_score(KNeighborsClassifier(n_neighbors = 30), X_scaled, y, cv=KFold(n_splits = 5, shuffle=True))\n",
    "scores"
   ]
  },
  {
   "cell_type": "code",
   "execution_count": 489,
   "metadata": {},
   "outputs": [
    {
     "data": {
      "text/plain": [
       "0.868"
      ]
     },
     "execution_count": 489,
     "metadata": {},
     "output_type": "execute_result"
    }
   ],
   "source": [
    "round(np.mean(scores), 3)"
   ]
  },
  {
   "cell_type": "code",
   "execution_count": 490,
   "metadata": {},
   "outputs": [
    {
     "data": {
      "text/plain": [
       "0.048"
      ]
     },
     "execution_count": 490,
     "metadata": {},
     "output_type": "execute_result"
    }
   ],
   "source": [
    "round(np.std(scores), 3)"
   ]
  },
  {
   "cell_type": "markdown",
   "metadata": {},
   "source": [
    "#### Exploring hyperparameter space with grid search"
   ]
  },
  {
   "cell_type": "code",
   "execution_count": 491,
   "metadata": {},
   "outputs": [],
   "source": [
    "from sklearn.model_selection import GridSearchCV"
   ]
  },
  {
   "cell_type": "code",
   "execution_count": 492,
   "metadata": {},
   "outputs": [],
   "source": [
    "grid_search = GridSearchCV(KNeighborsClassifier(), \n",
    "                           param_grid = {'n_neighbors': np.arange(1,100,1)}, \n",
    "                           cv = 5)"
   ]
  },
  {
   "cell_type": "code",
   "execution_count": 493,
   "metadata": {},
   "outputs": [
    {
     "data": {
      "text/plain": [
       "GridSearchCV(cv=5, estimator=KNeighborsClassifier(),\n",
       "             param_grid={'n_neighbors': array([ 1,  2,  3,  4,  5,  6,  7,  8,  9, 10, 11, 12, 13, 14, 15, 16, 17,\n",
       "       18, 19, 20, 21, 22, 23, 24, 25, 26, 27, 28, 29, 30, 31, 32, 33, 34,\n",
       "       35, 36, 37, 38, 39, 40, 41, 42, 43, 44, 45, 46, 47, 48, 49, 50, 51,\n",
       "       52, 53, 54, 55, 56, 57, 58, 59, 60, 61, 62, 63, 64, 65, 66, 67, 68,\n",
       "       69, 70, 71, 72, 73, 74, 75, 76, 77, 78, 79, 80, 81, 82, 83, 84, 85,\n",
       "       86, 87, 88, 89, 90, 91, 92, 93, 94, 95, 96, 97, 98, 99])})"
      ]
     },
     "execution_count": 493,
     "metadata": {},
     "output_type": "execute_result"
    }
   ],
   "source": [
    "grid_search.fit(X_train, y_train)"
   ]
  },
  {
   "cell_type": "code",
   "execution_count": 494,
   "metadata": {
    "scrolled": true
   },
   "outputs": [
    {
     "data": {
      "text/plain": [
       "0.9009469696969697"
      ]
     },
     "execution_count": 494,
     "metadata": {},
     "output_type": "execute_result"
    }
   ],
   "source": [
    "grid_search.best_score_"
   ]
  },
  {
   "cell_type": "code",
   "execution_count": 495,
   "metadata": {},
   "outputs": [
    {
     "data": {
      "text/plain": [
       "KNeighborsClassifier()"
      ]
     },
     "execution_count": 495,
     "metadata": {},
     "output_type": "execute_result"
    }
   ],
   "source": [
    "grid_search.best_estimator_"
   ]
  },
  {
   "cell_type": "code",
   "execution_count": 496,
   "metadata": {},
   "outputs": [
    {
     "data": {
      "text/html": [
       "<div>\n",
       "<style scoped>\n",
       "    .dataframe tbody tr th:only-of-type {\n",
       "        vertical-align: middle;\n",
       "    }\n",
       "\n",
       "    .dataframe tbody tr th {\n",
       "        vertical-align: top;\n",
       "    }\n",
       "\n",
       "    .dataframe thead th {\n",
       "        text-align: right;\n",
       "    }\n",
       "</style>\n",
       "<table border=\"1\" class=\"dataframe\">\n",
       "  <thead>\n",
       "    <tr style=\"text-align: right;\">\n",
       "      <th></th>\n",
       "      <th>mean_fit_time</th>\n",
       "      <th>std_fit_time</th>\n",
       "      <th>mean_score_time</th>\n",
       "      <th>std_score_time</th>\n",
       "      <th>param_n_neighbors</th>\n",
       "      <th>params</th>\n",
       "      <th>split0_test_score</th>\n",
       "      <th>split1_test_score</th>\n",
       "      <th>split2_test_score</th>\n",
       "      <th>split3_test_score</th>\n",
       "      <th>split4_test_score</th>\n",
       "      <th>mean_test_score</th>\n",
       "      <th>std_test_score</th>\n",
       "      <th>rank_test_score</th>\n",
       "    </tr>\n",
       "  </thead>\n",
       "  <tbody>\n",
       "    <tr>\n",
       "      <th>4</th>\n",
       "      <td>0.00000</td>\n",
       "      <td>0.00000</td>\n",
       "      <td>0.003125</td>\n",
       "      <td>0.006250</td>\n",
       "      <td>5</td>\n",
       "      <td>{'n_neighbors': 5}</td>\n",
       "      <td>0.969697</td>\n",
       "      <td>0.878788</td>\n",
       "      <td>0.90625</td>\n",
       "      <td>0.8125</td>\n",
       "      <td>0.93750</td>\n",
       "      <td>0.900947</td>\n",
       "      <td>0.053674</td>\n",
       "      <td>1</td>\n",
       "    </tr>\n",
       "    <tr>\n",
       "      <th>6</th>\n",
       "      <td>0.00000</td>\n",
       "      <td>0.00000</td>\n",
       "      <td>0.003124</td>\n",
       "      <td>0.006248</td>\n",
       "      <td>7</td>\n",
       "      <td>{'n_neighbors': 7}</td>\n",
       "      <td>0.969697</td>\n",
       "      <td>0.848485</td>\n",
       "      <td>0.90625</td>\n",
       "      <td>0.8125</td>\n",
       "      <td>0.93750</td>\n",
       "      <td>0.894886</td>\n",
       "      <td>0.057415</td>\n",
       "      <td>2</td>\n",
       "    </tr>\n",
       "    <tr>\n",
       "      <th>5</th>\n",
       "      <td>0.00000</td>\n",
       "      <td>0.00000</td>\n",
       "      <td>0.000000</td>\n",
       "      <td>0.000000</td>\n",
       "      <td>6</td>\n",
       "      <td>{'n_neighbors': 6}</td>\n",
       "      <td>0.969697</td>\n",
       "      <td>0.878788</td>\n",
       "      <td>0.87500</td>\n",
       "      <td>0.8125</td>\n",
       "      <td>0.93750</td>\n",
       "      <td>0.894697</td>\n",
       "      <td>0.054506</td>\n",
       "      <td>3</td>\n",
       "    </tr>\n",
       "    <tr>\n",
       "      <th>34</th>\n",
       "      <td>0.00162</td>\n",
       "      <td>0.00324</td>\n",
       "      <td>0.000411</td>\n",
       "      <td>0.000822</td>\n",
       "      <td>35</td>\n",
       "      <td>{'n_neighbors': 35}</td>\n",
       "      <td>0.939394</td>\n",
       "      <td>0.848485</td>\n",
       "      <td>0.87500</td>\n",
       "      <td>0.8750</td>\n",
       "      <td>0.90625</td>\n",
       "      <td>0.888826</td>\n",
       "      <td>0.031210</td>\n",
       "      <td>4</td>\n",
       "    </tr>\n",
       "    <tr>\n",
       "      <th>15</th>\n",
       "      <td>0.00000</td>\n",
       "      <td>0.00000</td>\n",
       "      <td>0.000000</td>\n",
       "      <td>0.000000</td>\n",
       "      <td>16</td>\n",
       "      <td>{'n_neighbors': 16}</td>\n",
       "      <td>0.939394</td>\n",
       "      <td>0.878788</td>\n",
       "      <td>0.87500</td>\n",
       "      <td>0.8125</td>\n",
       "      <td>0.93750</td>\n",
       "      <td>0.888636</td>\n",
       "      <td>0.046997</td>\n",
       "      <td>5</td>\n",
       "    </tr>\n",
       "  </tbody>\n",
       "</table>\n",
       "</div>"
      ],
      "text/plain": [
       "    mean_fit_time  std_fit_time  mean_score_time  std_score_time  \\\n",
       "4         0.00000       0.00000         0.003125        0.006250   \n",
       "6         0.00000       0.00000         0.003124        0.006248   \n",
       "5         0.00000       0.00000         0.000000        0.000000   \n",
       "34        0.00162       0.00324         0.000411        0.000822   \n",
       "15        0.00000       0.00000         0.000000        0.000000   \n",
       "\n",
       "   param_n_neighbors               params  split0_test_score  \\\n",
       "4                  5   {'n_neighbors': 5}           0.969697   \n",
       "6                  7   {'n_neighbors': 7}           0.969697   \n",
       "5                  6   {'n_neighbors': 6}           0.969697   \n",
       "34                35  {'n_neighbors': 35}           0.939394   \n",
       "15                16  {'n_neighbors': 16}           0.939394   \n",
       "\n",
       "    split1_test_score  split2_test_score  split3_test_score  \\\n",
       "4            0.878788            0.90625             0.8125   \n",
       "6            0.848485            0.90625             0.8125   \n",
       "5            0.878788            0.87500             0.8125   \n",
       "34           0.848485            0.87500             0.8750   \n",
       "15           0.878788            0.87500             0.8125   \n",
       "\n",
       "    split4_test_score  mean_test_score  std_test_score  rank_test_score  \n",
       "4             0.93750         0.900947        0.053674                1  \n",
       "6             0.93750         0.894886        0.057415                2  \n",
       "5             0.93750         0.894697        0.054506                3  \n",
       "34            0.90625         0.888826        0.031210                4  \n",
       "15            0.93750         0.888636        0.046997                5  "
      ]
     },
     "execution_count": 496,
     "metadata": {},
     "output_type": "execute_result"
    }
   ],
   "source": [
    "pd.DataFrame(grid_search.cv_results_).sort_values(by = \"rank_test_score\").head()"
   ]
  },
  {
   "cell_type": "code",
   "execution_count": 497,
   "metadata": {},
   "outputs": [
    {
     "data": {
      "text/plain": [
       "0.9"
      ]
     },
     "execution_count": 497,
     "metadata": {},
     "output_type": "execute_result"
    }
   ],
   "source": [
    "grid_search.score(X_test, y_test)"
   ]
  },
  {
   "cell_type": "code",
   "execution_count": 498,
   "metadata": {},
   "outputs": [],
   "source": [
    "predictions = grid_search.predict(X_test)"
   ]
  },
  {
   "cell_type": "code",
   "execution_count": 499,
   "metadata": {},
   "outputs": [
    {
     "name": "stdout",
     "output_type": "stream",
     "text": [
      "              precision    recall  f1-score   support\n",
      "\n",
      "        Dune       0.75      0.90      0.82        20\n",
      "    Headland       1.00      0.89      0.94        19\n",
      "   Tableland       0.88      0.79      0.83        19\n",
      "    Woodland       1.00      1.00      1.00        22\n",
      "\n",
      "    accuracy                           0.90        80\n",
      "   macro avg       0.91      0.90      0.90        80\n",
      "weighted avg       0.91      0.90      0.90        80\n",
      "\n"
     ]
    }
   ],
   "source": [
    "print(classification_report(y_test, predictions))"
   ]
  },
  {
   "cell_type": "code",
   "execution_count": 500,
   "metadata": {},
   "outputs": [
    {
     "data": {
      "text/plain": [
       "<sklearn.metrics._plot.confusion_matrix.ConfusionMatrixDisplay at 0x1ff65266308>"
      ]
     },
     "execution_count": 500,
     "metadata": {},
     "output_type": "execute_result"
    },
    {
     "data": {
      "image/png": "[encoded data removed]",
      "text/plain": [
       "<Figure size 432x288 with 2 Axes>"
      ]
     },
     "metadata": {
      "needs_background": "light"
     },
     "output_type": "display_data"
    }
   ],
   "source": [
    "ConfusionMatrixDisplay.from_predictions(y_test, predictions)"
   ]
  },
  {
   "cell_type": "markdown",
   "metadata": {},
   "source": [
    "## Support vector machines"
   ]
  },
  {
   "cell_type": "code",
   "execution_count": 592,
   "metadata": {},
   "outputs": [],
   "source": [
    "from sklearn.svm import SVC"
   ]
  },
  {
   "cell_type": "markdown",
   "metadata": {},
   "source": [
    "#### Linear kernel"
   ]
  },
  {
   "cell_type": "code",
   "execution_count": 593,
   "metadata": {},
   "outputs": [],
   "source": [
    "svm_lin = SVC(kernel = \"linear\", C = 1)"
   ]
  },
  {
   "cell_type": "code",
   "execution_count": 594,
   "metadata": {},
   "outputs": [
    {
     "data": {
      "text/plain": [
       "SVC(C=1, kernel='linear')"
      ]
     },
     "execution_count": 594,
     "metadata": {},
     "output_type": "execute_result"
    }
   ],
   "source": [
    "svm_lin.fit(X_train, y_train)"
   ]
  },
  {
   "cell_type": "code",
   "execution_count": 595,
   "metadata": {},
   "outputs": [],
   "source": [
    "predictions = svm_lin.predict(X_test)"
   ]
  },
  {
   "cell_type": "code",
   "execution_count": 596,
   "metadata": {},
   "outputs": [
    {
     "name": "stdout",
     "output_type": "stream",
     "text": [
      "              precision    recall  f1-score   support\n",
      "\n",
      "        Dune       0.95      0.91      0.93        23\n",
      "    Headland       1.00      1.00      1.00        21\n",
      "   Tableland       0.89      0.94      0.92        18\n",
      "    Woodland       1.00      1.00      1.00        18\n",
      "\n",
      "    accuracy                           0.96        80\n",
      "   macro avg       0.96      0.96      0.96        80\n",
      "weighted avg       0.96      0.96      0.96        80\n",
      "\n"
     ]
    }
   ],
   "source": [
    "print(classification_report(y_test, predictions))"
   ]
  },
  {
   "cell_type": "code",
   "execution_count": 597,
   "metadata": {},
   "outputs": [
    {
     "data": {
      "text/plain": [
       "<sklearn.metrics._plot.confusion_matrix.ConfusionMatrixDisplay at 0x1ff670a7888>"
      ]
     },
     "execution_count": 597,
     "metadata": {},
     "output_type": "execute_result"
    },
    {
     "data": {
      "image/png": "[encoded data removed]",
      "text/plain": [
       "<Figure size 432x288 with 2 Axes>"
      ]
     },
     "metadata": {
      "needs_background": "light"
     },
     "output_type": "display_data"
    }
   ],
   "source": [
    "ConfusionMatrixDisplay.from_predictions(y_test, predictions)"
   ]
  },
  {
   "cell_type": "markdown",
   "metadata": {},
   "source": [
    "#### Polynomial kernel"
   ]
  },
  {
   "cell_type": "code",
   "execution_count": 598,
   "metadata": {},
   "outputs": [],
   "source": [
    "svm_poly = SVC(kernel = \"poly\", degree = 3, C = 1)"
   ]
  },
  {
   "cell_type": "code",
   "execution_count": 599,
   "metadata": {},
   "outputs": [
    {
     "data": {
      "text/plain": [
       "SVC(C=1, kernel='poly')"
      ]
     },
     "execution_count": 599,
     "metadata": {},
     "output_type": "execute_result"
    }
   ],
   "source": [
    "svm_poly.fit(X_train, y_train)"
   ]
  },
  {
   "cell_type": "code",
   "execution_count": 600,
   "metadata": {},
   "outputs": [],
   "source": [
    "predictions = svm_poly.predict(X_test)"
   ]
  },
  {
   "cell_type": "code",
   "execution_count": 601,
   "metadata": {},
   "outputs": [
    {
     "name": "stdout",
     "output_type": "stream",
     "text": [
      "              precision    recall  f1-score   support\n",
      "\n",
      "        Dune       0.70      1.00      0.82        23\n",
      "    Headland       1.00      0.81      0.89        21\n",
      "   Tableland       1.00      0.72      0.84        18\n",
      "    Woodland       1.00      0.94      0.97        18\n",
      "\n",
      "    accuracy                           0.88        80\n",
      "   macro avg       0.92      0.87      0.88        80\n",
      "weighted avg       0.91      0.88      0.88        80\n",
      "\n"
     ]
    }
   ],
   "source": [
    "print(classification_report(y_test, predictions))"
   ]
  },
  {
   "cell_type": "code",
   "execution_count": 602,
   "metadata": {},
   "outputs": [
    {
     "data": {
      "text/plain": [
       "<sklearn.metrics._plot.confusion_matrix.ConfusionMatrixDisplay at 0x1ff671c1c08>"
      ]
     },
     "execution_count": 602,
     "metadata": {},
     "output_type": "execute_result"
    },
    {
     "data": {
      "image/png": "[encoded data removed]",
      "text/plain": [
       "<Figure size 432x288 with 2 Axes>"
      ]
     },
     "metadata": {
      "needs_background": "light"
     },
     "output_type": "display_data"
    }
   ],
   "source": [
    "ConfusionMatrixDisplay.from_predictions(y_test, predictions)"
   ]
  },
  {
   "cell_type": "markdown",
   "metadata": {},
   "source": [
    "#### Radial basis function"
   ]
  },
  {
   "cell_type": "code",
   "execution_count": 603,
   "metadata": {},
   "outputs": [],
   "source": [
    "svm_rbf = SVC(kernel = \"rbf\", C = 1)"
   ]
  },
  {
   "cell_type": "code",
   "execution_count": 604,
   "metadata": {},
   "outputs": [
    {
     "data": {
      "text/plain": [
       "SVC(C=1)"
      ]
     },
     "execution_count": 604,
     "metadata": {},
     "output_type": "execute_result"
    }
   ],
   "source": [
    "svm_rbf.fit(X_train, y_train)"
   ]
  },
  {
   "cell_type": "code",
   "execution_count": 605,
   "metadata": {},
   "outputs": [],
   "source": [
    "predictions = svm_rbf.predict(X_test)"
   ]
  },
  {
   "cell_type": "code",
   "execution_count": 606,
   "metadata": {},
   "outputs": [
    {
     "name": "stdout",
     "output_type": "stream",
     "text": [
      "              precision    recall  f1-score   support\n",
      "\n",
      "        Dune       0.88      0.96      0.92        23\n",
      "    Headland       1.00      1.00      1.00        21\n",
      "   Tableland       0.94      0.83      0.88        18\n",
      "    Woodland       1.00      1.00      1.00        18\n",
      "\n",
      "    accuracy                           0.95        80\n",
      "   macro avg       0.95      0.95      0.95        80\n",
      "weighted avg       0.95      0.95      0.95        80\n",
      "\n"
     ]
    }
   ],
   "source": [
    "print(classification_report(y_test, predictions))"
   ]
  },
  {
   "cell_type": "code",
   "execution_count": 607,
   "metadata": {},
   "outputs": [
    {
     "data": {
      "text/plain": [
       "<sklearn.metrics._plot.confusion_matrix.ConfusionMatrixDisplay at 0x1ff671b8a88>"
      ]
     },
     "execution_count": 607,
     "metadata": {},
     "output_type": "execute_result"
    },
    {
     "data": {
      "image/png": "[encoded data removed]",
      "text/plain": [
       "<Figure size 432x288 with 2 Axes>"
      ]
     },
     "metadata": {
      "needs_background": "light"
     },
     "output_type": "display_data"
    }
   ],
   "source": [
    "ConfusionMatrixDisplay.from_predictions(y_test, predictions)"
   ]
  },
  {
   "cell_type": "markdown",
   "metadata": {},
   "source": [
    "#### Comparing scores with cross-validation"
   ]
  },
  {
   "cell_type": "code",
   "execution_count": 608,
   "metadata": {},
   "outputs": [
    {
     "data": {
      "text/plain": [
       "array([0.87755102, 0.91836735, 0.875     , 0.91666667, 0.83333333])"
      ]
     },
     "execution_count": 608,
     "metadata": {},
     "output_type": "execute_result"
    }
   ],
   "source": [
    "lin_score = cross_val_score(svm_lin, X_scaled, y, cv=KFold(n_splits = 5, shuffle=True))\n",
    "lin_score"
   ]
  },
  {
   "cell_type": "code",
   "execution_count": 609,
   "metadata": {},
   "outputs": [
    {
     "data": {
      "text/plain": [
       "0.884"
      ]
     },
     "execution_count": 609,
     "metadata": {},
     "output_type": "execute_result"
    }
   ],
   "source": [
    "round(np.mean(lin_score), 3)"
   ]
  },
  {
   "cell_type": "code",
   "execution_count": 610,
   "metadata": {},
   "outputs": [
    {
     "data": {
      "text/plain": [
       "array([0.87755102, 0.89795918, 0.85416667, 0.83333333, 0.79166667])"
      ]
     },
     "execution_count": 610,
     "metadata": {},
     "output_type": "execute_result"
    }
   ],
   "source": [
    "poly_score = cross_val_score(svm_poly, X_scaled, y, cv=KFold(n_splits = 5, shuffle=True)) \n",
    "poly_score"
   ]
  },
  {
   "cell_type": "code",
   "execution_count": 611,
   "metadata": {},
   "outputs": [
    {
     "data": {
      "text/plain": [
       "0.851"
      ]
     },
     "execution_count": 611,
     "metadata": {},
     "output_type": "execute_result"
    }
   ],
   "source": [
    "round(np.mean(poly_score), 3)"
   ]
  },
  {
   "cell_type": "code",
   "execution_count": 612,
   "metadata": {},
   "outputs": [
    {
     "data": {
      "text/plain": [
       "array([0.85714286, 0.85714286, 0.83333333, 0.875     , 0.875     ])"
      ]
     },
     "execution_count": 612,
     "metadata": {},
     "output_type": "execute_result"
    }
   ],
   "source": [
    "rbf_score = cross_val_score(svm_poly, X_scaled, y, cv=KFold(n_splits = 5, shuffle=True)) \n",
    "rbf_score"
   ]
  },
  {
   "cell_type": "code",
   "execution_count": 613,
   "metadata": {},
   "outputs": [
    {
     "data": {
      "text/plain": [
       "0.86"
      ]
     },
     "execution_count": 613,
     "metadata": {},
     "output_type": "execute_result"
    }
   ],
   "source": [
    "round(np.mean(rbf_score), 3)"
   ]
  },
  {
   "cell_type": "markdown",
   "metadata": {},
   "source": [
    "#### Exploring hyperparameter space with grid search"
   ]
  },
  {
   "cell_type": "code",
   "execution_count": 658,
   "metadata": {},
   "outputs": [],
   "source": [
    "X_train, X_test, y_train, y_test = train_test_split(X_scaled, y, test_size=0.33)"
   ]
  },
  {
   "cell_type": "code",
   "execution_count": 659,
   "metadata": {},
   "outputs": [],
   "source": [
    "param_grid = {'C': [0.001, 0.01, 0.1, 1, 10, 100],\n",
    "             'gamma': [0.0000001, 0.000001, 0.00001, 0.0001, 0.001, 0.01, 0.1, 1, 10, 100]}"
   ]
  },
  {
   "cell_type": "code",
   "execution_count": 660,
   "metadata": {},
   "outputs": [],
   "source": [
    "grid_search = GridSearchCV(SVC(), param_grid, cv = 10)"
   ]
  },
  {
   "cell_type": "code",
   "execution_count": 661,
   "metadata": {},
   "outputs": [
    {
     "data": {
      "text/plain": [
       "GridSearchCV(cv=10, estimator=SVC(),\n",
       "             param_grid={'C': [0.001, 0.01, 0.1, 1, 10, 100],\n",
       "                         'gamma': [1e-07, 1e-06, 1e-05, 0.0001, 0.001, 0.01,\n",
       "                                   0.1, 1, 10, 100]})"
      ]
     },
     "execution_count": 661,
     "metadata": {},
     "output_type": "execute_result"
    }
   ],
   "source": [
    "grid_search.fit(X_train, y_train)"
   ]
  },
  {
   "cell_type": "code",
   "execution_count": 662,
   "metadata": {},
   "outputs": [
    {
     "data": {
      "text/html": [
       "<div>\n",
       "<style scoped>\n",
       "    .dataframe tbody tr th:only-of-type {\n",
       "        vertical-align: middle;\n",
       "    }\n",
       "\n",
       "    .dataframe tbody tr th {\n",
       "        vertical-align: top;\n",
       "    }\n",
       "\n",
       "    .dataframe thead th {\n",
       "        text-align: right;\n",
       "    }\n",
       "</style>\n",
       "<table border=\"1\" class=\"dataframe\">\n",
       "  <thead>\n",
       "    <tr style=\"text-align: right;\">\n",
       "      <th></th>\n",
       "      <th>mean_fit_time</th>\n",
       "      <th>std_fit_time</th>\n",
       "      <th>mean_score_time</th>\n",
       "      <th>std_score_time</th>\n",
       "      <th>param_C</th>\n",
       "      <th>param_gamma</th>\n",
       "      <th>params</th>\n",
       "      <th>split0_test_score</th>\n",
       "      <th>split1_test_score</th>\n",
       "      <th>split2_test_score</th>\n",
       "      <th>split3_test_score</th>\n",
       "      <th>split4_test_score</th>\n",
       "      <th>split5_test_score</th>\n",
       "      <th>split6_test_score</th>\n",
       "      <th>split7_test_score</th>\n",
       "      <th>split8_test_score</th>\n",
       "      <th>split9_test_score</th>\n",
       "      <th>mean_test_score</th>\n",
       "      <th>std_test_score</th>\n",
       "      <th>rank_test_score</th>\n",
       "    </tr>\n",
       "  </thead>\n",
       "  <tbody>\n",
       "    <tr>\n",
       "      <th>47</th>\n",
       "      <td>0.000000</td>\n",
       "      <td>0.000000</td>\n",
       "      <td>1.010919e-03</td>\n",
       "      <td>0.002430</td>\n",
       "      <td>10</td>\n",
       "      <td>1</td>\n",
       "      <td>{'C': 10, 'gamma': 1}</td>\n",
       "      <td>0.705882</td>\n",
       "      <td>0.882353</td>\n",
       "      <td>0.9375</td>\n",
       "      <td>0.8125</td>\n",
       "      <td>1.0000</td>\n",
       "      <td>0.9375</td>\n",
       "      <td>0.9375</td>\n",
       "      <td>0.8125</td>\n",
       "      <td>0.8750</td>\n",
       "      <td>1.0000</td>\n",
       "      <td>0.890074</td>\n",
       "      <td>0.087843</td>\n",
       "      <td>1</td>\n",
       "    </tr>\n",
       "    <tr>\n",
       "      <th>56</th>\n",
       "      <td>0.000410</td>\n",
       "      <td>0.000820</td>\n",
       "      <td>0.000000e+00</td>\n",
       "      <td>0.000000</td>\n",
       "      <td>100</td>\n",
       "      <td>0.1</td>\n",
       "      <td>{'C': 100, 'gamma': 0.1}</td>\n",
       "      <td>0.764706</td>\n",
       "      <td>0.823529</td>\n",
       "      <td>0.8750</td>\n",
       "      <td>0.8125</td>\n",
       "      <td>1.0000</td>\n",
       "      <td>1.0000</td>\n",
       "      <td>0.8750</td>\n",
       "      <td>0.8750</td>\n",
       "      <td>0.8750</td>\n",
       "      <td>0.9375</td>\n",
       "      <td>0.883824</td>\n",
       "      <td>0.072868</td>\n",
       "      <td>2</td>\n",
       "    </tr>\n",
       "    <tr>\n",
       "      <th>46</th>\n",
       "      <td>0.001012</td>\n",
       "      <td>0.002429</td>\n",
       "      <td>2.016068e-04</td>\n",
       "      <td>0.000605</td>\n",
       "      <td>10</td>\n",
       "      <td>0.1</td>\n",
       "      <td>{'C': 10, 'gamma': 0.1}</td>\n",
       "      <td>0.764706</td>\n",
       "      <td>0.823529</td>\n",
       "      <td>0.8750</td>\n",
       "      <td>0.8125</td>\n",
       "      <td>1.0000</td>\n",
       "      <td>1.0000</td>\n",
       "      <td>0.8750</td>\n",
       "      <td>0.8750</td>\n",
       "      <td>0.8750</td>\n",
       "      <td>0.9375</td>\n",
       "      <td>0.883824</td>\n",
       "      <td>0.072868</td>\n",
       "      <td>2</td>\n",
       "    </tr>\n",
       "    <tr>\n",
       "      <th>38</th>\n",
       "      <td>0.001820</td>\n",
       "      <td>0.003185</td>\n",
       "      <td>0.000000e+00</td>\n",
       "      <td>0.000000</td>\n",
       "      <td>1</td>\n",
       "      <td>10</td>\n",
       "      <td>{'C': 1, 'gamma': 10}</td>\n",
       "      <td>0.764706</td>\n",
       "      <td>0.882353</td>\n",
       "      <td>0.8750</td>\n",
       "      <td>0.7500</td>\n",
       "      <td>1.0000</td>\n",
       "      <td>1.0000</td>\n",
       "      <td>0.9375</td>\n",
       "      <td>0.8750</td>\n",
       "      <td>0.8125</td>\n",
       "      <td>0.9375</td>\n",
       "      <td>0.883456</td>\n",
       "      <td>0.083724</td>\n",
       "      <td>4</td>\n",
       "    </tr>\n",
       "    <tr>\n",
       "      <th>27</th>\n",
       "      <td>0.001819</td>\n",
       "      <td>0.003183</td>\n",
       "      <td>0.000000e+00</td>\n",
       "      <td>0.000000</td>\n",
       "      <td>0.1</td>\n",
       "      <td>1</td>\n",
       "      <td>{'C': 0.1, 'gamma': 1}</td>\n",
       "      <td>0.764706</td>\n",
       "      <td>0.823529</td>\n",
       "      <td>0.8750</td>\n",
       "      <td>0.7500</td>\n",
       "      <td>1.0000</td>\n",
       "      <td>1.0000</td>\n",
       "      <td>0.8750</td>\n",
       "      <td>0.8750</td>\n",
       "      <td>0.8750</td>\n",
       "      <td>0.9375</td>\n",
       "      <td>0.877574</td>\n",
       "      <td>0.080950</td>\n",
       "      <td>5</td>\n",
       "    </tr>\n",
       "    <tr>\n",
       "      <th>37</th>\n",
       "      <td>0.000205</td>\n",
       "      <td>0.000615</td>\n",
       "      <td>1.013613e-03</td>\n",
       "      <td>0.002435</td>\n",
       "      <td>1</td>\n",
       "      <td>1</td>\n",
       "      <td>{'C': 1, 'gamma': 1}</td>\n",
       "      <td>0.647059</td>\n",
       "      <td>0.823529</td>\n",
       "      <td>0.8750</td>\n",
       "      <td>0.8125</td>\n",
       "      <td>1.0000</td>\n",
       "      <td>1.0000</td>\n",
       "      <td>0.9375</td>\n",
       "      <td>0.8125</td>\n",
       "      <td>0.8750</td>\n",
       "      <td>0.9375</td>\n",
       "      <td>0.872059</td>\n",
       "      <td>0.100695</td>\n",
       "      <td>6</td>\n",
       "    </tr>\n",
       "    <tr>\n",
       "      <th>36</th>\n",
       "      <td>0.001220</td>\n",
       "      <td>0.002430</td>\n",
       "      <td>0.000000e+00</td>\n",
       "      <td>0.000000</td>\n",
       "      <td>1</td>\n",
       "      <td>0.1</td>\n",
       "      <td>{'C': 1, 'gamma': 0.1}</td>\n",
       "      <td>0.705882</td>\n",
       "      <td>0.823529</td>\n",
       "      <td>0.8750</td>\n",
       "      <td>0.8125</td>\n",
       "      <td>1.0000</td>\n",
       "      <td>1.0000</td>\n",
       "      <td>0.8750</td>\n",
       "      <td>0.8750</td>\n",
       "      <td>0.8750</td>\n",
       "      <td>0.8750</td>\n",
       "      <td>0.871691</td>\n",
       "      <td>0.081423</td>\n",
       "      <td>7</td>\n",
       "    </tr>\n",
       "    <tr>\n",
       "      <th>57</th>\n",
       "      <td>0.001216</td>\n",
       "      <td>0.002418</td>\n",
       "      <td>8.103848e-04</td>\n",
       "      <td>0.002431</td>\n",
       "      <td>100</td>\n",
       "      <td>1</td>\n",
       "      <td>{'C': 100, 'gamma': 1}</td>\n",
       "      <td>0.764706</td>\n",
       "      <td>0.823529</td>\n",
       "      <td>0.9375</td>\n",
       "      <td>0.6875</td>\n",
       "      <td>1.0000</td>\n",
       "      <td>0.9375</td>\n",
       "      <td>0.8750</td>\n",
       "      <td>0.8750</td>\n",
       "      <td>0.8750</td>\n",
       "      <td>0.8750</td>\n",
       "      <td>0.865074</td>\n",
       "      <td>0.085101</td>\n",
       "      <td>8</td>\n",
       "    </tr>\n",
       "    <tr>\n",
       "      <th>48</th>\n",
       "      <td>0.001009</td>\n",
       "      <td>0.002425</td>\n",
       "      <td>9.775162e-07</td>\n",
       "      <td>0.000003</td>\n",
       "      <td>10</td>\n",
       "      <td>10</td>\n",
       "      <td>{'C': 10, 'gamma': 10}</td>\n",
       "      <td>0.764706</td>\n",
       "      <td>0.823529</td>\n",
       "      <td>0.8125</td>\n",
       "      <td>0.8125</td>\n",
       "      <td>1.0000</td>\n",
       "      <td>1.0000</td>\n",
       "      <td>0.8750</td>\n",
       "      <td>0.9375</td>\n",
       "      <td>0.7500</td>\n",
       "      <td>0.8750</td>\n",
       "      <td>0.865074</td>\n",
       "      <td>0.085101</td>\n",
       "      <td>8</td>\n",
       "    </tr>\n",
       "    <tr>\n",
       "      <th>55</th>\n",
       "      <td>0.000205</td>\n",
       "      <td>0.000615</td>\n",
       "      <td>0.000000e+00</td>\n",
       "      <td>0.000000</td>\n",
       "      <td>100</td>\n",
       "      <td>0.01</td>\n",
       "      <td>{'C': 100, 'gamma': 0.01}</td>\n",
       "      <td>0.705882</td>\n",
       "      <td>0.823529</td>\n",
       "      <td>0.8125</td>\n",
       "      <td>0.8125</td>\n",
       "      <td>0.9375</td>\n",
       "      <td>1.0000</td>\n",
       "      <td>0.8750</td>\n",
       "      <td>0.8750</td>\n",
       "      <td>0.8750</td>\n",
       "      <td>0.8750</td>\n",
       "      <td>0.859191</td>\n",
       "      <td>0.074896</td>\n",
       "      <td>10</td>\n",
       "    </tr>\n",
       "    <tr>\n",
       "      <th>54</th>\n",
       "      <td>0.001220</td>\n",
       "      <td>0.002427</td>\n",
       "      <td>0.000000e+00</td>\n",
       "      <td>0.000000</td>\n",
       "      <td>100</td>\n",
       "      <td>0.001</td>\n",
       "      <td>{'C': 100, 'gamma': 0.001}</td>\n",
       "      <td>0.705882</td>\n",
       "      <td>0.823529</td>\n",
       "      <td>0.8125</td>\n",
       "      <td>0.7500</td>\n",
       "      <td>0.9375</td>\n",
       "      <td>1.0000</td>\n",
       "      <td>0.8750</td>\n",
       "      <td>0.8750</td>\n",
       "      <td>0.8750</td>\n",
       "      <td>0.8125</td>\n",
       "      <td>0.846691</td>\n",
       "      <td>0.081366</td>\n",
       "      <td>11</td>\n",
       "    </tr>\n",
       "    <tr>\n",
       "      <th>45</th>\n",
       "      <td>0.002023</td>\n",
       "      <td>0.003123</td>\n",
       "      <td>0.000000e+00</td>\n",
       "      <td>0.000000</td>\n",
       "      <td>10</td>\n",
       "      <td>0.01</td>\n",
       "      <td>{'C': 10, 'gamma': 0.01}</td>\n",
       "      <td>0.705882</td>\n",
       "      <td>0.823529</td>\n",
       "      <td>0.8125</td>\n",
       "      <td>0.7500</td>\n",
       "      <td>0.9375</td>\n",
       "      <td>1.0000</td>\n",
       "      <td>0.8750</td>\n",
       "      <td>0.8750</td>\n",
       "      <td>0.8750</td>\n",
       "      <td>0.8125</td>\n",
       "      <td>0.846691</td>\n",
       "      <td>0.081366</td>\n",
       "      <td>11</td>\n",
       "    </tr>\n",
       "    <tr>\n",
       "      <th>58</th>\n",
       "      <td>0.001216</td>\n",
       "      <td>0.002418</td>\n",
       "      <td>1.614285e-03</td>\n",
       "      <td>0.003229</td>\n",
       "      <td>100</td>\n",
       "      <td>10</td>\n",
       "      <td>{'C': 100, 'gamma': 10}</td>\n",
       "      <td>0.705882</td>\n",
       "      <td>0.823529</td>\n",
       "      <td>0.6875</td>\n",
       "      <td>0.8125</td>\n",
       "      <td>0.9375</td>\n",
       "      <td>0.9375</td>\n",
       "      <td>0.8125</td>\n",
       "      <td>0.9375</td>\n",
       "      <td>0.7500</td>\n",
       "      <td>0.8750</td>\n",
       "      <td>0.827941</td>\n",
       "      <td>0.089116</td>\n",
       "      <td>13</td>\n",
       "    </tr>\n",
       "    <tr>\n",
       "      <th>35</th>\n",
       "      <td>0.001216</td>\n",
       "      <td>0.002419</td>\n",
       "      <td>8.098602e-04</td>\n",
       "      <td>0.002430</td>\n",
       "      <td>1</td>\n",
       "      <td>0.01</td>\n",
       "      <td>{'C': 1, 'gamma': 0.01}</td>\n",
       "      <td>0.823529</td>\n",
       "      <td>0.705882</td>\n",
       "      <td>0.8125</td>\n",
       "      <td>0.8125</td>\n",
       "      <td>0.9375</td>\n",
       "      <td>1.0000</td>\n",
       "      <td>0.8125</td>\n",
       "      <td>0.8750</td>\n",
       "      <td>0.5625</td>\n",
       "      <td>0.8125</td>\n",
       "      <td>0.815441</td>\n",
       "      <td>0.113398</td>\n",
       "      <td>14</td>\n",
       "    </tr>\n",
       "    <tr>\n",
       "      <th>44</th>\n",
       "      <td>0.001823</td>\n",
       "      <td>0.003192</td>\n",
       "      <td>0.000000e+00</td>\n",
       "      <td>0.000000</td>\n",
       "      <td>10</td>\n",
       "      <td>0.001</td>\n",
       "      <td>{'C': 10, 'gamma': 0.001}</td>\n",
       "      <td>0.823529</td>\n",
       "      <td>0.705882</td>\n",
       "      <td>0.8125</td>\n",
       "      <td>0.8125</td>\n",
       "      <td>0.9375</td>\n",
       "      <td>1.0000</td>\n",
       "      <td>0.7500</td>\n",
       "      <td>0.8750</td>\n",
       "      <td>0.5625</td>\n",
       "      <td>0.8125</td>\n",
       "      <td>0.809191</td>\n",
       "      <td>0.115097</td>\n",
       "      <td>15</td>\n",
       "    </tr>\n",
       "    <tr>\n",
       "      <th>53</th>\n",
       "      <td>0.001214</td>\n",
       "      <td>0.002412</td>\n",
       "      <td>8.088827e-04</td>\n",
       "      <td>0.002427</td>\n",
       "      <td>100</td>\n",
       "      <td>0.0001</td>\n",
       "      <td>{'C': 100, 'gamma': 0.0001}</td>\n",
       "      <td>0.823529</td>\n",
       "      <td>0.705882</td>\n",
       "      <td>0.8125</td>\n",
       "      <td>0.7500</td>\n",
       "      <td>0.9375</td>\n",
       "      <td>1.0000</td>\n",
       "      <td>0.7500</td>\n",
       "      <td>0.8750</td>\n",
       "      <td>0.5625</td>\n",
       "      <td>0.8125</td>\n",
       "      <td>0.802941</td>\n",
       "      <td>0.116437</td>\n",
       "      <td>16</td>\n",
       "    </tr>\n",
       "    <tr>\n",
       "      <th>26</th>\n",
       "      <td>0.000616</td>\n",
       "      <td>0.000941</td>\n",
       "      <td>1.614857e-03</td>\n",
       "      <td>0.003230</td>\n",
       "      <td>0.1</td>\n",
       "      <td>0.1</td>\n",
       "      <td>{'C': 0.1, 'gamma': 0.1}</td>\n",
       "      <td>0.764706</td>\n",
       "      <td>0.823529</td>\n",
       "      <td>0.7500</td>\n",
       "      <td>0.7500</td>\n",
       "      <td>0.9375</td>\n",
       "      <td>1.0000</td>\n",
       "      <td>0.6875</td>\n",
       "      <td>0.7500</td>\n",
       "      <td>0.6250</td>\n",
       "      <td>0.8125</td>\n",
       "      <td>0.790074</td>\n",
       "      <td>0.105194</td>\n",
       "      <td>17</td>\n",
       "    </tr>\n",
       "    <tr>\n",
       "      <th>59</th>\n",
       "      <td>0.002831</td>\n",
       "      <td>0.003960</td>\n",
       "      <td>4.091501e-04</td>\n",
       "      <td>0.000818</td>\n",
       "      <td>100</td>\n",
       "      <td>100</td>\n",
       "      <td>{'C': 100, 'gamma': 100}</td>\n",
       "      <td>0.588235</td>\n",
       "      <td>0.705882</td>\n",
       "      <td>0.6250</td>\n",
       "      <td>0.5625</td>\n",
       "      <td>0.6250</td>\n",
       "      <td>0.8750</td>\n",
       "      <td>0.7500</td>\n",
       "      <td>0.6875</td>\n",
       "      <td>0.6250</td>\n",
       "      <td>0.8750</td>\n",
       "      <td>0.691912</td>\n",
       "      <td>0.105622</td>\n",
       "      <td>18</td>\n",
       "    </tr>\n",
       "    <tr>\n",
       "      <th>49</th>\n",
       "      <td>0.003644</td>\n",
       "      <td>0.004129</td>\n",
       "      <td>2.050400e-04</td>\n",
       "      <td>0.000615</td>\n",
       "      <td>10</td>\n",
       "      <td>100</td>\n",
       "      <td>{'C': 10, 'gamma': 100}</td>\n",
       "      <td>0.588235</td>\n",
       "      <td>0.705882</td>\n",
       "      <td>0.6250</td>\n",
       "      <td>0.5625</td>\n",
       "      <td>0.6250</td>\n",
       "      <td>0.8750</td>\n",
       "      <td>0.7500</td>\n",
       "      <td>0.6875</td>\n",
       "      <td>0.6250</td>\n",
       "      <td>0.8750</td>\n",
       "      <td>0.691912</td>\n",
       "      <td>0.105622</td>\n",
       "      <td>18</td>\n",
       "    </tr>\n",
       "    <tr>\n",
       "      <th>39</th>\n",
       "      <td>0.002624</td>\n",
       "      <td>0.003612</td>\n",
       "      <td>2.049685e-04</td>\n",
       "      <td>0.000615</td>\n",
       "      <td>1</td>\n",
       "      <td>100</td>\n",
       "      <td>{'C': 1, 'gamma': 100}</td>\n",
       "      <td>0.470588</td>\n",
       "      <td>0.647059</td>\n",
       "      <td>0.5625</td>\n",
       "      <td>0.5625</td>\n",
       "      <td>0.6250</td>\n",
       "      <td>0.8750</td>\n",
       "      <td>0.7500</td>\n",
       "      <td>0.6875</td>\n",
       "      <td>0.6250</td>\n",
       "      <td>0.7500</td>\n",
       "      <td>0.655515</td>\n",
       "      <td>0.109767</td>\n",
       "      <td>20</td>\n",
       "    </tr>\n",
       "    <tr>\n",
       "      <th>28</th>\n",
       "      <td>0.002229</td>\n",
       "      <td>0.003057</td>\n",
       "      <td>0.000000e+00</td>\n",
       "      <td>0.000000</td>\n",
       "      <td>0.1</td>\n",
       "      <td>10</td>\n",
       "      <td>{'C': 0.1, 'gamma': 10}</td>\n",
       "      <td>0.470588</td>\n",
       "      <td>0.529412</td>\n",
       "      <td>0.5000</td>\n",
       "      <td>0.5000</td>\n",
       "      <td>0.6875</td>\n",
       "      <td>0.6875</td>\n",
       "      <td>0.6875</td>\n",
       "      <td>0.5625</td>\n",
       "      <td>0.5625</td>\n",
       "      <td>0.5625</td>\n",
       "      <td>0.575000</td>\n",
       "      <td>0.079163</td>\n",
       "      <td>21</td>\n",
       "    </tr>\n",
       "    <tr>\n",
       "      <th>18</th>\n",
       "      <td>0.001615</td>\n",
       "      <td>0.003229</td>\n",
       "      <td>6.150723e-04</td>\n",
       "      <td>0.000940</td>\n",
       "      <td>0.01</td>\n",
       "      <td>10</td>\n",
       "      <td>{'C': 0.01, 'gamma': 10}</td>\n",
       "      <td>0.235294</td>\n",
       "      <td>0.235294</td>\n",
       "      <td>0.2500</td>\n",
       "      <td>0.2500</td>\n",
       "      <td>0.6250</td>\n",
       "      <td>0.6250</td>\n",
       "      <td>0.2500</td>\n",
       "      <td>0.2500</td>\n",
       "      <td>0.2500</td>\n",
       "      <td>0.2500</td>\n",
       "      <td>0.322059</td>\n",
       "      <td>0.151578</td>\n",
       "      <td>22</td>\n",
       "    </tr>\n",
       "    <tr>\n",
       "      <th>8</th>\n",
       "      <td>0.000000</td>\n",
       "      <td>0.000000</td>\n",
       "      <td>1.561952e-03</td>\n",
       "      <td>0.004686</td>\n",
       "      <td>0.001</td>\n",
       "      <td>10</td>\n",
       "      <td>{'C': 0.001, 'gamma': 10}</td>\n",
       "      <td>0.235294</td>\n",
       "      <td>0.235294</td>\n",
       "      <td>0.2500</td>\n",
       "      <td>0.2500</td>\n",
       "      <td>0.6250</td>\n",
       "      <td>0.6250</td>\n",
       "      <td>0.2500</td>\n",
       "      <td>0.2500</td>\n",
       "      <td>0.2500</td>\n",
       "      <td>0.2500</td>\n",
       "      <td>0.322059</td>\n",
       "      <td>0.151578</td>\n",
       "      <td>22</td>\n",
       "    </tr>\n",
       "    <tr>\n",
       "      <th>7</th>\n",
       "      <td>0.001562</td>\n",
       "      <td>0.004686</td>\n",
       "      <td>0.000000e+00</td>\n",
       "      <td>0.000000</td>\n",
       "      <td>0.001</td>\n",
       "      <td>1</td>\n",
       "      <td>{'C': 0.001, 'gamma': 1}</td>\n",
       "      <td>0.235294</td>\n",
       "      <td>0.235294</td>\n",
       "      <td>0.2500</td>\n",
       "      <td>0.2500</td>\n",
       "      <td>0.6250</td>\n",
       "      <td>0.6250</td>\n",
       "      <td>0.2500</td>\n",
       "      <td>0.2500</td>\n",
       "      <td>0.2500</td>\n",
       "      <td>0.2500</td>\n",
       "      <td>0.322059</td>\n",
       "      <td>0.151578</td>\n",
       "      <td>22</td>\n",
       "    </tr>\n",
       "    <tr>\n",
       "      <th>17</th>\n",
       "      <td>0.000808</td>\n",
       "      <td>0.002425</td>\n",
       "      <td>4.105091e-04</td>\n",
       "      <td>0.000821</td>\n",
       "      <td>0.01</td>\n",
       "      <td>1</td>\n",
       "      <td>{'C': 0.01, 'gamma': 1}</td>\n",
       "      <td>0.235294</td>\n",
       "      <td>0.235294</td>\n",
       "      <td>0.2500</td>\n",
       "      <td>0.2500</td>\n",
       "      <td>0.6250</td>\n",
       "      <td>0.6250</td>\n",
       "      <td>0.2500</td>\n",
       "      <td>0.2500</td>\n",
       "      <td>0.2500</td>\n",
       "      <td>0.2500</td>\n",
       "      <td>0.322059</td>\n",
       "      <td>0.151578</td>\n",
       "      <td>22</td>\n",
       "    </tr>\n",
       "    <tr>\n",
       "      <th>43</th>\n",
       "      <td>0.002026</td>\n",
       "      <td>0.003128</td>\n",
       "      <td>0.000000e+00</td>\n",
       "      <td>0.000000</td>\n",
       "      <td>10</td>\n",
       "      <td>0.0001</td>\n",
       "      <td>{'C': 10, 'gamma': 0.0001}</td>\n",
       "      <td>0.235294</td>\n",
       "      <td>0.235294</td>\n",
       "      <td>0.2500</td>\n",
       "      <td>0.2500</td>\n",
       "      <td>0.5625</td>\n",
       "      <td>0.6250</td>\n",
       "      <td>0.2500</td>\n",
       "      <td>0.2500</td>\n",
       "      <td>0.2500</td>\n",
       "      <td>0.2500</td>\n",
       "      <td>0.315809</td>\n",
       "      <td>0.139788</td>\n",
       "      <td>26</td>\n",
       "    </tr>\n",
       "    <tr>\n",
       "      <th>42</th>\n",
       "      <td>0.003035</td>\n",
       "      <td>0.003400</td>\n",
       "      <td>0.000000e+00</td>\n",
       "      <td>0.000000</td>\n",
       "      <td>10</td>\n",
       "      <td>1e-05</td>\n",
       "      <td>{'C': 10, 'gamma': 1e-05}</td>\n",
       "      <td>0.235294</td>\n",
       "      <td>0.235294</td>\n",
       "      <td>0.2500</td>\n",
       "      <td>0.2500</td>\n",
       "      <td>0.5625</td>\n",
       "      <td>0.6250</td>\n",
       "      <td>0.2500</td>\n",
       "      <td>0.2500</td>\n",
       "      <td>0.2500</td>\n",
       "      <td>0.2500</td>\n",
       "      <td>0.315809</td>\n",
       "      <td>0.139788</td>\n",
       "      <td>26</td>\n",
       "    </tr>\n",
       "    <tr>\n",
       "      <th>41</th>\n",
       "      <td>0.002019</td>\n",
       "      <td>0.003118</td>\n",
       "      <td>0.000000e+00</td>\n",
       "      <td>0.000000</td>\n",
       "      <td>10</td>\n",
       "      <td>1e-06</td>\n",
       "      <td>{'C': 10, 'gamma': 1e-06}</td>\n",
       "      <td>0.235294</td>\n",
       "      <td>0.235294</td>\n",
       "      <td>0.2500</td>\n",
       "      <td>0.2500</td>\n",
       "      <td>0.5625</td>\n",
       "      <td>0.6250</td>\n",
       "      <td>0.2500</td>\n",
       "      <td>0.2500</td>\n",
       "      <td>0.2500</td>\n",
       "      <td>0.2500</td>\n",
       "      <td>0.315809</td>\n",
       "      <td>0.139788</td>\n",
       "      <td>26</td>\n",
       "    </tr>\n",
       "    <tr>\n",
       "      <th>40</th>\n",
       "      <td>0.002828</td>\n",
       "      <td>0.003512</td>\n",
       "      <td>0.000000e+00</td>\n",
       "      <td>0.000000</td>\n",
       "      <td>10</td>\n",
       "      <td>1e-07</td>\n",
       "      <td>{'C': 10, 'gamma': 1e-07}</td>\n",
       "      <td>0.235294</td>\n",
       "      <td>0.235294</td>\n",
       "      <td>0.2500</td>\n",
       "      <td>0.2500</td>\n",
       "      <td>0.5625</td>\n",
       "      <td>0.6250</td>\n",
       "      <td>0.2500</td>\n",
       "      <td>0.2500</td>\n",
       "      <td>0.2500</td>\n",
       "      <td>0.2500</td>\n",
       "      <td>0.315809</td>\n",
       "      <td>0.139788</td>\n",
       "      <td>26</td>\n",
       "    </tr>\n",
       "    <tr>\n",
       "      <th>50</th>\n",
       "      <td>0.002229</td>\n",
       "      <td>0.003052</td>\n",
       "      <td>0.000000e+00</td>\n",
       "      <td>0.000000</td>\n",
       "      <td>100</td>\n",
       "      <td>1e-07</td>\n",
       "      <td>{'C': 100, 'gamma': 1e-07}</td>\n",
       "      <td>0.235294</td>\n",
       "      <td>0.235294</td>\n",
       "      <td>0.2500</td>\n",
       "      <td>0.2500</td>\n",
       "      <td>0.5625</td>\n",
       "      <td>0.6250</td>\n",
       "      <td>0.2500</td>\n",
       "      <td>0.2500</td>\n",
       "      <td>0.2500</td>\n",
       "      <td>0.2500</td>\n",
       "      <td>0.315809</td>\n",
       "      <td>0.139788</td>\n",
       "      <td>26</td>\n",
       "    </tr>\n",
       "    <tr>\n",
       "      <th>51</th>\n",
       "      <td>0.002833</td>\n",
       "      <td>0.003518</td>\n",
       "      <td>0.000000e+00</td>\n",
       "      <td>0.000000</td>\n",
       "      <td>100</td>\n",
       "      <td>1e-06</td>\n",
       "      <td>{'C': 100, 'gamma': 1e-06}</td>\n",
       "      <td>0.235294</td>\n",
       "      <td>0.235294</td>\n",
       "      <td>0.2500</td>\n",
       "      <td>0.2500</td>\n",
       "      <td>0.5625</td>\n",
       "      <td>0.6250</td>\n",
       "      <td>0.2500</td>\n",
       "      <td>0.2500</td>\n",
       "      <td>0.2500</td>\n",
       "      <td>0.2500</td>\n",
       "      <td>0.315809</td>\n",
       "      <td>0.139788</td>\n",
       "      <td>26</td>\n",
       "    </tr>\n",
       "    <tr>\n",
       "      <th>52</th>\n",
       "      <td>0.002231</td>\n",
       "      <td>0.003055</td>\n",
       "      <td>0.000000e+00</td>\n",
       "      <td>0.000000</td>\n",
       "      <td>100</td>\n",
       "      <td>1e-05</td>\n",
       "      <td>{'C': 100, 'gamma': 1e-05}</td>\n",
       "      <td>0.235294</td>\n",
       "      <td>0.235294</td>\n",
       "      <td>0.2500</td>\n",
       "      <td>0.2500</td>\n",
       "      <td>0.5625</td>\n",
       "      <td>0.6250</td>\n",
       "      <td>0.2500</td>\n",
       "      <td>0.2500</td>\n",
       "      <td>0.2500</td>\n",
       "      <td>0.2500</td>\n",
       "      <td>0.315809</td>\n",
       "      <td>0.139788</td>\n",
       "      <td>26</td>\n",
       "    </tr>\n",
       "    <tr>\n",
       "      <th>34</th>\n",
       "      <td>0.003038</td>\n",
       "      <td>0.003405</td>\n",
       "      <td>0.000000e+00</td>\n",
       "      <td>0.000000</td>\n",
       "      <td>1</td>\n",
       "      <td>0.001</td>\n",
       "      <td>{'C': 1, 'gamma': 0.001}</td>\n",
       "      <td>0.235294</td>\n",
       "      <td>0.235294</td>\n",
       "      <td>0.2500</td>\n",
       "      <td>0.2500</td>\n",
       "      <td>0.5625</td>\n",
       "      <td>0.6250</td>\n",
       "      <td>0.2500</td>\n",
       "      <td>0.2500</td>\n",
       "      <td>0.2500</td>\n",
       "      <td>0.2500</td>\n",
       "      <td>0.315809</td>\n",
       "      <td>0.139788</td>\n",
       "      <td>26</td>\n",
       "    </tr>\n",
       "    <tr>\n",
       "      <th>0</th>\n",
       "      <td>0.001562</td>\n",
       "      <td>0.004687</td>\n",
       "      <td>0.000000e+00</td>\n",
       "      <td>0.000000</td>\n",
       "      <td>0.001</td>\n",
       "      <td>1e-07</td>\n",
       "      <td>{'C': 0.001, 'gamma': 1e-07}</td>\n",
       "      <td>0.235294</td>\n",
       "      <td>0.235294</td>\n",
       "      <td>0.2500</td>\n",
       "      <td>0.2500</td>\n",
       "      <td>0.5625</td>\n",
       "      <td>0.6250</td>\n",
       "      <td>0.2500</td>\n",
       "      <td>0.2500</td>\n",
       "      <td>0.2500</td>\n",
       "      <td>0.2500</td>\n",
       "      <td>0.315809</td>\n",
       "      <td>0.139788</td>\n",
       "      <td>26</td>\n",
       "    </tr>\n",
       "    <tr>\n",
       "      <th>32</th>\n",
       "      <td>0.002024</td>\n",
       "      <td>0.003133</td>\n",
       "      <td>8.062363e-04</td>\n",
       "      <td>0.002419</td>\n",
       "      <td>1</td>\n",
       "      <td>1e-05</td>\n",
       "      <td>{'C': 1, 'gamma': 1e-05}</td>\n",
       "      <td>0.235294</td>\n",
       "      <td>0.235294</td>\n",
       "      <td>0.2500</td>\n",
       "      <td>0.2500</td>\n",
       "      <td>0.5625</td>\n",
       "      <td>0.6250</td>\n",
       "      <td>0.2500</td>\n",
       "      <td>0.2500</td>\n",
       "      <td>0.2500</td>\n",
       "      <td>0.2500</td>\n",
       "      <td>0.315809</td>\n",
       "      <td>0.139788</td>\n",
       "      <td>26</td>\n",
       "    </tr>\n",
       "    <tr>\n",
       "      <th>1</th>\n",
       "      <td>0.002221</td>\n",
       "      <td>0.004887</td>\n",
       "      <td>0.000000e+00</td>\n",
       "      <td>0.000000</td>\n",
       "      <td>0.001</td>\n",
       "      <td>1e-06</td>\n",
       "      <td>{'C': 0.001, 'gamma': 1e-06}</td>\n",
       "      <td>0.235294</td>\n",
       "      <td>0.235294</td>\n",
       "      <td>0.2500</td>\n",
       "      <td>0.2500</td>\n",
       "      <td>0.5625</td>\n",
       "      <td>0.6250</td>\n",
       "      <td>0.2500</td>\n",
       "      <td>0.2500</td>\n",
       "      <td>0.2500</td>\n",
       "      <td>0.2500</td>\n",
       "      <td>0.315809</td>\n",
       "      <td>0.139788</td>\n",
       "      <td>26</td>\n",
       "    </tr>\n",
       "    <tr>\n",
       "      <th>2</th>\n",
       "      <td>0.001562</td>\n",
       "      <td>0.004686</td>\n",
       "      <td>0.000000e+00</td>\n",
       "      <td>0.000000</td>\n",
       "      <td>0.001</td>\n",
       "      <td>1e-05</td>\n",
       "      <td>{'C': 0.001, 'gamma': 1e-05}</td>\n",
       "      <td>0.235294</td>\n",
       "      <td>0.235294</td>\n",
       "      <td>0.2500</td>\n",
       "      <td>0.2500</td>\n",
       "      <td>0.5625</td>\n",
       "      <td>0.6250</td>\n",
       "      <td>0.2500</td>\n",
       "      <td>0.2500</td>\n",
       "      <td>0.2500</td>\n",
       "      <td>0.2500</td>\n",
       "      <td>0.315809</td>\n",
       "      <td>0.139788</td>\n",
       "      <td>26</td>\n",
       "    </tr>\n",
       "    <tr>\n",
       "      <th>3</th>\n",
       "      <td>0.003121</td>\n",
       "      <td>0.006241</td>\n",
       "      <td>0.000000e+00</td>\n",
       "      <td>0.000000</td>\n",
       "      <td>0.001</td>\n",
       "      <td>0.0001</td>\n",
       "      <td>{'C': 0.001, 'gamma': 0.0001}</td>\n",
       "      <td>0.235294</td>\n",
       "      <td>0.235294</td>\n",
       "      <td>0.2500</td>\n",
       "      <td>0.2500</td>\n",
       "      <td>0.5625</td>\n",
       "      <td>0.6250</td>\n",
       "      <td>0.2500</td>\n",
       "      <td>0.2500</td>\n",
       "      <td>0.2500</td>\n",
       "      <td>0.2500</td>\n",
       "      <td>0.315809</td>\n",
       "      <td>0.139788</td>\n",
       "      <td>26</td>\n",
       "    </tr>\n",
       "    <tr>\n",
       "      <th>4</th>\n",
       "      <td>0.003128</td>\n",
       "      <td>0.006256</td>\n",
       "      <td>0.000000e+00</td>\n",
       "      <td>0.000000</td>\n",
       "      <td>0.001</td>\n",
       "      <td>0.001</td>\n",
       "      <td>{'C': 0.001, 'gamma': 0.001}</td>\n",
       "      <td>0.235294</td>\n",
       "      <td>0.235294</td>\n",
       "      <td>0.2500</td>\n",
       "      <td>0.2500</td>\n",
       "      <td>0.5625</td>\n",
       "      <td>0.6250</td>\n",
       "      <td>0.2500</td>\n",
       "      <td>0.2500</td>\n",
       "      <td>0.2500</td>\n",
       "      <td>0.2500</td>\n",
       "      <td>0.315809</td>\n",
       "      <td>0.139788</td>\n",
       "      <td>26</td>\n",
       "    </tr>\n",
       "    <tr>\n",
       "      <th>5</th>\n",
       "      <td>0.001563</td>\n",
       "      <td>0.004688</td>\n",
       "      <td>6.539106e-04</td>\n",
       "      <td>0.001962</td>\n",
       "      <td>0.001</td>\n",
       "      <td>0.01</td>\n",
       "      <td>{'C': 0.001, 'gamma': 0.01}</td>\n",
       "      <td>0.235294</td>\n",
       "      <td>0.235294</td>\n",
       "      <td>0.2500</td>\n",
       "      <td>0.2500</td>\n",
       "      <td>0.5625</td>\n",
       "      <td>0.6250</td>\n",
       "      <td>0.2500</td>\n",
       "      <td>0.2500</td>\n",
       "      <td>0.2500</td>\n",
       "      <td>0.2500</td>\n",
       "      <td>0.315809</td>\n",
       "      <td>0.139788</td>\n",
       "      <td>26</td>\n",
       "    </tr>\n",
       "    <tr>\n",
       "      <th>6</th>\n",
       "      <td>0.001566</td>\n",
       "      <td>0.004698</td>\n",
       "      <td>0.000000e+00</td>\n",
       "      <td>0.000000</td>\n",
       "      <td>0.001</td>\n",
       "      <td>0.1</td>\n",
       "      <td>{'C': 0.001, 'gamma': 0.1}</td>\n",
       "      <td>0.235294</td>\n",
       "      <td>0.235294</td>\n",
       "      <td>0.2500</td>\n",
       "      <td>0.2500</td>\n",
       "      <td>0.5625</td>\n",
       "      <td>0.6250</td>\n",
       "      <td>0.2500</td>\n",
       "      <td>0.2500</td>\n",
       "      <td>0.2500</td>\n",
       "      <td>0.2500</td>\n",
       "      <td>0.315809</td>\n",
       "      <td>0.139788</td>\n",
       "      <td>26</td>\n",
       "    </tr>\n",
       "    <tr>\n",
       "      <th>10</th>\n",
       "      <td>0.001614</td>\n",
       "      <td>0.003228</td>\n",
       "      <td>6.148815e-04</td>\n",
       "      <td>0.000939</td>\n",
       "      <td>0.01</td>\n",
       "      <td>1e-07</td>\n",
       "      <td>{'C': 0.01, 'gamma': 1e-07}</td>\n",
       "      <td>0.235294</td>\n",
       "      <td>0.235294</td>\n",
       "      <td>0.2500</td>\n",
       "      <td>0.2500</td>\n",
       "      <td>0.5625</td>\n",
       "      <td>0.6250</td>\n",
       "      <td>0.2500</td>\n",
       "      <td>0.2500</td>\n",
       "      <td>0.2500</td>\n",
       "      <td>0.2500</td>\n",
       "      <td>0.315809</td>\n",
       "      <td>0.139788</td>\n",
       "      <td>26</td>\n",
       "    </tr>\n",
       "    <tr>\n",
       "      <th>11</th>\n",
       "      <td>0.001569</td>\n",
       "      <td>0.002373</td>\n",
       "      <td>1.131225e-03</td>\n",
       "      <td>0.002414</td>\n",
       "      <td>0.01</td>\n",
       "      <td>1e-06</td>\n",
       "      <td>{'C': 0.01, 'gamma': 1e-06}</td>\n",
       "      <td>0.235294</td>\n",
       "      <td>0.235294</td>\n",
       "      <td>0.2500</td>\n",
       "      <td>0.2500</td>\n",
       "      <td>0.5625</td>\n",
       "      <td>0.6250</td>\n",
       "      <td>0.2500</td>\n",
       "      <td>0.2500</td>\n",
       "      <td>0.2500</td>\n",
       "      <td>0.2500</td>\n",
       "      <td>0.315809</td>\n",
       "      <td>0.139788</td>\n",
       "      <td>26</td>\n",
       "    </tr>\n",
       "    <tr>\n",
       "      <th>12</th>\n",
       "      <td>0.001421</td>\n",
       "      <td>0.002395</td>\n",
       "      <td>8.099079e-04</td>\n",
       "      <td>0.002430</td>\n",
       "      <td>0.01</td>\n",
       "      <td>1e-05</td>\n",
       "      <td>{'C': 0.01, 'gamma': 1e-05}</td>\n",
       "      <td>0.235294</td>\n",
       "      <td>0.235294</td>\n",
       "      <td>0.2500</td>\n",
       "      <td>0.2500</td>\n",
       "      <td>0.5625</td>\n",
       "      <td>0.6250</td>\n",
       "      <td>0.2500</td>\n",
       "      <td>0.2500</td>\n",
       "      <td>0.2500</td>\n",
       "      <td>0.2500</td>\n",
       "      <td>0.315809</td>\n",
       "      <td>0.139788</td>\n",
       "      <td>26</td>\n",
       "    </tr>\n",
       "    <tr>\n",
       "      <th>13</th>\n",
       "      <td>0.001214</td>\n",
       "      <td>0.002419</td>\n",
       "      <td>1.615262e-03</td>\n",
       "      <td>0.003231</td>\n",
       "      <td>0.01</td>\n",
       "      <td>0.0001</td>\n",
       "      <td>{'C': 0.01, 'gamma': 0.0001}</td>\n",
       "      <td>0.235294</td>\n",
       "      <td>0.235294</td>\n",
       "      <td>0.2500</td>\n",
       "      <td>0.2500</td>\n",
       "      <td>0.5625</td>\n",
       "      <td>0.6250</td>\n",
       "      <td>0.2500</td>\n",
       "      <td>0.2500</td>\n",
       "      <td>0.2500</td>\n",
       "      <td>0.2500</td>\n",
       "      <td>0.315809</td>\n",
       "      <td>0.139788</td>\n",
       "      <td>26</td>\n",
       "    </tr>\n",
       "    <tr>\n",
       "      <th>33</th>\n",
       "      <td>0.002026</td>\n",
       "      <td>0.003128</td>\n",
       "      <td>0.000000e+00</td>\n",
       "      <td>0.000000</td>\n",
       "      <td>1</td>\n",
       "      <td>0.0001</td>\n",
       "      <td>{'C': 1, 'gamma': 0.0001}</td>\n",
       "      <td>0.235294</td>\n",
       "      <td>0.235294</td>\n",
       "      <td>0.2500</td>\n",
       "      <td>0.2500</td>\n",
       "      <td>0.5625</td>\n",
       "      <td>0.6250</td>\n",
       "      <td>0.2500</td>\n",
       "      <td>0.2500</td>\n",
       "      <td>0.2500</td>\n",
       "      <td>0.2500</td>\n",
       "      <td>0.315809</td>\n",
       "      <td>0.139788</td>\n",
       "      <td>26</td>\n",
       "    </tr>\n",
       "    <tr>\n",
       "      <th>14</th>\n",
       "      <td>0.002231</td>\n",
       "      <td>0.003055</td>\n",
       "      <td>0.000000e+00</td>\n",
       "      <td>0.000000</td>\n",
       "      <td>0.01</td>\n",
       "      <td>0.001</td>\n",
       "      <td>{'C': 0.01, 'gamma': 0.001}</td>\n",
       "      <td>0.235294</td>\n",
       "      <td>0.235294</td>\n",
       "      <td>0.2500</td>\n",
       "      <td>0.2500</td>\n",
       "      <td>0.5625</td>\n",
       "      <td>0.6250</td>\n",
       "      <td>0.2500</td>\n",
       "      <td>0.2500</td>\n",
       "      <td>0.2500</td>\n",
       "      <td>0.2500</td>\n",
       "      <td>0.315809</td>\n",
       "      <td>0.139788</td>\n",
       "      <td>26</td>\n",
       "    </tr>\n",
       "    <tr>\n",
       "      <th>16</th>\n",
       "      <td>0.000410</td>\n",
       "      <td>0.000820</td>\n",
       "      <td>1.814651e-03</td>\n",
       "      <td>0.003175</td>\n",
       "      <td>0.01</td>\n",
       "      <td>0.1</td>\n",
       "      <td>{'C': 0.01, 'gamma': 0.1}</td>\n",
       "      <td>0.235294</td>\n",
       "      <td>0.235294</td>\n",
       "      <td>0.2500</td>\n",
       "      <td>0.2500</td>\n",
       "      <td>0.5625</td>\n",
       "      <td>0.6250</td>\n",
       "      <td>0.2500</td>\n",
       "      <td>0.2500</td>\n",
       "      <td>0.2500</td>\n",
       "      <td>0.2500</td>\n",
       "      <td>0.315809</td>\n",
       "      <td>0.139788</td>\n",
       "      <td>26</td>\n",
       "    </tr>\n",
       "    <tr>\n",
       "      <th>20</th>\n",
       "      <td>0.000410</td>\n",
       "      <td>0.000820</td>\n",
       "      <td>1.613021e-03</td>\n",
       "      <td>0.003226</td>\n",
       "      <td>0.1</td>\n",
       "      <td>1e-07</td>\n",
       "      <td>{'C': 0.1, 'gamma': 1e-07}</td>\n",
       "      <td>0.235294</td>\n",
       "      <td>0.235294</td>\n",
       "      <td>0.2500</td>\n",
       "      <td>0.2500</td>\n",
       "      <td>0.5625</td>\n",
       "      <td>0.6250</td>\n",
       "      <td>0.2500</td>\n",
       "      <td>0.2500</td>\n",
       "      <td>0.2500</td>\n",
       "      <td>0.2500</td>\n",
       "      <td>0.315809</td>\n",
       "      <td>0.139788</td>\n",
       "      <td>26</td>\n",
       "    </tr>\n",
       "    <tr>\n",
       "      <th>21</th>\n",
       "      <td>0.001010</td>\n",
       "      <td>0.002426</td>\n",
       "      <td>1.215696e-03</td>\n",
       "      <td>0.002419</td>\n",
       "      <td>0.1</td>\n",
       "      <td>1e-06</td>\n",
       "      <td>{'C': 0.1, 'gamma': 1e-06}</td>\n",
       "      <td>0.235294</td>\n",
       "      <td>0.235294</td>\n",
       "      <td>0.2500</td>\n",
       "      <td>0.2500</td>\n",
       "      <td>0.5625</td>\n",
       "      <td>0.6250</td>\n",
       "      <td>0.2500</td>\n",
       "      <td>0.2500</td>\n",
       "      <td>0.2500</td>\n",
       "      <td>0.2500</td>\n",
       "      <td>0.315809</td>\n",
       "      <td>0.139788</td>\n",
       "      <td>26</td>\n",
       "    </tr>\n",
       "    <tr>\n",
       "      <th>22</th>\n",
       "      <td>0.001615</td>\n",
       "      <td>0.003229</td>\n",
       "      <td>2.052546e-04</td>\n",
       "      <td>0.000616</td>\n",
       "      <td>0.1</td>\n",
       "      <td>1e-05</td>\n",
       "      <td>{'C': 0.1, 'gamma': 1e-05}</td>\n",
       "      <td>0.235294</td>\n",
       "      <td>0.235294</td>\n",
       "      <td>0.2500</td>\n",
       "      <td>0.2500</td>\n",
       "      <td>0.5625</td>\n",
       "      <td>0.6250</td>\n",
       "      <td>0.2500</td>\n",
       "      <td>0.2500</td>\n",
       "      <td>0.2500</td>\n",
       "      <td>0.2500</td>\n",
       "      <td>0.315809</td>\n",
       "      <td>0.139788</td>\n",
       "      <td>26</td>\n",
       "    </tr>\n",
       "    <tr>\n",
       "      <th>23</th>\n",
       "      <td>0.002833</td>\n",
       "      <td>0.003518</td>\n",
       "      <td>0.000000e+00</td>\n",
       "      <td>0.000000</td>\n",
       "      <td>0.1</td>\n",
       "      <td>0.0001</td>\n",
       "      <td>{'C': 0.1, 'gamma': 0.0001}</td>\n",
       "      <td>0.235294</td>\n",
       "      <td>0.235294</td>\n",
       "      <td>0.2500</td>\n",
       "      <td>0.2500</td>\n",
       "      <td>0.5625</td>\n",
       "      <td>0.6250</td>\n",
       "      <td>0.2500</td>\n",
       "      <td>0.2500</td>\n",
       "      <td>0.2500</td>\n",
       "      <td>0.2500</td>\n",
       "      <td>0.315809</td>\n",
       "      <td>0.139788</td>\n",
       "      <td>26</td>\n",
       "    </tr>\n",
       "    <tr>\n",
       "      <th>24</th>\n",
       "      <td>0.002231</td>\n",
       "      <td>0.003054</td>\n",
       "      <td>0.000000e+00</td>\n",
       "      <td>0.000000</td>\n",
       "      <td>0.1</td>\n",
       "      <td>0.001</td>\n",
       "      <td>{'C': 0.1, 'gamma': 0.001}</td>\n",
       "      <td>0.235294</td>\n",
       "      <td>0.235294</td>\n",
       "      <td>0.2500</td>\n",
       "      <td>0.2500</td>\n",
       "      <td>0.5625</td>\n",
       "      <td>0.6250</td>\n",
       "      <td>0.2500</td>\n",
       "      <td>0.2500</td>\n",
       "      <td>0.2500</td>\n",
       "      <td>0.2500</td>\n",
       "      <td>0.315809</td>\n",
       "      <td>0.139788</td>\n",
       "      <td>26</td>\n",
       "    </tr>\n",
       "    <tr>\n",
       "      <th>25</th>\n",
       "      <td>0.001216</td>\n",
       "      <td>0.002418</td>\n",
       "      <td>1.614261e-03</td>\n",
       "      <td>0.003229</td>\n",
       "      <td>0.1</td>\n",
       "      <td>0.01</td>\n",
       "      <td>{'C': 0.1, 'gamma': 0.01}</td>\n",
       "      <td>0.235294</td>\n",
       "      <td>0.235294</td>\n",
       "      <td>0.2500</td>\n",
       "      <td>0.2500</td>\n",
       "      <td>0.5625</td>\n",
       "      <td>0.6250</td>\n",
       "      <td>0.2500</td>\n",
       "      <td>0.2500</td>\n",
       "      <td>0.2500</td>\n",
       "      <td>0.2500</td>\n",
       "      <td>0.315809</td>\n",
       "      <td>0.139788</td>\n",
       "      <td>26</td>\n",
       "    </tr>\n",
       "    <tr>\n",
       "      <th>30</th>\n",
       "      <td>0.000407</td>\n",
       "      <td>0.000814</td>\n",
       "      <td>1.609421e-03</td>\n",
       "      <td>0.003219</td>\n",
       "      <td>1</td>\n",
       "      <td>1e-07</td>\n",
       "      <td>{'C': 1, 'gamma': 1e-07}</td>\n",
       "      <td>0.235294</td>\n",
       "      <td>0.235294</td>\n",
       "      <td>0.2500</td>\n",
       "      <td>0.2500</td>\n",
       "      <td>0.5625</td>\n",
       "      <td>0.6250</td>\n",
       "      <td>0.2500</td>\n",
       "      <td>0.2500</td>\n",
       "      <td>0.2500</td>\n",
       "      <td>0.2500</td>\n",
       "      <td>0.315809</td>\n",
       "      <td>0.139788</td>\n",
       "      <td>26</td>\n",
       "    </tr>\n",
       "    <tr>\n",
       "      <th>31</th>\n",
       "      <td>0.002022</td>\n",
       "      <td>0.003127</td>\n",
       "      <td>2.007484e-04</td>\n",
       "      <td>0.000602</td>\n",
       "      <td>1</td>\n",
       "      <td>1e-06</td>\n",
       "      <td>{'C': 1, 'gamma': 1e-06}</td>\n",
       "      <td>0.235294</td>\n",
       "      <td>0.235294</td>\n",
       "      <td>0.2500</td>\n",
       "      <td>0.2500</td>\n",
       "      <td>0.5625</td>\n",
       "      <td>0.6250</td>\n",
       "      <td>0.2500</td>\n",
       "      <td>0.2500</td>\n",
       "      <td>0.2500</td>\n",
       "      <td>0.2500</td>\n",
       "      <td>0.315809</td>\n",
       "      <td>0.139788</td>\n",
       "      <td>26</td>\n",
       "    </tr>\n",
       "    <tr>\n",
       "      <th>15</th>\n",
       "      <td>0.002025</td>\n",
       "      <td>0.003126</td>\n",
       "      <td>8.091927e-04</td>\n",
       "      <td>0.002428</td>\n",
       "      <td>0.01</td>\n",
       "      <td>0.01</td>\n",
       "      <td>{'C': 0.01, 'gamma': 0.01}</td>\n",
       "      <td>0.235294</td>\n",
       "      <td>0.235294</td>\n",
       "      <td>0.2500</td>\n",
       "      <td>0.2500</td>\n",
       "      <td>0.5625</td>\n",
       "      <td>0.6250</td>\n",
       "      <td>0.2500</td>\n",
       "      <td>0.2500</td>\n",
       "      <td>0.2500</td>\n",
       "      <td>0.2500</td>\n",
       "      <td>0.315809</td>\n",
       "      <td>0.139788</td>\n",
       "      <td>26</td>\n",
       "    </tr>\n",
       "    <tr>\n",
       "      <th>19</th>\n",
       "      <td>0.001216</td>\n",
       "      <td>0.002419</td>\n",
       "      <td>1.619506e-03</td>\n",
       "      <td>0.003239</td>\n",
       "      <td>0.01</td>\n",
       "      <td>100</td>\n",
       "      <td>{'C': 0.01, 'gamma': 100}</td>\n",
       "      <td>0.235294</td>\n",
       "      <td>0.235294</td>\n",
       "      <td>0.2500</td>\n",
       "      <td>0.2500</td>\n",
       "      <td>0.5000</td>\n",
       "      <td>0.6250</td>\n",
       "      <td>0.2500</td>\n",
       "      <td>0.2500</td>\n",
       "      <td>0.2500</td>\n",
       "      <td>0.2500</td>\n",
       "      <td>0.309559</td>\n",
       "      <td>0.129648</td>\n",
       "      <td>58</td>\n",
       "    </tr>\n",
       "    <tr>\n",
       "      <th>9</th>\n",
       "      <td>0.003232</td>\n",
       "      <td>0.005023</td>\n",
       "      <td>2.057791e-04</td>\n",
       "      <td>0.000617</td>\n",
       "      <td>0.001</td>\n",
       "      <td>100</td>\n",
       "      <td>{'C': 0.001, 'gamma': 100}</td>\n",
       "      <td>0.235294</td>\n",
       "      <td>0.235294</td>\n",
       "      <td>0.2500</td>\n",
       "      <td>0.2500</td>\n",
       "      <td>0.5000</td>\n",
       "      <td>0.6250</td>\n",
       "      <td>0.2500</td>\n",
       "      <td>0.2500</td>\n",
       "      <td>0.2500</td>\n",
       "      <td>0.2500</td>\n",
       "      <td>0.309559</td>\n",
       "      <td>0.129648</td>\n",
       "      <td>58</td>\n",
       "    </tr>\n",
       "    <tr>\n",
       "      <th>29</th>\n",
       "      <td>0.002026</td>\n",
       "      <td>0.003126</td>\n",
       "      <td>2.049208e-04</td>\n",
       "      <td>0.000615</td>\n",
       "      <td>0.1</td>\n",
       "      <td>100</td>\n",
       "      <td>{'C': 0.1, 'gamma': 100}</td>\n",
       "      <td>0.235294</td>\n",
       "      <td>0.235294</td>\n",
       "      <td>0.2500</td>\n",
       "      <td>0.2500</td>\n",
       "      <td>0.5000</td>\n",
       "      <td>0.6250</td>\n",
       "      <td>0.2500</td>\n",
       "      <td>0.2500</td>\n",
       "      <td>0.2500</td>\n",
       "      <td>0.2500</td>\n",
       "      <td>0.309559</td>\n",
       "      <td>0.129648</td>\n",
       "      <td>58</td>\n",
       "    </tr>\n",
       "  </tbody>\n",
       "</table>\n",
       "</div>"
      ],
      "text/plain": [
       "    mean_fit_time  std_fit_time  mean_score_time  std_score_time param_C  \\\n",
       "47       0.000000      0.000000     1.010919e-03        0.002430      10   \n",
       "56       0.000410      0.000820     0.000000e+00        0.000000     100   \n",
       "46       0.001012      0.002429     2.016068e-04        0.000605      10   \n",
       "38       0.001820      0.003185     0.000000e+00        0.000000       1   \n",
       "27       0.001819      0.003183     0.000000e+00        0.000000     0.1   \n",
       "37       0.000205      0.000615     1.013613e-03        0.002435       1   \n",
       "36       0.001220      0.002430     0.000000e+00        0.000000       1   \n",
       "57       0.001216      0.002418     8.103848e-04        0.002431     100   \n",
       "48       0.001009      0.002425     9.775162e-07        0.000003      10   \n",
       "55       0.000205      0.000615     0.000000e+00        0.000000     100   \n",
       "54       0.001220      0.002427     0.000000e+00        0.000000     100   \n",
       "45       0.002023      0.003123     0.000000e+00        0.000000      10   \n",
       "58       0.001216      0.002418     1.614285e-03        0.003229     100   \n",
       "35       0.001216      0.002419     8.098602e-04        0.002430       1   \n",
       "44       0.001823      0.003192     0.000000e+00        0.000000      10   \n",
       "53       0.001214      0.002412     8.088827e-04        0.002427     100   \n",
       "26       0.000616      0.000941     1.614857e-03        0.003230     0.1   \n",
       "59       0.002831      0.003960     4.091501e-04        0.000818     100   \n",
       "49       0.003644      0.004129     2.050400e-04        0.000615      10   \n",
       "39       0.002624      0.003612     2.049685e-04        0.000615       1   \n",
       "28       0.002229      0.003057     0.000000e+00        0.000000     0.1   \n",
       "18       0.001615      0.003229     6.150723e-04        0.000940    0.01   \n",
       "8        0.000000      0.000000     1.561952e-03        0.004686   0.001   \n",
       "7        0.001562      0.004686     0.000000e+00        0.000000   0.001   \n",
       "17       0.000808      0.002425     4.105091e-04        0.000821    0.01   \n",
       "43       0.002026      0.003128     0.000000e+00        0.000000      10   \n",
       "42       0.003035      0.003400     0.000000e+00        0.000000      10   \n",
       "41       0.002019      0.003118     0.000000e+00        0.000000      10   \n",
       "40       0.002828      0.003512     0.000000e+00        0.000000      10   \n",
       "50       0.002229      0.003052     0.000000e+00        0.000000     100   \n",
       "51       0.002833      0.003518     0.000000e+00        0.000000     100   \n",
       "52       0.002231      0.003055     0.000000e+00        0.000000     100   \n",
       "34       0.003038      0.003405     0.000000e+00        0.000000       1   \n",
       "0        0.001562      0.004687     0.000000e+00        0.000000   0.001   \n",
       "32       0.002024      0.003133     8.062363e-04        0.002419       1   \n",
       "1        0.002221      0.004887     0.000000e+00        0.000000   0.001   \n",
       "2        0.001562      0.004686     0.000000e+00        0.000000   0.001   \n",
       "3        0.003121      0.006241     0.000000e+00        0.000000   0.001   \n",
       "4        0.003128      0.006256     0.000000e+00        0.000000   0.001   \n",
       "5        0.001563      0.004688     6.539106e-04        0.001962   0.001   \n",
       "6        0.001566      0.004698     0.000000e+00        0.000000   0.001   \n",
       "10       0.001614      0.003228     6.148815e-04        0.000939    0.01   \n",
       "11       0.001569      0.002373     1.131225e-03        0.002414    0.01   \n",
       "12       0.001421      0.002395     8.099079e-04        0.002430    0.01   \n",
       "13       0.001214      0.002419     1.615262e-03        0.003231    0.01   \n",
       "33       0.002026      0.003128     0.000000e+00        0.000000       1   \n",
       "14       0.002231      0.003055     0.000000e+00        0.000000    0.01   \n",
       "16       0.000410      0.000820     1.814651e-03        0.003175    0.01   \n",
       "20       0.000410      0.000820     1.613021e-03        0.003226     0.1   \n",
       "21       0.001010      0.002426     1.215696e-03        0.002419     0.1   \n",
       "22       0.001615      0.003229     2.052546e-04        0.000616     0.1   \n",
       "23       0.002833      0.003518     0.000000e+00        0.000000     0.1   \n",
       "24       0.002231      0.003054     0.000000e+00        0.000000     0.1   \n",
       "25       0.001216      0.002418     1.614261e-03        0.003229     0.1   \n",
       "30       0.000407      0.000814     1.609421e-03        0.003219       1   \n",
       "31       0.002022      0.003127     2.007484e-04        0.000602       1   \n",
       "15       0.002025      0.003126     8.091927e-04        0.002428    0.01   \n",
       "19       0.001216      0.002419     1.619506e-03        0.003239    0.01   \n",
       "9        0.003232      0.005023     2.057791e-04        0.000617   0.001   \n",
       "29       0.002026      0.003126     2.049208e-04        0.000615     0.1   \n",
       "\n",
       "   param_gamma                         params  split0_test_score  \\\n",
       "47           1          {'C': 10, 'gamma': 1}           0.705882   \n",
       "56         0.1       {'C': 100, 'gamma': 0.1}           0.764706   \n",
       "46         0.1        {'C': 10, 'gamma': 0.1}           0.764706   \n",
       "38          10          {'C': 1, 'gamma': 10}           0.764706   \n",
       "27           1         {'C': 0.1, 'gamma': 1}           0.764706   \n",
       "37           1           {'C': 1, 'gamma': 1}           0.647059   \n",
       "36         0.1         {'C': 1, 'gamma': 0.1}           0.705882   \n",
       "57           1         {'C': 100, 'gamma': 1}           0.764706   \n",
       "48          10         {'C': 10, 'gamma': 10}           0.764706   \n",
       "55        0.01      {'C': 100, 'gamma': 0.01}           0.705882   \n",
       "54       0.001     {'C': 100, 'gamma': 0.001}           0.705882   \n",
       "45        0.01       {'C': 10, 'gamma': 0.01}           0.705882   \n",
       "58          10        {'C': 100, 'gamma': 10}           0.705882   \n",
       "35        0.01        {'C': 1, 'gamma': 0.01}           0.823529   \n",
       "44       0.001      {'C': 10, 'gamma': 0.001}           0.823529   \n",
       "53      0.0001    {'C': 100, 'gamma': 0.0001}           0.823529   \n",
       "26         0.1       {'C': 0.1, 'gamma': 0.1}           0.764706   \n",
       "59         100       {'C': 100, 'gamma': 100}           0.588235   \n",
       "49         100        {'C': 10, 'gamma': 100}           0.588235   \n",
       "39         100         {'C': 1, 'gamma': 100}           0.470588   \n",
       "28          10        {'C': 0.1, 'gamma': 10}           0.470588   \n",
       "18          10       {'C': 0.01, 'gamma': 10}           0.235294   \n",
       "8           10      {'C': 0.001, 'gamma': 10}           0.235294   \n",
       "7            1       {'C': 0.001, 'gamma': 1}           0.235294   \n",
       "17           1        {'C': 0.01, 'gamma': 1}           0.235294   \n",
       "43      0.0001     {'C': 10, 'gamma': 0.0001}           0.235294   \n",
       "42       1e-05      {'C': 10, 'gamma': 1e-05}           0.235294   \n",
       "41       1e-06      {'C': 10, 'gamma': 1e-06}           0.235294   \n",
       "40       1e-07      {'C': 10, 'gamma': 1e-07}           0.235294   \n",
       "50       1e-07     {'C': 100, 'gamma': 1e-07}           0.235294   \n",
       "51       1e-06     {'C': 100, 'gamma': 1e-06}           0.235294   \n",
       "52       1e-05     {'C': 100, 'gamma': 1e-05}           0.235294   \n",
       "34       0.001       {'C': 1, 'gamma': 0.001}           0.235294   \n",
       "0        1e-07   {'C': 0.001, 'gamma': 1e-07}           0.235294   \n",
       "32       1e-05       {'C': 1, 'gamma': 1e-05}           0.235294   \n",
       "1        1e-06   {'C': 0.001, 'gamma': 1e-06}           0.235294   \n",
       "2        1e-05   {'C': 0.001, 'gamma': 1e-05}           0.235294   \n",
       "3       0.0001  {'C': 0.001, 'gamma': 0.0001}           0.235294   \n",
       "4        0.001   {'C': 0.001, 'gamma': 0.001}           0.235294   \n",
       "5         0.01    {'C': 0.001, 'gamma': 0.01}           0.235294   \n",
       "6          0.1     {'C': 0.001, 'gamma': 0.1}           0.235294   \n",
       "10       1e-07    {'C': 0.01, 'gamma': 1e-07}           0.235294   \n",
       "11       1e-06    {'C': 0.01, 'gamma': 1e-06}           0.235294   \n",
       "12       1e-05    {'C': 0.01, 'gamma': 1e-05}           0.235294   \n",
       "13      0.0001   {'C': 0.01, 'gamma': 0.0001}           0.235294   \n",
       "33      0.0001      {'C': 1, 'gamma': 0.0001}           0.235294   \n",
       "14       0.001    {'C': 0.01, 'gamma': 0.001}           0.235294   \n",
       "16         0.1      {'C': 0.01, 'gamma': 0.1}           0.235294   \n",
       "20       1e-07     {'C': 0.1, 'gamma': 1e-07}           0.235294   \n",
       "21       1e-06     {'C': 0.1, 'gamma': 1e-06}           0.235294   \n",
       "22       1e-05     {'C': 0.1, 'gamma': 1e-05}           0.235294   \n",
       "23      0.0001    {'C': 0.1, 'gamma': 0.0001}           0.235294   \n",
       "24       0.001     {'C': 0.1, 'gamma': 0.001}           0.235294   \n",
       "25        0.01      {'C': 0.1, 'gamma': 0.01}           0.235294   \n",
       "30       1e-07       {'C': 1, 'gamma': 1e-07}           0.235294   \n",
       "31       1e-06       {'C': 1, 'gamma': 1e-06}           0.235294   \n",
       "15        0.01     {'C': 0.01, 'gamma': 0.01}           0.235294   \n",
       "19         100      {'C': 0.01, 'gamma': 100}           0.235294   \n",
       "9          100     {'C': 0.001, 'gamma': 100}           0.235294   \n",
       "29         100       {'C': 0.1, 'gamma': 100}           0.235294   \n",
       "\n",
       "    split1_test_score  split2_test_score  split3_test_score  \\\n",
       "47           0.882353             0.9375             0.8125   \n",
       "56           0.823529             0.8750             0.8125   \n",
       "46           0.823529             0.8750             0.8125   \n",
       "38           0.882353             0.8750             0.7500   \n",
       "27           0.823529             0.8750             0.7500   \n",
       "37           0.823529             0.8750             0.8125   \n",
       "36           0.823529             0.8750             0.8125   \n",
       "57           0.823529             0.9375             0.6875   \n",
       "48           0.823529             0.8125             0.8125   \n",
       "55           0.823529             0.8125             0.8125   \n",
       "54           0.823529             0.8125             0.7500   \n",
       "45           0.823529             0.8125             0.7500   \n",
       "58           0.823529             0.6875             0.8125   \n",
       "35           0.705882             0.8125             0.8125   \n",
       "44           0.705882             0.8125             0.8125   \n",
       "53           0.705882             0.8125             0.7500   \n",
       "26           0.823529             0.7500             0.7500   \n",
       "59           0.705882             0.6250             0.5625   \n",
       "49           0.705882             0.6250             0.5625   \n",
       "39           0.647059             0.5625             0.5625   \n",
       "28           0.529412             0.5000             0.5000   \n",
       "18           0.235294             0.2500             0.2500   \n",
       "8            0.235294             0.2500             0.2500   \n",
       "7            0.235294             0.2500             0.2500   \n",
       "17           0.235294             0.2500             0.2500   \n",
       "43           0.235294             0.2500             0.2500   \n",
       "42           0.235294             0.2500             0.2500   \n",
       "41           0.235294             0.2500             0.2500   \n",
       "40           0.235294             0.2500             0.2500   \n",
       "50           0.235294             0.2500             0.2500   \n",
       "51           0.235294             0.2500             0.2500   \n",
       "52           0.235294             0.2500             0.2500   \n",
       "34           0.235294             0.2500             0.2500   \n",
       "0            0.235294             0.2500             0.2500   \n",
       "32           0.235294             0.2500             0.2500   \n",
       "1            0.235294             0.2500             0.2500   \n",
       "2            0.235294             0.2500             0.2500   \n",
       "3            0.235294             0.2500             0.2500   \n",
       "4            0.235294             0.2500             0.2500   \n",
       "5            0.235294             0.2500             0.2500   \n",
       "6            0.235294             0.2500             0.2500   \n",
       "10           0.235294             0.2500             0.2500   \n",
       "11           0.235294             0.2500             0.2500   \n",
       "12           0.235294             0.2500             0.2500   \n",
       "13           0.235294             0.2500             0.2500   \n",
       "33           0.235294             0.2500             0.2500   \n",
       "14           0.235294             0.2500             0.2500   \n",
       "16           0.235294             0.2500             0.2500   \n",
       "20           0.235294             0.2500             0.2500   \n",
       "21           0.235294             0.2500             0.2500   \n",
       "22           0.235294             0.2500             0.2500   \n",
       "23           0.235294             0.2500             0.2500   \n",
       "24           0.235294             0.2500             0.2500   \n",
       "25           0.235294             0.2500             0.2500   \n",
       "30           0.235294             0.2500             0.2500   \n",
       "31           0.235294             0.2500             0.2500   \n",
       "15           0.235294             0.2500             0.2500   \n",
       "19           0.235294             0.2500             0.2500   \n",
       "9            0.235294             0.2500             0.2500   \n",
       "29           0.235294             0.2500             0.2500   \n",
       "\n",
       "    split4_test_score  split5_test_score  split6_test_score  \\\n",
       "47             1.0000             0.9375             0.9375   \n",
       "56             1.0000             1.0000             0.8750   \n",
       "46             1.0000             1.0000             0.8750   \n",
       "38             1.0000             1.0000             0.9375   \n",
       "27             1.0000             1.0000             0.8750   \n",
       "37             1.0000             1.0000             0.9375   \n",
       "36             1.0000             1.0000             0.8750   \n",
       "57             1.0000             0.9375             0.8750   \n",
       "48             1.0000             1.0000             0.8750   \n",
       "55             0.9375             1.0000             0.8750   \n",
       "54             0.9375             1.0000             0.8750   \n",
       "45             0.9375             1.0000             0.8750   \n",
       "58             0.9375             0.9375             0.8125   \n",
       "35             0.9375             1.0000             0.8125   \n",
       "44             0.9375             1.0000             0.7500   \n",
       "53             0.9375             1.0000             0.7500   \n",
       "26             0.9375             1.0000             0.6875   \n",
       "59             0.6250             0.8750             0.7500   \n",
       "49             0.6250             0.8750             0.7500   \n",
       "39             0.6250             0.8750             0.7500   \n",
       "28             0.6875             0.6875             0.6875   \n",
       "18             0.6250             0.6250             0.2500   \n",
       "8              0.6250             0.6250             0.2500   \n",
       "7              0.6250             0.6250             0.2500   \n",
       "17             0.6250             0.6250             0.2500   \n",
       "43             0.5625             0.6250             0.2500   \n",
       "42             0.5625             0.6250             0.2500   \n",
       "41             0.5625             0.6250             0.2500   \n",
       "40             0.5625             0.6250             0.2500   \n",
       "50             0.5625             0.6250             0.2500   \n",
       "51             0.5625             0.6250             0.2500   \n",
       "52             0.5625             0.6250             0.2500   \n",
       "34             0.5625             0.6250             0.2500   \n",
       "0              0.5625             0.6250             0.2500   \n",
       "32             0.5625             0.6250             0.2500   \n",
       "1              0.5625             0.6250             0.2500   \n",
       "2              0.5625             0.6250             0.2500   \n",
       "3              0.5625             0.6250             0.2500   \n",
       "4              0.5625             0.6250             0.2500   \n",
       "5              0.5625             0.6250             0.2500   \n",
       "6              0.5625             0.6250             0.2500   \n",
       "10             0.5625             0.6250             0.2500   \n",
       "11             0.5625             0.6250             0.2500   \n",
       "12             0.5625             0.6250             0.2500   \n",
       "13             0.5625             0.6250             0.2500   \n",
       "33             0.5625             0.6250             0.2500   \n",
       "14             0.5625             0.6250             0.2500   \n",
       "16             0.5625             0.6250             0.2500   \n",
       "20             0.5625             0.6250             0.2500   \n",
       "21             0.5625             0.6250             0.2500   \n",
       "22             0.5625             0.6250             0.2500   \n",
       "23             0.5625             0.6250             0.2500   \n",
       "24             0.5625             0.6250             0.2500   \n",
       "25             0.5625             0.6250             0.2500   \n",
       "30             0.5625             0.6250             0.2500   \n",
       "31             0.5625             0.6250             0.2500   \n",
       "15             0.5625             0.6250             0.2500   \n",
       "19             0.5000             0.6250             0.2500   \n",
       "9              0.5000             0.6250             0.2500   \n",
       "29             0.5000             0.6250             0.2500   \n",
       "\n",
       "    split7_test_score  split8_test_score  split9_test_score  mean_test_score  \\\n",
       "47             0.8125             0.8750             1.0000         0.890074   \n",
       "56             0.8750             0.8750             0.9375         0.883824   \n",
       "46             0.8750             0.8750             0.9375         0.883824   \n",
       "38             0.8750             0.8125             0.9375         0.883456   \n",
       "27             0.8750             0.8750             0.9375         0.877574   \n",
       "37             0.8125             0.8750             0.9375         0.872059   \n",
       "36             0.8750             0.8750             0.8750         0.871691   \n",
       "57             0.8750             0.8750             0.8750         0.865074   \n",
       "48             0.9375             0.7500             0.8750         0.865074   \n",
       "55             0.8750             0.8750             0.8750         0.859191   \n",
       "54             0.8750             0.8750             0.8125         0.846691   \n",
       "45             0.8750             0.8750             0.8125         0.846691   \n",
       "58             0.9375             0.7500             0.8750         0.827941   \n",
       "35             0.8750             0.5625             0.8125         0.815441   \n",
       "44             0.8750             0.5625             0.8125         0.809191   \n",
       "53             0.8750             0.5625             0.8125         0.802941   \n",
       "26             0.7500             0.6250             0.8125         0.790074   \n",
       "59             0.6875             0.6250             0.8750         0.691912   \n",
       "49             0.6875             0.6250             0.8750         0.691912   \n",
       "39             0.6875             0.6250             0.7500         0.655515   \n",
       "28             0.5625             0.5625             0.5625         0.575000   \n",
       "18             0.2500             0.2500             0.2500         0.322059   \n",
       "8              0.2500             0.2500             0.2500         0.322059   \n",
       "7              0.2500             0.2500             0.2500         0.322059   \n",
       "17             0.2500             0.2500             0.2500         0.322059   \n",
       "43             0.2500             0.2500             0.2500         0.315809   \n",
       "42             0.2500             0.2500             0.2500         0.315809   \n",
       "41             0.2500             0.2500             0.2500         0.315809   \n",
       "40             0.2500             0.2500             0.2500         0.315809   \n",
       "50             0.2500             0.2500             0.2500         0.315809   \n",
       "51             0.2500             0.2500             0.2500         0.315809   \n",
       "52             0.2500             0.2500             0.2500         0.315809   \n",
       "34             0.2500             0.2500             0.2500         0.315809   \n",
       "0              0.2500             0.2500             0.2500         0.315809   \n",
       "32             0.2500             0.2500             0.2500         0.315809   \n",
       "1              0.2500             0.2500             0.2500         0.315809   \n",
       "2              0.2500             0.2500             0.2500         0.315809   \n",
       "3              0.2500             0.2500             0.2500         0.315809   \n",
       "4              0.2500             0.2500             0.2500         0.315809   \n",
       "5              0.2500             0.2500             0.2500         0.315809   \n",
       "6              0.2500             0.2500             0.2500         0.315809   \n",
       "10             0.2500             0.2500             0.2500         0.315809   \n",
       "11             0.2500             0.2500             0.2500         0.315809   \n",
       "12             0.2500             0.2500             0.2500         0.315809   \n",
       "13             0.2500             0.2500             0.2500         0.315809   \n",
       "33             0.2500             0.2500             0.2500         0.315809   \n",
       "14             0.2500             0.2500             0.2500         0.315809   \n",
       "16             0.2500             0.2500             0.2500         0.315809   \n",
       "20             0.2500             0.2500             0.2500         0.315809   \n",
       "21             0.2500             0.2500             0.2500         0.315809   \n",
       "22             0.2500             0.2500             0.2500         0.315809   \n",
       "23             0.2500             0.2500             0.2500         0.315809   \n",
       "24             0.2500             0.2500             0.2500         0.315809   \n",
       "25             0.2500             0.2500             0.2500         0.315809   \n",
       "30             0.2500             0.2500             0.2500         0.315809   \n",
       "31             0.2500             0.2500             0.2500         0.315809   \n",
       "15             0.2500             0.2500             0.2500         0.315809   \n",
       "19             0.2500             0.2500             0.2500         0.309559   \n",
       "9              0.2500             0.2500             0.2500         0.309559   \n",
       "29             0.2500             0.2500             0.2500         0.309559   \n",
       "\n",
       "    std_test_score  rank_test_score  \n",
       "47        0.087843                1  \n",
       "56        0.072868                2  \n",
       "46        0.072868                2  \n",
       "38        0.083724                4  \n",
       "27        0.080950                5  \n",
       "37        0.100695                6  \n",
       "36        0.081423                7  \n",
       "57        0.085101                8  \n",
       "48        0.085101                8  \n",
       "55        0.074896               10  \n",
       "54        0.081366               11  \n",
       "45        0.081366               11  \n",
       "58        0.089116               13  \n",
       "35        0.113398               14  \n",
       "44        0.115097               15  \n",
       "53        0.116437               16  \n",
       "26        0.105194               17  \n",
       "59        0.105622               18  \n",
       "49        0.105622               18  \n",
       "39        0.109767               20  \n",
       "28        0.079163               21  \n",
       "18        0.151578               22  \n",
       "8         0.151578               22  \n",
       "7         0.151578               22  \n",
       "17        0.151578               22  \n",
       "43        0.139788               26  \n",
       "42        0.139788               26  \n",
       "41        0.139788               26  \n",
       "40        0.139788               26  \n",
       "50        0.139788               26  \n",
       "51        0.139788               26  \n",
       "52        0.139788               26  \n",
       "34        0.139788               26  \n",
       "0         0.139788               26  \n",
       "32        0.139788               26  \n",
       "1         0.139788               26  \n",
       "2         0.139788               26  \n",
       "3         0.139788               26  \n",
       "4         0.139788               26  \n",
       "5         0.139788               26  \n",
       "6         0.139788               26  \n",
       "10        0.139788               26  \n",
       "11        0.139788               26  \n",
       "12        0.139788               26  \n",
       "13        0.139788               26  \n",
       "33        0.139788               26  \n",
       "14        0.139788               26  \n",
       "16        0.139788               26  \n",
       "20        0.139788               26  \n",
       "21        0.139788               26  \n",
       "22        0.139788               26  \n",
       "23        0.139788               26  \n",
       "24        0.139788               26  \n",
       "25        0.139788               26  \n",
       "30        0.139788               26  \n",
       "31        0.139788               26  \n",
       "15        0.139788               26  \n",
       "19        0.129648               58  \n",
       "9         0.129648               58  \n",
       "29        0.129648               58  "
      ]
     },
     "execution_count": 662,
     "metadata": {},
     "output_type": "execute_result"
    }
   ],
   "source": [
    "pd.DataFrame(grid_search.cv_results_).sort_values(by = \"rank_test_score\")"
   ]
  },
  {
   "cell_type": "code",
   "execution_count": 663,
   "metadata": {},
   "outputs": [
    {
     "data": {
      "text/plain": [
       "0.8900735294117647"
      ]
     },
     "execution_count": 663,
     "metadata": {},
     "output_type": "execute_result"
    }
   ],
   "source": [
    "grid_search.best_score_"
   ]
  },
  {
   "cell_type": "code",
   "execution_count": 664,
   "metadata": {},
   "outputs": [
    {
     "data": {
      "text/plain": [
       "<matplotlib.axes._subplots.AxesSubplot at 0x1ff6882c308>"
      ]
     },
     "execution_count": 664,
     "metadata": {},
     "output_type": "execute_result"
    },
    {
     "data": {
      "image/png": "[encoded data removed]",
      "text/plain": [
       "<Figure size 432x288 with 2 Axes>"
      ]
     },
     "metadata": {
      "needs_background": "light"
     },
     "output_type": "display_data"
    }
   ],
   "source": [
    "SVC_gridsearch = pd.DataFrame(grid_search.cv_results_).pivot(\"param_C\", \"param_gamma\", \"mean_test_score\")\n",
    "sns.heatmap(SVC_gridsearch)"
   ]
  },
  {
   "cell_type": "code",
   "execution_count": 665,
   "metadata": {},
   "outputs": [
    {
     "data": {
      "text/plain": [
       "0.8875"
      ]
     },
     "execution_count": 665,
     "metadata": {},
     "output_type": "execute_result"
    }
   ],
   "source": [
    "grid_search.score(X_test, y_test)"
   ]
  },
  {
   "cell_type": "code",
   "execution_count": 666,
   "metadata": {},
   "outputs": [],
   "source": [
    "predictions = grid_search.predict(X_test)"
   ]
  },
  {
   "cell_type": "code",
   "execution_count": 667,
   "metadata": {},
   "outputs": [
    {
     "name": "stdout",
     "output_type": "stream",
     "text": [
      "              precision    recall  f1-score   support\n",
      "\n",
      "        Dune       0.62      1.00      0.77        15\n",
      "    Headland       1.00      0.94      0.97        18\n",
      "   Tableland       1.00      0.50      0.67        16\n",
      "    Woodland       1.00      1.00      1.00        31\n",
      "\n",
      "    accuracy                           0.89        80\n",
      "   macro avg       0.91      0.86      0.85        80\n",
      "weighted avg       0.93      0.89      0.88        80\n",
      "\n"
     ]
    }
   ],
   "source": [
    "print(classification_report(y_test, predictions))"
   ]
  },
  {
   "cell_type": "code",
   "execution_count": 668,
   "metadata": {},
   "outputs": [
    {
     "data": {
      "text/plain": [
       "<sklearn.metrics._plot.confusion_matrix.ConfusionMatrixDisplay at 0x1ff688d6248>"
      ]
     },
     "execution_count": 668,
     "metadata": {},
     "output_type": "execute_result"
    },
    {
     "data": {
      "image/png": "[encoded data removed]",
      "text/plain": [
       "<Figure size 432x288 with 2 Axes>"
      ]
     },
     "metadata": {
      "needs_background": "light"
     },
     "output_type": "display_data"
    }
   ],
   "source": [
    "ConfusionMatrixDisplay.from_predictions(y_test, predictions)"
   ]
  },
  {
   "cell_type": "code",
   "execution_count": null,
   "metadata": {},
   "outputs": [],
   "source": []
  },
  {
   "cell_type": "markdown",
   "metadata": {},
   "source": [
    "## Softmax (multiclass logistic) regression "
   ]
  },
  {
   "cell_type": "code",
   "execution_count": 81,
   "metadata": {},
   "outputs": [],
   "source": [
    "from sklearn.linear_model import LogisticRegression"
   ]
  },
  {
   "cell_type": "code",
   "execution_count": 82,
   "metadata": {},
   "outputs": [],
   "source": [
    "softmax_clf = LogisticRegression(multi_class = \"multinomial\", max_iter=1000)"
   ]
  },
  {
   "cell_type": "code",
   "execution_count": 83,
   "metadata": {},
   "outputs": [
    {
     "data": {
      "text/html": [
       "<style>#sk-container-id-7 {color: black;}#sk-container-id-7 pre{padding: 0;}#sk-container-id-7 div.sk-toggleable {background-color: white;}#sk-container-id-7 label.sk-toggleable__label {cursor: pointer;display: block;width: 100%;margin-bottom: 0;padding: 0.3em;box-sizing: border-box;text-align: center;}#sk-container-id-7 label.sk-toggleable__label-arrow:before {content: \"▸\";float: left;margin-right: 0.25em;color: #696969;}#sk-container-id-7 label.sk-toggleable__label-arrow:hover:before {color: black;}#sk-container-id-7 div.sk-estimator:hover label.sk-toggleable__label-arrow:before {color: black;}#sk-container-id-7 div.sk-toggleable__content {max-height: 0;max-width: 0;overflow: hidden;text-align: left;background-color: #f0f8ff;}#sk-container-id-7 div.sk-toggleable__content pre {margin: 0.2em;color: black;border-radius: 0.25em;background-color: #f0f8ff;}#sk-container-id-7 input.sk-toggleable__control:checked~div.sk-toggleable__content {max-height: 200px;max-width: 100%;overflow: auto;}#sk-container-id-7 input.sk-toggleable__control:checked~label.sk-toggleable__label-arrow:before {content: \"▾\";}#sk-container-id-7 div.sk-estimator input.sk-toggleable__control:checked~label.sk-toggleable__label {background-color: #d4ebff;}#sk-container-id-7 div.sk-label input.sk-toggleable__control:checked~label.sk-toggleable__label {background-color: #d4ebff;}#sk-container-id-7 input.sk-hidden--visually {border: 0;clip: rect(1px 1px 1px 1px);clip: rect(1px, 1px, 1px, 1px);height: 1px;margin: -1px;overflow: hidden;padding: 0;position: absolute;width: 1px;}#sk-container-id-7 div.sk-estimator {font-family: monospace;background-color: #f0f8ff;border: 1px dotted black;border-radius: 0.25em;box-sizing: border-box;margin-bottom: 0.5em;}#sk-container-id-7 div.sk-estimator:hover {background-color: #d4ebff;}#sk-container-id-7 div.sk-parallel-item::after {content: \"\";width: 100%;border-bottom: 1px solid gray;flex-grow: 1;}#sk-container-id-7 div.sk-label:hover label.sk-toggleable__label {background-color: #d4ebff;}#sk-container-id-7 div.sk-serial::before {content: \"\";position: absolute;border-left: 1px solid gray;box-sizing: border-box;top: 0;bottom: 0;left: 50%;z-index: 0;}#sk-container-id-7 div.sk-serial {display: flex;flex-direction: column;align-items: center;background-color: white;padding-right: 0.2em;padding-left: 0.2em;position: relative;}#sk-container-id-7 div.sk-item {position: relative;z-index: 1;}#sk-container-id-7 div.sk-parallel {display: flex;align-items: stretch;justify-content: center;background-color: white;position: relative;}#sk-container-id-7 div.sk-item::before, #sk-container-id-7 div.sk-parallel-item::before {content: \"\";position: absolute;border-left: 1px solid gray;box-sizing: border-box;top: 0;bottom: 0;left: 50%;z-index: -1;}#sk-container-id-7 div.sk-parallel-item {display: flex;flex-direction: column;z-index: 1;position: relative;background-color: white;}#sk-container-id-7 div.sk-parallel-item:first-child::after {align-self: flex-end;width: 50%;}#sk-container-id-7 div.sk-parallel-item:last-child::after {align-self: flex-start;width: 50%;}#sk-container-id-7 div.sk-parallel-item:only-child::after {width: 0;}#sk-container-id-7 div.sk-dashed-wrapped {border: 1px dashed gray;margin: 0 0.4em 0.5em 0.4em;box-sizing: border-box;padding-bottom: 0.4em;background-color: white;}#sk-container-id-7 div.sk-label label {font-family: monospace;font-weight: bold;display: inline-block;line-height: 1.2em;}#sk-container-id-7 div.sk-label-container {text-align: center;}#sk-container-id-7 div.sk-container {/* jupyter's `normalize.less` sets `[hidden] { display: none; }` but bootstrap.min.css set `[hidden] { display: none !important; }` so we also need the `!important` here to be able to override the default hidden behavior on the sphinx rendered scikit-learn.org. See: https://github.com/scikit-learn/scikit-learn/issues/21755 */display: inline-block !important;position: relative;}#sk-container-id-7 div.sk-text-repr-fallback {display: none;}</style><div id=\"sk-container-id-7\" class=\"sk-top-container\"><div class=\"sk-text-repr-fallback\"><pre>LogisticRegression(max_iter=1000, multi_class=&#x27;multinomial&#x27;)</pre><b>In a Jupyter environment, please rerun this cell to show the HTML representation or trust the notebook. <br />On GitHub, the HTML representation is unable to render, please try loading this page with nbviewer.org.</b></div><div class=\"sk-container\" hidden><div class=\"sk-item\"><div class=\"sk-estimator sk-toggleable\"><input class=\"sk-toggleable__control sk-hidden--visually\" id=\"sk-estimator-id-7\" type=\"checkbox\" checked><label for=\"sk-estimator-id-7\" class=\"sk-toggleable__label sk-toggleable__label-arrow\">LogisticRegression</label><div class=\"sk-toggleable__content\"><pre>LogisticRegression(max_iter=1000, multi_class=&#x27;multinomial&#x27;)</pre></div></div></div></div></div>"
      ],
      "text/plain": [
       "LogisticRegression(max_iter=1000, multi_class='multinomial')"
      ]
     },
     "execution_count": 83,
     "metadata": {},
     "output_type": "execute_result"
    }
   ],
   "source": [
    "softmax_clf.fit(X_train, y_train)"
   ]
  },
  {
   "cell_type": "code",
   "execution_count": 84,
   "metadata": {},
   "outputs": [],
   "source": [
    "predictions = softmax_clf.predict(X_test)"
   ]
  },
  {
   "cell_type": "code",
   "execution_count": 85,
   "metadata": {},
   "outputs": [
    {
     "name": "stdout",
     "output_type": "stream",
     "text": [
      "              precision    recall  f1-score   support\n",
      "\n",
      "        Dune       0.72      0.93      0.81        14\n",
      "    Headland       1.00      1.00      1.00        24\n",
      "   Tableland       0.93      0.74      0.82        19\n",
      "    Woodland       1.00      1.00      1.00        23\n",
      "\n",
      "    accuracy                           0.93        80\n",
      "   macro avg       0.91      0.92      0.91        80\n",
      "weighted avg       0.94      0.93      0.93        80\n",
      "\n"
     ]
    }
   ],
   "source": [
    "print(classification_report(y_test, predictions))"
   ]
  },
  {
   "cell_type": "code",
   "execution_count": 130,
   "metadata": {},
   "outputs": [
    {
     "data": {
      "text/plain": [
       "<sklearn.metrics._plot.confusion_matrix.ConfusionMatrixDisplay at 0x26e2fc6f648>"
      ]
     },
     "execution_count": 130,
     "metadata": {},
     "output_type": "execute_result"
    },
    {
     "data": {
      "image/png": "[encoded data removed]",
      "text/plain": [
       "<Figure size 432x288 with 2 Axes>"
      ]
     },
     "metadata": {
      "needs_background": "light"
     },
     "output_type": "display_data"
    }
   ],
   "source": [
    "ConfusionMatrixDisplay.from_predictions(y_test, predictions)\n",
    "#ConfusionMatrixDisplay.from_predictions(y_test.argmax(axis=1), predictions.argmax(axis=1))"
   ]
  },
  {
   "cell_type": "markdown",
   "metadata": {},
   "source": [
    "### Decision trees"
   ]
  },
  {
   "cell_type": "code",
   "execution_count": 88,
   "metadata": {},
   "outputs": [],
   "source": [
    "from sklearn.tree import DecisionTreeClassifier"
   ]
  },
  {
   "cell_type": "code",
   "execution_count": 89,
   "metadata": {},
   "outputs": [],
   "source": [
    "tree_clf = DecisionTreeClassifier(max_depth=3)"
   ]
  },
  {
   "cell_type": "code",
   "execution_count": 133,
   "metadata": {},
   "outputs": [
    {
     "data": {
      "text/plain": [
       "DecisionTreeClassifier(max_depth=3)"
      ]
     },
     "execution_count": 133,
     "metadata": {},
     "output_type": "execute_result"
    }
   ],
   "source": [
    "tree_clf.fit(X_train, y_train)"
   ]
  },
  {
   "cell_type": "code",
   "execution_count": 134,
   "metadata": {},
   "outputs": [],
   "source": [
    "predictions = tree_clf.predict(X_test)"
   ]
  },
  {
   "cell_type": "code",
   "execution_count": 135,
   "metadata": {},
   "outputs": [
    {
     "name": "stdout",
     "output_type": "stream",
     "text": [
      "              precision    recall  f1-score   support\n",
      "\n",
      "        Dune       0.69      0.95      0.80        21\n",
      "    Headland       1.00      0.95      0.98        22\n",
      "   Tableland       0.92      0.58      0.71        19\n",
      "    Woodland       1.00      1.00      1.00        18\n",
      "\n",
      "    accuracy                           0.88        80\n",
      "   macro avg       0.90      0.87      0.87        80\n",
      "weighted avg       0.90      0.88      0.87        80\n",
      "\n"
     ]
    }
   ],
   "source": [
    "print(classification_report(y_test, predictions))"
   ]
  },
  {
   "cell_type": "code",
   "execution_count": 136,
   "metadata": {},
   "outputs": [
    {
     "data": {
      "text/plain": [
       "<sklearn.metrics._plot.confusion_matrix.ConfusionMatrixDisplay at 0x26e310bb888>"
      ]
     },
     "execution_count": 136,
     "metadata": {},
     "output_type": "execute_result"
    },
    {
     "data": {
      "image/png": "[encoded data removed]",
      "text/plain": [
       "<Figure size 432x288 with 2 Axes>"
      ]
     },
     "metadata": {
      "needs_background": "light"
     },
     "output_type": "display_data"
    }
   ],
   "source": [
    "ConfusionMatrixDisplay.from_predictions(y_test, predictions)"
   ]
  },
  {
   "cell_type": "markdown",
   "metadata": {},
   "source": [
    "### Visualise the decision tree"
   ]
  },
  {
   "cell_type": "code",
   "execution_count": 137,
   "metadata": {},
   "outputs": [
    {
     "data": {
      "image/svg+xml": [
       "<?xml version=\"1.0\" encoding=\"UTF-8\" standalone=\"no\"?>\r\n",
       "<!DOCTYPE svg PUBLIC \"-//W3C//DTD SVG 1.1//EN\"\r\n",
       " \"http://www.w3.org/Graphics/SVG/1.1/DTD/svg11.dtd\">\r\n",
       "<!-- Generated by graphviz version 2.47.0 (20210316.0004)\r\n",
       " -->\r\n",
       "<!-- Title: Tree Pages: 1 -->\r\n",
       "<svg width=\"466pt\" height=\"433pt\"\r\n",
       " viewBox=\"0.00 0.00 466.00 433.00\" xmlns=\"http://www.w3.org/2000/svg\" xmlns:xlink=\"http://www.w3.org/1999/xlink\">\r\n",
       "<g id=\"graph0\" class=\"graph\" transform=\"scale(1 1) rotate(0) translate(4 429)\">\r\n",
       "<title>Tree</title>\r\n",
       "<polygon fill=\"white\" stroke=\"transparent\" points=\"-4,4 -4,-429 462,-429 462,4 -4,4\"/>\r\n",
       "<!-- 0 -->\r\n",
       "<g id=\"node1\" class=\"node\">\r\n",
       "<title>0</title>\r\n",
       "<path fill=\"#fdfffd\" stroke=\"black\" d=\"M218,-425C218,-425 81,-425 81,-425 75,-425 69,-419 69,-413 69,-413 69,-354 69,-354 69,-348 75,-342 81,-342 81,-342 218,-342 218,-342 224,-342 230,-348 230,-354 230,-354 230,-413 230,-413 230,-419 224,-425 218,-425\"/>\r\n",
       "<text text-anchor=\"middle\" x=\"149.5\" y=\"-409.8\" font-family=\"Helvetica,sans-Serif\" font-size=\"14.00\">Circularity &lt;= 24.897</text>\r\n",
       "<text text-anchor=\"middle\" x=\"149.5\" y=\"-394.8\" font-family=\"Helvetica,sans-Serif\" font-size=\"14.00\">gini = 0.75</text>\r\n",
       "<text text-anchor=\"middle\" x=\"149.5\" y=\"-379.8\" font-family=\"Helvetica,sans-Serif\" font-size=\"14.00\">samples = 162</text>\r\n",
       "<text text-anchor=\"middle\" x=\"149.5\" y=\"-364.8\" font-family=\"Helvetica,sans-Serif\" font-size=\"14.00\">value = [40, 42, 39, 41]</text>\r\n",
       "<text text-anchor=\"middle\" x=\"149.5\" y=\"-349.8\" font-family=\"Helvetica,sans-Serif\" font-size=\"14.00\">class = Headland</text>\r\n",
       "</g>\r\n",
       "<!-- 1 -->\r\n",
       "<g id=\"node2\" class=\"node\">\r\n",
       "<title>1</title>\r\n",
       "<path fill=\"#d739e5\" stroke=\"black\" d=\"M125,-298.5C125,-298.5 12,-298.5 12,-298.5 6,-298.5 0,-292.5 0,-286.5 0,-286.5 0,-242.5 0,-242.5 0,-236.5 6,-230.5 12,-230.5 12,-230.5 125,-230.5 125,-230.5 131,-230.5 137,-236.5 137,-242.5 137,-242.5 137,-286.5 137,-286.5 137,-292.5 131,-298.5 125,-298.5\"/>\r\n",
       "<text text-anchor=\"middle\" x=\"68.5\" y=\"-283.3\" font-family=\"Helvetica,sans-Serif\" font-size=\"14.00\">gini = 0.0</text>\r\n",
       "<text text-anchor=\"middle\" x=\"68.5\" y=\"-268.3\" font-family=\"Helvetica,sans-Serif\" font-size=\"14.00\">samples = 41</text>\r\n",
       "<text text-anchor=\"middle\" x=\"68.5\" y=\"-253.3\" font-family=\"Helvetica,sans-Serif\" font-size=\"14.00\">value = [0, 0, 0, 41]</text>\r\n",
       "<text text-anchor=\"middle\" x=\"68.5\" y=\"-238.3\" font-family=\"Helvetica,sans-Serif\" font-size=\"14.00\">class = Woodland</text>\r\n",
       "</g>\r\n",
       "<!-- 0&#45;&gt;1 -->\r\n",
       "<g id=\"edge1\" class=\"edge\">\r\n",
       "<title>0&#45;&gt;1</title>\r\n",
       "<path fill=\"none\" stroke=\"black\" d=\"M121.4,-341.91C113.61,-330.65 105.14,-318.42 97.3,-307.11\"/>\r\n",
       "<polygon fill=\"black\" stroke=\"black\" points=\"100.03,-304.9 91.46,-298.67 94.28,-308.88 100.03,-304.9\"/>\r\n",
       "<text text-anchor=\"middle\" x=\"86.99\" y=\"-319.56\" font-family=\"Helvetica,sans-Serif\" font-size=\"14.00\">True</text>\r\n",
       "</g>\r\n",
       "<!-- 2 -->\r\n",
       "<g id=\"node3\" class=\"node\">\r\n",
       "<title>2</title>\r\n",
       "<path fill=\"#fafefa\" stroke=\"black\" d=\"M296,-306C296,-306 167,-306 167,-306 161,-306 155,-300 155,-294 155,-294 155,-235 155,-235 155,-229 161,-223 167,-223 167,-223 296,-223 296,-223 302,-223 308,-229 308,-235 308,-235 308,-294 308,-294 308,-300 302,-306 296,-306\"/>\r\n",
       "<text text-anchor=\"middle\" x=\"231.5\" y=\"-290.8\" font-family=\"Helvetica,sans-Serif\" font-size=\"14.00\">VegHeight &lt;= 207.0</text>\r\n",
       "<text text-anchor=\"middle\" x=\"231.5\" y=\"-275.8\" font-family=\"Helvetica,sans-Serif\" font-size=\"14.00\">gini = 0.666</text>\r\n",
       "<text text-anchor=\"middle\" x=\"231.5\" y=\"-260.8\" font-family=\"Helvetica,sans-Serif\" font-size=\"14.00\">samples = 121</text>\r\n",
       "<text text-anchor=\"middle\" x=\"231.5\" y=\"-245.8\" font-family=\"Helvetica,sans-Serif\" font-size=\"14.00\">value = [40, 42, 39, 0]</text>\r\n",
       "<text text-anchor=\"middle\" x=\"231.5\" y=\"-230.8\" font-family=\"Helvetica,sans-Serif\" font-size=\"14.00\">class = Headland</text>\r\n",
       "</g>\r\n",
       "<!-- 0&#45;&gt;2 -->\r\n",
       "<g id=\"edge2\" class=\"edge\">\r\n",
       "<title>0&#45;&gt;2</title>\r\n",
       "<path fill=\"none\" stroke=\"black\" d=\"M177.95,-341.91C184.18,-333.01 190.84,-323.51 197.28,-314.33\"/>\r\n",
       "<polygon fill=\"black\" stroke=\"black\" points=\"200.23,-316.22 203.1,-306.02 194.5,-312.2 200.23,-316.22\"/>\r\n",
       "<text text-anchor=\"middle\" x=\"207.43\" y=\"-326.94\" font-family=\"Helvetica,sans-Serif\" font-size=\"14.00\">False</text>\r\n",
       "</g>\r\n",
       "<!-- 3 -->\r\n",
       "<g id=\"node4\" class=\"node\">\r\n",
       "<title>3</title>\r\n",
       "<path fill=\"#47e539\" stroke=\"black\" d=\"M208,-179.5C208,-179.5 95,-179.5 95,-179.5 89,-179.5 83,-173.5 83,-167.5 83,-167.5 83,-123.5 83,-123.5 83,-117.5 89,-111.5 95,-111.5 95,-111.5 208,-111.5 208,-111.5 214,-111.5 220,-117.5 220,-123.5 220,-123.5 220,-167.5 220,-167.5 220,-173.5 214,-179.5 208,-179.5\"/>\r\n",
       "<text text-anchor=\"middle\" x=\"151.5\" y=\"-164.3\" font-family=\"Helvetica,sans-Serif\" font-size=\"14.00\">gini = 0.0</text>\r\n",
       "<text text-anchor=\"middle\" x=\"151.5\" y=\"-149.3\" font-family=\"Helvetica,sans-Serif\" font-size=\"14.00\">samples = 41</text>\r\n",
       "<text text-anchor=\"middle\" x=\"151.5\" y=\"-134.3\" font-family=\"Helvetica,sans-Serif\" font-size=\"14.00\">value = [0, 41, 0, 0]</text>\r\n",
       "<text text-anchor=\"middle\" x=\"151.5\" y=\"-119.3\" font-family=\"Helvetica,sans-Serif\" font-size=\"14.00\">class = Headland</text>\r\n",
       "</g>\r\n",
       "<!-- 2&#45;&gt;3 -->\r\n",
       "<g id=\"edge3\" class=\"edge\">\r\n",
       "<title>2&#45;&gt;3</title>\r\n",
       "<path fill=\"none\" stroke=\"black\" d=\"M203.74,-222.91C196.05,-211.65 187.68,-199.42 179.95,-188.11\"/>\r\n",
       "<polygon fill=\"black\" stroke=\"black\" points=\"182.71,-185.95 174.18,-179.67 176.93,-189.9 182.71,-185.95\"/>\r\n",
       "</g>\r\n",
       "<!-- 4 -->\r\n",
       "<g id=\"node5\" class=\"node\">\r\n",
       "<title>4</title>\r\n",
       "<path fill=\"#fefcfa\" stroke=\"black\" d=\"M371,-187C371,-187 250,-187 250,-187 244,-187 238,-181 238,-175 238,-175 238,-116 238,-116 238,-110 244,-104 250,-104 250,-104 371,-104 371,-104 377,-104 383,-110 383,-116 383,-116 383,-175 383,-175 383,-181 377,-187 371,-187\"/>\r\n",
       "<text text-anchor=\"middle\" x=\"310.5\" y=\"-171.8\" font-family=\"Helvetica,sans-Serif\" font-size=\"14.00\">VegHeight &lt;= 481.5</text>\r\n",
       "<text text-anchor=\"middle\" x=\"310.5\" y=\"-156.8\" font-family=\"Helvetica,sans-Serif\" font-size=\"14.00\">gini = 0.512</text>\r\n",
       "<text text-anchor=\"middle\" x=\"310.5\" y=\"-141.8\" font-family=\"Helvetica,sans-Serif\" font-size=\"14.00\">samples = 80</text>\r\n",
       "<text text-anchor=\"middle\" x=\"310.5\" y=\"-126.8\" font-family=\"Helvetica,sans-Serif\" font-size=\"14.00\">value = [40, 1, 39, 0]</text>\r\n",
       "<text text-anchor=\"middle\" x=\"310.5\" y=\"-111.8\" font-family=\"Helvetica,sans-Serif\" font-size=\"14.00\">class = Dune</text>\r\n",
       "</g>\r\n",
       "<!-- 2&#45;&gt;4 -->\r\n",
       "<g id=\"edge4\" class=\"edge\">\r\n",
       "<title>2&#45;&gt;4</title>\r\n",
       "<path fill=\"none\" stroke=\"black\" d=\"M258.91,-222.91C264.91,-214.01 271.33,-204.51 277.53,-195.33\"/>\r\n",
       "<polygon fill=\"black\" stroke=\"black\" points=\"280.44,-197.27 283.14,-187.02 274.64,-193.35 280.44,-197.27\"/>\r\n",
       "</g>\r\n",
       "<!-- 5 -->\r\n",
       "<g id=\"node6\" class=\"node\">\r\n",
       "<title>5</title>\r\n",
       "<path fill=\"#efb286\" stroke=\"black\" d=\"M291,-68C291,-68 170,-68 170,-68 164,-68 158,-62 158,-56 158,-56 158,-12 158,-12 158,-6 164,0 170,0 170,0 291,0 291,0 297,0 303,-6 303,-12 303,-12 303,-56 303,-56 303,-62 297,-68 291,-68\"/>\r\n",
       "<text text-anchor=\"middle\" x=\"230.5\" y=\"-52.8\" font-family=\"Helvetica,sans-Serif\" font-size=\"14.00\">gini = 0.418</text>\r\n",
       "<text text-anchor=\"middle\" x=\"230.5\" y=\"-37.8\" font-family=\"Helvetica,sans-Serif\" font-size=\"14.00\">samples = 56</text>\r\n",
       "<text text-anchor=\"middle\" x=\"230.5\" y=\"-22.8\" font-family=\"Helvetica,sans-Serif\" font-size=\"14.00\">value = [40, 1, 15, 0]</text>\r\n",
       "<text text-anchor=\"middle\" x=\"230.5\" y=\"-7.8\" font-family=\"Helvetica,sans-Serif\" font-size=\"14.00\">class = Dune</text>\r\n",
       "</g>\r\n",
       "<!-- 4&#45;&gt;5 -->\r\n",
       "<g id=\"edge5\" class=\"edge\">\r\n",
       "<title>4&#45;&gt;5</title>\r\n",
       "<path fill=\"none\" stroke=\"black\" d=\"M280.71,-103.73C274.25,-94.88 267.4,-85.51 260.91,-76.63\"/>\r\n",
       "<polygon fill=\"black\" stroke=\"black\" points=\"263.55,-74.31 254.83,-68.3 257.9,-78.44 263.55,-74.31\"/>\r\n",
       "</g>\r\n",
       "<!-- 6 -->\r\n",
       "<g id=\"node7\" class=\"node\">\r\n",
       "<title>6</title>\r\n",
       "<path fill=\"#399de5\" stroke=\"black\" d=\"M446,-68C446,-68 333,-68 333,-68 327,-68 321,-62 321,-56 321,-56 321,-12 321,-12 321,-6 327,0 333,0 333,0 446,0 446,0 452,0 458,-6 458,-12 458,-12 458,-56 458,-56 458,-62 452,-68 446,-68\"/>\r\n",
       "<text text-anchor=\"middle\" x=\"389.5\" y=\"-52.8\" font-family=\"Helvetica,sans-Serif\" font-size=\"14.00\">gini = 0.0</text>\r\n",
       "<text text-anchor=\"middle\" x=\"389.5\" y=\"-37.8\" font-family=\"Helvetica,sans-Serif\" font-size=\"14.00\">samples = 24</text>\r\n",
       "<text text-anchor=\"middle\" x=\"389.5\" y=\"-22.8\" font-family=\"Helvetica,sans-Serif\" font-size=\"14.00\">value = [0, 0, 24, 0]</text>\r\n",
       "<text text-anchor=\"middle\" x=\"389.5\" y=\"-7.8\" font-family=\"Helvetica,sans-Serif\" font-size=\"14.00\">class = Tableland</text>\r\n",
       "</g>\r\n",
       "<!-- 4&#45;&gt;6 -->\r\n",
       "<g id=\"edge6\" class=\"edge\">\r\n",
       "<title>4&#45;&gt;6</title>\r\n",
       "<path fill=\"none\" stroke=\"black\" d=\"M339.92,-103.73C346.3,-94.88 353.06,-85.51 359.47,-76.63\"/>\r\n",
       "<polygon fill=\"black\" stroke=\"black\" points=\"362.46,-78.46 365.48,-68.3 356.79,-74.36 362.46,-78.46\"/>\r\n",
       "</g>\r\n",
       "</g>\r\n",
       "</svg>\r\n"
      ],
      "text/plain": [
       "<graphviz.files.Source at 0x26e31195108>"
      ]
     },
     "metadata": {},
     "output_type": "display_data"
    }
   ],
   "source": [
    "from sklearn.tree import export_graphviz\n",
    "\n",
    "export_graphviz(\n",
    "    tree_clf,\n",
    "    out_file=\"senecio_tree.dot\",\n",
    "    feature_names=X.columns,\n",
    "    class_names=np.unique(eco['Ecotype']),\n",
    "    rounded=True,\n",
    "    filled=True)\n",
    "\n",
    "import graphviz\n",
    "\n",
    "with open(\"senecio_tree.dot\") as f:\n",
    "    dot_graph = f.read()\n",
    "display(graphviz.Source(dot_graph))"
   ]
  },
  {
   "cell_type": "markdown",
   "metadata": {},
   "source": [
    "### Check Important features"
   ]
  },
  {
   "cell_type": "code",
   "execution_count": 138,
   "metadata": {},
   "outputs": [
    {
     "data": {
      "text/html": [
       "<div>\n",
       "<style scoped>\n",
       "    .dataframe tbody tr th:only-of-type {\n",
       "        vertical-align: middle;\n",
       "    }\n",
       "\n",
       "    .dataframe tbody tr th {\n",
       "        vertical-align: top;\n",
       "    }\n",
       "\n",
       "    .dataframe thead th {\n",
       "        text-align: right;\n",
       "    }\n",
       "</style>\n",
       "<table border=\"1\" class=\"dataframe\">\n",
       "  <thead>\n",
       "    <tr style=\"text-align: right;\">\n",
       "      <th></th>\n",
       "      <th>feature</th>\n",
       "      <th>importance</th>\n",
       "    </tr>\n",
       "  </thead>\n",
       "  <tbody>\n",
       "    <tr>\n",
       "      <th>0</th>\n",
       "      <td>VegHeight</td>\n",
       "      <td>0.583579</td>\n",
       "    </tr>\n",
       "    <tr>\n",
       "      <th>1</th>\n",
       "      <td>Circularity</td>\n",
       "      <td>0.416421</td>\n",
       "    </tr>\n",
       "  </tbody>\n",
       "</table>\n",
       "</div>"
      ],
      "text/plain": [
       "       feature  importance\n",
       "0    VegHeight    0.583579\n",
       "1  Circularity    0.416421"
      ]
     },
     "execution_count": 138,
     "metadata": {},
     "output_type": "execute_result"
    }
   ],
   "source": [
    "feature_importances_df = pd.DataFrame(\n",
    "    {\"feature\": list(X.columns), \"importance\": tree_clf.feature_importances_}\n",
    ").sort_values(\"importance\", ascending=False)\n",
    "\n",
    "# Display\n",
    "feature_importances_df"
   ]
  },
  {
   "cell_type": "markdown",
   "metadata": {},
   "source": [
    "## Neural networks (multi-layer perceptron)"
   ]
  },
  {
   "cell_type": "code",
   "execution_count": 183,
   "metadata": {},
   "outputs": [],
   "source": [
    "from sklearn.neural_network import MLPClassifier"
   ]
  },
  {
   "cell_type": "code",
   "execution_count": 184,
   "metadata": {},
   "outputs": [],
   "source": [
    "NN_clf = MLPClassifier(max_iter=1000, hidden_layer_sizes=(150,100,50), random_state=1)"
   ]
  },
  {
   "cell_type": "code",
   "execution_count": 185,
   "metadata": {},
   "outputs": [
    {
     "data": {
      "text/html": [
       "<style>#sk-container-id-28 {color: black;}#sk-container-id-28 pre{padding: 0;}#sk-container-id-28 div.sk-toggleable {background-color: white;}#sk-container-id-28 label.sk-toggleable__label {cursor: pointer;display: block;width: 100%;margin-bottom: 0;padding: 0.3em;box-sizing: border-box;text-align: center;}#sk-container-id-28 label.sk-toggleable__label-arrow:before {content: \"▸\";float: left;margin-right: 0.25em;color: #696969;}#sk-container-id-28 label.sk-toggleable__label-arrow:hover:before {color: black;}#sk-container-id-28 div.sk-estimator:hover label.sk-toggleable__label-arrow:before {color: black;}#sk-container-id-28 div.sk-toggleable__content {max-height: 0;max-width: 0;overflow: hidden;text-align: left;background-color: #f0f8ff;}#sk-container-id-28 div.sk-toggleable__content pre {margin: 0.2em;color: black;border-radius: 0.25em;background-color: #f0f8ff;}#sk-container-id-28 input.sk-toggleable__control:checked~div.sk-toggleable__content {max-height: 200px;max-width: 100%;overflow: auto;}#sk-container-id-28 input.sk-toggleable__control:checked~label.sk-toggleable__label-arrow:before {content: \"▾\";}#sk-container-id-28 div.sk-estimator input.sk-toggleable__control:checked~label.sk-toggleable__label {background-color: #d4ebff;}#sk-container-id-28 div.sk-label input.sk-toggleable__control:checked~label.sk-toggleable__label {background-color: #d4ebff;}#sk-container-id-28 input.sk-hidden--visually {border: 0;clip: rect(1px 1px 1px 1px);clip: rect(1px, 1px, 1px, 1px);height: 1px;margin: -1px;overflow: hidden;padding: 0;position: absolute;width: 1px;}#sk-container-id-28 div.sk-estimator {font-family: monospace;background-color: #f0f8ff;border: 1px dotted black;border-radius: 0.25em;box-sizing: border-box;margin-bottom: 0.5em;}#sk-container-id-28 div.sk-estimator:hover {background-color: #d4ebff;}#sk-container-id-28 div.sk-parallel-item::after {content: \"\";width: 100%;border-bottom: 1px solid gray;flex-grow: 1;}#sk-container-id-28 div.sk-label:hover label.sk-toggleable__label {background-color: #d4ebff;}#sk-container-id-28 div.sk-serial::before {content: \"\";position: absolute;border-left: 1px solid gray;box-sizing: border-box;top: 0;bottom: 0;left: 50%;z-index: 0;}#sk-container-id-28 div.sk-serial {display: flex;flex-direction: column;align-items: center;background-color: white;padding-right: 0.2em;padding-left: 0.2em;position: relative;}#sk-container-id-28 div.sk-item {position: relative;z-index: 1;}#sk-container-id-28 div.sk-parallel {display: flex;align-items: stretch;justify-content: center;background-color: white;position: relative;}#sk-container-id-28 div.sk-item::before, #sk-container-id-28 div.sk-parallel-item::before {content: \"\";position: absolute;border-left: 1px solid gray;box-sizing: border-box;top: 0;bottom: 0;left: 50%;z-index: -1;}#sk-container-id-28 div.sk-parallel-item {display: flex;flex-direction: column;z-index: 1;position: relative;background-color: white;}#sk-container-id-28 div.sk-parallel-item:first-child::after {align-self: flex-end;width: 50%;}#sk-container-id-28 div.sk-parallel-item:last-child::after {align-self: flex-start;width: 50%;}#sk-container-id-28 div.sk-parallel-item:only-child::after {width: 0;}#sk-container-id-28 div.sk-dashed-wrapped {border: 1px dashed gray;margin: 0 0.4em 0.5em 0.4em;box-sizing: border-box;padding-bottom: 0.4em;background-color: white;}#sk-container-id-28 div.sk-label label {font-family: monospace;font-weight: bold;display: inline-block;line-height: 1.2em;}#sk-container-id-28 div.sk-label-container {text-align: center;}#sk-container-id-28 div.sk-container {/* jupyter's `normalize.less` sets `[hidden] { display: none; }` but bootstrap.min.css set `[hidden] { display: none !important; }` so we also need the `!important` here to be able to override the default hidden behavior on the sphinx rendered scikit-learn.org. See: https://github.com/scikit-learn/scikit-learn/issues/21755 */display: inline-block !important;position: relative;}#sk-container-id-28 div.sk-text-repr-fallback {display: none;}</style><div id=\"sk-container-id-28\" class=\"sk-top-container\"><div class=\"sk-text-repr-fallback\"><pre>MLPClassifier(hidden_layer_sizes=(150, 100, 50), max_iter=1000, random_state=1)</pre><b>In a Jupyter environment, please rerun this cell to show the HTML representation or trust the notebook. <br />On GitHub, the HTML representation is unable to render, please try loading this page with nbviewer.org.</b></div><div class=\"sk-container\" hidden><div class=\"sk-item\"><div class=\"sk-estimator sk-toggleable\"><input class=\"sk-toggleable__control sk-hidden--visually\" id=\"sk-estimator-id-28\" type=\"checkbox\" checked><label for=\"sk-estimator-id-28\" class=\"sk-toggleable__label sk-toggleable__label-arrow\">MLPClassifier</label><div class=\"sk-toggleable__content\"><pre>MLPClassifier(hidden_layer_sizes=(150, 100, 50), max_iter=1000, random_state=1)</pre></div></div></div></div></div>"
      ],
      "text/plain": [
       "MLPClassifier(hidden_layer_sizes=(150, 100, 50), max_iter=1000, random_state=1)"
      ]
     },
     "execution_count": 185,
     "metadata": {},
     "output_type": "execute_result"
    }
   ],
   "source": [
    "NN_clf.fit(X_train, y_train)"
   ]
  },
  {
   "cell_type": "code",
   "execution_count": 186,
   "metadata": {},
   "outputs": [],
   "source": [
    "predictions = NN_clf.predict(X_test)"
   ]
  },
  {
   "cell_type": "code",
   "execution_count": 187,
   "metadata": {},
   "outputs": [
    {
     "name": "stdout",
     "output_type": "stream",
     "text": [
      "              precision    recall  f1-score   support\n",
      "\n",
      "        Dune       0.62      0.93      0.74        14\n",
      "    Headland       1.00      0.92      0.96        24\n",
      "   Tableland       1.00      0.63      0.77        19\n",
      "    Woodland       0.92      1.00      0.96        23\n",
      "\n",
      "    accuracy                           0.88        80\n",
      "   macro avg       0.88      0.87      0.86        80\n",
      "weighted avg       0.91      0.88      0.88        80\n",
      "\n"
     ]
    }
   ],
   "source": [
    "print(classification_report(y_test, predictions))"
   ]
  },
  {
   "cell_type": "code",
   "execution_count": 188,
   "metadata": {},
   "outputs": [
    {
     "data": {
      "text/plain": [
       "<sklearn.metrics._plot.confusion_matrix.ConfusionMatrixDisplay at 0x21789929df0>"
      ]
     },
     "execution_count": 188,
     "metadata": {},
     "output_type": "execute_result"
    },
    {
     "data": {
      "image/png": "[encoded data removed]",
      "text/plain": [
       "<Figure size 432x288 with 2 Axes>"
      ]
     },
     "metadata": {
      "needs_background": "light"
     },
     "output_type": "display_data"
    }
   ],
   "source": [
    "ConfusionMatrixDisplay.from_predictions(y_test, predictions)"
   ]
  },
  {
   "cell_type": "code",
   "execution_count": null,
   "metadata": {},
   "outputs": [],
   "source": []
  },
  {
   "cell_type": "code",
   "execution_count": null,
   "metadata": {},
   "outputs": [],
   "source": []
  }
 ],
 "metadata": {
  "hide_input": false,
  "kernelspec": {
   "display_name": "Python 3 (ipykernel)",
   "language": "python",
   "name": "python3"
  },
  "language_info": {
   "codemirror_mode": {
    "name": "ipython",
    "version": 3
   },
   "file_extension": ".py",
   "mimetype": "text/x-python",
   "name": "python",
   "nbconvert_exporter": "python",
   "pygments_lexer": "ipython3",
   "version": "3.9.12"
  },
  "varInspector": {
   "cols": {
    "lenName": 16,
    "lenType": 16,
    "lenVar": 40
   },
   "kernels_config": {
    "python": {
     "delete_cmd_postfix": "",
     "delete_cmd_prefix": "del ",
     "library": "var_list.py",
     "varRefreshCmd": "print(var_dic_list())"
    },
    "r": {
     "delete_cmd_postfix": ") ",
     "delete_cmd_prefix": "rm(",
     "library": "var_list.r",
     "varRefreshCmd": "cat(var_dic_list()) "
    }
   },
   "types_to_exclude": [
    "module",
    "function",
    "builtin_function_or_method",
    "instance",
    "_Feature"
   ],
   "window_display": false
  }
 },
 "nbformat": 4,
 "nbformat_minor": 4
}
